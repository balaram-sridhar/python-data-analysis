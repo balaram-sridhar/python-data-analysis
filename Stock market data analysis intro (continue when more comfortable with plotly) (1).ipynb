{
 "cells": [
  {
   "cell_type": "markdown",
   "id": "93428f7a",
   "metadata": {},
   "source": [
    "# Stock Market Data practice"
   ]
  },
  {
   "cell_type": "markdown",
   "id": "2ab5c20a",
   "metadata": {},
   "source": [
    "## Intro \n",
    "**Aims:** import, read and visualise stock market data. <br> \n",
    "**Data source:** I will use pandas datareader, which gives me access to different financial data files. The advantage of using pandas-datareader is that it gets the data into pandas dataframe structure for me. <br>\n",
    "**Tools:** I will use pandas to manipulate the data, datatime since we want to specify a data range and, as mentioned above, pandas datareader.\n",
    "\n",
    "EDIT: panda-datareader install error so I used yfinance specifically instead"
   ]
  },
  {
   "cell_type": "markdown",
   "id": "f45e54d8",
   "metadata": {},
   "source": [
    "## Getting stock market data"
   ]
  },
  {
   "cell_type": "code",
   "execution_count": 12,
   "id": "162e3436",
   "metadata": {},
   "outputs": [
    {
     "name": "stdout",
     "output_type": "stream",
     "text": [
      "Collecting yfinance\n",
      "  Downloading yfinance-0.2.3-py2.py3-none-any.whl (50 kB)\n",
      "\u001b[K     |████████████████████████████████| 50 kB 2.2 MB/s eta 0:00:011\n",
      "\u001b[?25hRequirement already satisfied: appdirs>=1.4.4 in ./opt/anaconda3/lib/python3.9/site-packages (from yfinance) (1.4.4)\n",
      "Requirement already satisfied: beautifulsoup4>=4.11.1 in ./opt/anaconda3/lib/python3.9/site-packages (from yfinance) (4.11.1)\n",
      "Collecting multitasking>=0.0.7\n",
      "  Downloading multitasking-0.0.11-py3-none-any.whl (8.5 kB)\n",
      "Collecting lxml>=4.9.1\n",
      "  Downloading lxml-4.9.2-cp39-cp39-macosx_10_15_x86_64.whl (4.8 MB)\n",
      "\u001b[K     |████████████████████████████████| 4.8 MB 4.5 MB/s eta 0:00:01\n",
      "\u001b[?25hCollecting html5lib>=1.1\n",
      "  Downloading html5lib-1.1-py2.py3-none-any.whl (112 kB)\n",
      "\u001b[K     |████████████████████████████████| 112 kB 5.9 MB/s eta 0:00:01\n",
      "\u001b[?25hRequirement already satisfied: numpy>=1.16.5 in ./opt/anaconda3/lib/python3.9/site-packages (from yfinance) (1.21.5)\n",
      "Collecting pytz>=2022.5\n",
      "  Downloading pytz-2022.7-py2.py3-none-any.whl (499 kB)\n",
      "\u001b[K     |████████████████████████████████| 499 kB 6.5 MB/s eta 0:00:01\n",
      "\u001b[?25hRequirement already satisfied: cryptography>=3.3.2 in ./opt/anaconda3/lib/python3.9/site-packages (from yfinance) (3.4.8)\n",
      "Requirement already satisfied: pandas>=1.3.0 in ./opt/anaconda3/lib/python3.9/site-packages (from yfinance) (1.4.2)\n",
      "Requirement already satisfied: requests>=2.26 in ./opt/anaconda3/lib/python3.9/site-packages (from yfinance) (2.27.1)\n",
      "Collecting frozendict>=2.3.4\n",
      "  Downloading frozendict-2.3.4-cp39-cp39-macosx_10_9_x86_64.whl (33 kB)\n",
      "Requirement already satisfied: soupsieve>1.2 in ./opt/anaconda3/lib/python3.9/site-packages (from beautifulsoup4>=4.11.1->yfinance) (2.3.1)\n",
      "Requirement already satisfied: cffi>=1.12 in ./opt/anaconda3/lib/python3.9/site-packages (from cryptography>=3.3.2->yfinance) (1.15.0)\n",
      "Requirement already satisfied: pycparser in ./opt/anaconda3/lib/python3.9/site-packages (from cffi>=1.12->cryptography>=3.3.2->yfinance) (2.21)\n",
      "Requirement already satisfied: six>=1.9 in ./opt/anaconda3/lib/python3.9/site-packages (from html5lib>=1.1->yfinance) (1.16.0)\n",
      "Requirement already satisfied: webencodings in ./opt/anaconda3/lib/python3.9/site-packages (from html5lib>=1.1->yfinance) (0.5.1)\n",
      "Requirement already satisfied: python-dateutil>=2.8.1 in ./opt/anaconda3/lib/python3.9/site-packages (from pandas>=1.3.0->yfinance) (2.8.2)\n",
      "Requirement already satisfied: urllib3<1.27,>=1.21.1 in ./opt/anaconda3/lib/python3.9/site-packages (from requests>=2.26->yfinance) (1.26.9)\n",
      "Requirement already satisfied: charset-normalizer~=2.0.0 in ./opt/anaconda3/lib/python3.9/site-packages (from requests>=2.26->yfinance) (2.0.4)\n",
      "Requirement already satisfied: idna<4,>=2.5 in ./opt/anaconda3/lib/python3.9/site-packages (from requests>=2.26->yfinance) (3.3)\n",
      "Requirement already satisfied: certifi>=2017.4.17 in ./opt/anaconda3/lib/python3.9/site-packages (from requests>=2.26->yfinance) (2021.10.8)\n",
      "Installing collected packages: pytz, multitasking, lxml, html5lib, frozendict, yfinance\n",
      "  Attempting uninstall: pytz\n",
      "    Found existing installation: pytz 2021.3\n",
      "    Uninstalling pytz-2021.3:\n",
      "      Successfully uninstalled pytz-2021.3\n",
      "  Attempting uninstall: lxml\n",
      "    Found existing installation: lxml 4.8.0\n",
      "    Uninstalling lxml-4.8.0:\n",
      "      Successfully uninstalled lxml-4.8.0\n",
      "\u001b[31mERROR: pip's dependency resolver does not currently take into account all the packages that are installed. This behaviour is the source of the following dependency conflicts.\n",
      "conda-repo-cli 1.0.4 requires pathlib, which is not installed.\u001b[0m\n",
      "Successfully installed frozendict-2.3.4 html5lib-1.1 lxml-4.9.2 multitasking-0.0.11 pytz-2022.7 yfinance-0.2.3\n"
     ]
    }
   ],
   "source": [
    "#conda install -c https://conda.anaconda.org/anaconda pandas-datareader\n",
    "!pip install yfinance"
   ]
  },
  {
   "cell_type": "code",
   "execution_count": 13,
   "id": "543a649c",
   "metadata": {},
   "outputs": [],
   "source": [
    "import datetime as dt\n",
    "import pandas as pd\n",
    "import yfinance as yf"
   ]
  },
  {
   "cell_type": "code",
   "execution_count": 14,
   "id": "369f6343",
   "metadata": {},
   "outputs": [
    {
     "data": {
      "text/plain": [
       "(datetime.datetime(2021, 8, 9, 12, 54, 7, 337052),\n",
       " datetime.datetime(2022, 12, 22, 12, 54, 7, 337052))"
      ]
     },
     "execution_count": 14,
     "metadata": {},
     "output_type": "execute_result"
    }
   ],
   "source": [
    "#need to specify date range for the data to look at\n",
    "#timedelta method expresses difference between dates, could specify start date using datetime()\n",
    "#datetime() gives year,month,day,hour,minute,second,microsecond\n",
    "end_date = dt.datetime.now()\n",
    "start_date = end_date - dt.timedelta(days=500)\n",
    "start_date, end_date"
   ]
  },
  {
   "cell_type": "code",
   "execution_count": 15,
   "id": "0461a569",
   "metadata": {},
   "outputs": [
    {
     "data": {
      "text/plain": [
       "['BP.L', 'SHEL.L', 'CNA.L']"
      ]
     },
     "execution_count": 15,
     "metadata": {},
     "output_type": "execute_result"
    }
   ],
   "source": [
    "#selecting stocks to look at, .L for LSE\n",
    "stocklist = ['BP.L', 'SHEL.L', 'CNA.L']\n",
    "stocklist"
   ]
  },
  {
   "cell_type": "code",
   "execution_count": 17,
   "id": "a2f6535b",
   "metadata": {},
   "outputs": [
    {
     "name": "stdout",
     "output_type": "stream",
     "text": [
      "[*********************100%***********************]  3 of 3 completed\n"
     ]
    },
    {
     "data": {
      "text/html": [
       "<div>\n",
       "<style scoped>\n",
       "    .dataframe tbody tr th:only-of-type {\n",
       "        vertical-align: middle;\n",
       "    }\n",
       "\n",
       "    .dataframe tbody tr th {\n",
       "        vertical-align: top;\n",
       "    }\n",
       "\n",
       "    .dataframe thead tr th {\n",
       "        text-align: left;\n",
       "    }\n",
       "\n",
       "    .dataframe thead tr:last-of-type th {\n",
       "        text-align: right;\n",
       "    }\n",
       "</style>\n",
       "<table border=\"1\" class=\"dataframe\">\n",
       "  <thead>\n",
       "    <tr>\n",
       "      <th></th>\n",
       "      <th colspan=\"3\" halign=\"left\">Adj Close</th>\n",
       "      <th colspan=\"3\" halign=\"left\">Close</th>\n",
       "      <th colspan=\"3\" halign=\"left\">High</th>\n",
       "      <th colspan=\"3\" halign=\"left\">Low</th>\n",
       "      <th colspan=\"3\" halign=\"left\">Open</th>\n",
       "      <th colspan=\"3\" halign=\"left\">Volume</th>\n",
       "    </tr>\n",
       "    <tr>\n",
       "      <th></th>\n",
       "      <th>BP.L</th>\n",
       "      <th>CNA.L</th>\n",
       "      <th>SHEL.L</th>\n",
       "      <th>BP.L</th>\n",
       "      <th>CNA.L</th>\n",
       "      <th>SHEL.L</th>\n",
       "      <th>BP.L</th>\n",
       "      <th>CNA.L</th>\n",
       "      <th>SHEL.L</th>\n",
       "      <th>BP.L</th>\n",
       "      <th>CNA.L</th>\n",
       "      <th>SHEL.L</th>\n",
       "      <th>BP.L</th>\n",
       "      <th>CNA.L</th>\n",
       "      <th>SHEL.L</th>\n",
       "      <th>BP.L</th>\n",
       "      <th>CNA.L</th>\n",
       "      <th>SHEL.L</th>\n",
       "    </tr>\n",
       "    <tr>\n",
       "      <th>Date</th>\n",
       "      <th></th>\n",
       "      <th></th>\n",
       "      <th></th>\n",
       "      <th></th>\n",
       "      <th></th>\n",
       "      <th></th>\n",
       "      <th></th>\n",
       "      <th></th>\n",
       "      <th></th>\n",
       "      <th></th>\n",
       "      <th></th>\n",
       "      <th></th>\n",
       "      <th></th>\n",
       "      <th></th>\n",
       "      <th></th>\n",
       "      <th></th>\n",
       "      <th></th>\n",
       "      <th></th>\n",
       "    </tr>\n",
       "  </thead>\n",
       "  <tbody>\n",
       "    <tr>\n",
       "      <th>2021-08-09</th>\n",
       "      <td>285.352081</td>\n",
       "      <td>48.582066</td>\n",
       "      <td>1386.682983</td>\n",
       "      <td>305.450012</td>\n",
       "      <td>49.270000</td>\n",
       "      <td>1470.599976</td>\n",
       "      <td>306.399994</td>\n",
       "      <td>49.779999</td>\n",
       "      <td>1478.400024</td>\n",
       "      <td>300.000000</td>\n",
       "      <td>48.154999</td>\n",
       "      <td>1454.000000</td>\n",
       "      <td>305.649994</td>\n",
       "      <td>48.189999</td>\n",
       "      <td>1473.400024</td>\n",
       "      <td>37437060.0</td>\n",
       "      <td>15271673</td>\n",
       "      <td>12975421.0</td>\n",
       "    </tr>\n",
       "    <tr>\n",
       "      <th>2021-08-10</th>\n",
       "      <td>288.575104</td>\n",
       "      <td>48.601788</td>\n",
       "      <td>1393.283569</td>\n",
       "      <td>308.899994</td>\n",
       "      <td>49.290001</td>\n",
       "      <td>1477.599976</td>\n",
       "      <td>310.117004</td>\n",
       "      <td>49.950001</td>\n",
       "      <td>1482.599976</td>\n",
       "      <td>302.350006</td>\n",
       "      <td>48.930000</td>\n",
       "      <td>1461.199951</td>\n",
       "      <td>305.200012</td>\n",
       "      <td>49.950001</td>\n",
       "      <td>1470.800049</td>\n",
       "      <td>41907557.0</td>\n",
       "      <td>8452469</td>\n",
       "      <td>4272139.0</td>\n",
       "    </tr>\n",
       "    <tr>\n",
       "      <th>2021-08-11</th>\n",
       "      <td>291.190887</td>\n",
       "      <td>49.124386</td>\n",
       "      <td>1405.730469</td>\n",
       "      <td>311.700012</td>\n",
       "      <td>49.820000</td>\n",
       "      <td>1490.800049</td>\n",
       "      <td>312.700012</td>\n",
       "      <td>50.029999</td>\n",
       "      <td>1493.599976</td>\n",
       "      <td>308.000000</td>\n",
       "      <td>49.238998</td>\n",
       "      <td>1480.599976</td>\n",
       "      <td>310.500000</td>\n",
       "      <td>49.860001</td>\n",
       "      <td>1487.199951</td>\n",
       "      <td>27870340.0</td>\n",
       "      <td>12044026</td>\n",
       "      <td>12156809.0</td>\n",
       "    </tr>\n",
       "    <tr>\n",
       "      <th>2021-08-12</th>\n",
       "      <td>290.436676</td>\n",
       "      <td>49.163826</td>\n",
       "      <td>1402.467407</td>\n",
       "      <td>306.950012</td>\n",
       "      <td>49.860001</td>\n",
       "      <td>1470.000000</td>\n",
       "      <td>311.049988</td>\n",
       "      <td>50.680000</td>\n",
       "      <td>1484.000000</td>\n",
       "      <td>305.799988</td>\n",
       "      <td>49.490002</td>\n",
       "      <td>1462.800049</td>\n",
       "      <td>309.299988</td>\n",
       "      <td>49.490002</td>\n",
       "      <td>1474.000000</td>\n",
       "      <td>51710456.0</td>\n",
       "      <td>12043096</td>\n",
       "      <td>2791875.0</td>\n",
       "    </tr>\n",
       "    <tr>\n",
       "      <th>2021-08-13</th>\n",
       "      <td>288.922699</td>\n",
       "      <td>49.232849</td>\n",
       "      <td>1392.545288</td>\n",
       "      <td>305.350006</td>\n",
       "      <td>49.930000</td>\n",
       "      <td>1459.599976</td>\n",
       "      <td>308.500000</td>\n",
       "      <td>50.119999</td>\n",
       "      <td>1468.599976</td>\n",
       "      <td>303.886993</td>\n",
       "      <td>49.560001</td>\n",
       "      <td>1452.479980</td>\n",
       "      <td>306.299988</td>\n",
       "      <td>49.959999</td>\n",
       "      <td>1464.000000</td>\n",
       "      <td>80590108.0</td>\n",
       "      <td>8592243</td>\n",
       "      <td>28294166.0</td>\n",
       "    </tr>\n",
       "  </tbody>\n",
       "</table>\n",
       "</div>"
      ],
      "text/plain": [
       "             Adj Close                               Close             \\\n",
       "                  BP.L      CNA.L       SHEL.L        BP.L      CNA.L   \n",
       "Date                                                                    \n",
       "2021-08-09  285.352081  48.582066  1386.682983  305.450012  49.270000   \n",
       "2021-08-10  288.575104  48.601788  1393.283569  308.899994  49.290001   \n",
       "2021-08-11  291.190887  49.124386  1405.730469  311.700012  49.820000   \n",
       "2021-08-12  290.436676  49.163826  1402.467407  306.950012  49.860001   \n",
       "2021-08-13  288.922699  49.232849  1392.545288  305.350006  49.930000   \n",
       "\n",
       "                               High                                 Low  \\\n",
       "                 SHEL.L        BP.L      CNA.L       SHEL.L        BP.L   \n",
       "Date                                                                      \n",
       "2021-08-09  1470.599976  306.399994  49.779999  1478.400024  300.000000   \n",
       "2021-08-10  1477.599976  310.117004  49.950001  1482.599976  302.350006   \n",
       "2021-08-11  1490.800049  312.700012  50.029999  1493.599976  308.000000   \n",
       "2021-08-12  1470.000000  311.049988  50.680000  1484.000000  305.799988   \n",
       "2021-08-13  1459.599976  308.500000  50.119999  1468.599976  303.886993   \n",
       "\n",
       "                                          Open                          \\\n",
       "                CNA.L       SHEL.L        BP.L      CNA.L       SHEL.L   \n",
       "Date                                                                     \n",
       "2021-08-09  48.154999  1454.000000  305.649994  48.189999  1473.400024   \n",
       "2021-08-10  48.930000  1461.199951  305.200012  49.950001  1470.800049   \n",
       "2021-08-11  49.238998  1480.599976  310.500000  49.860001  1487.199951   \n",
       "2021-08-12  49.490002  1462.800049  309.299988  49.490002  1474.000000   \n",
       "2021-08-13  49.560001  1452.479980  306.299988  49.959999  1464.000000   \n",
       "\n",
       "                Volume                        \n",
       "                  BP.L     CNA.L      SHEL.L  \n",
       "Date                                          \n",
       "2021-08-09  37437060.0  15271673  12975421.0  \n",
       "2021-08-10  41907557.0   8452469   4272139.0  \n",
       "2021-08-11  27870340.0  12044026  12156809.0  \n",
       "2021-08-12  51710456.0  12043096   2791875.0  \n",
       "2021-08-13  80590108.0   8592243  28294166.0  "
      ]
     },
     "execution_count": 17,
     "metadata": {},
     "output_type": "execute_result"
    }
   ],
   "source": [
    "#getting data\n",
    "df = yf.download(stocklist, start_date, end_date)\n",
    "df.head()"
   ]
  },
  {
   "cell_type": "code",
   "execution_count": 21,
   "id": "59fd0e09",
   "metadata": {},
   "outputs": [
    {
     "data": {
      "text/plain": [
       "Adj Close  BP.L      float64\n",
       "           CNA.L     float64\n",
       "           SHEL.L    float64\n",
       "Close      BP.L      float64\n",
       "           CNA.L     float64\n",
       "           SHEL.L    float64\n",
       "High       BP.L      float64\n",
       "           CNA.L     float64\n",
       "           SHEL.L    float64\n",
       "Low        BP.L      float64\n",
       "           CNA.L     float64\n",
       "           SHEL.L    float64\n",
       "Open       BP.L      float64\n",
       "           CNA.L     float64\n",
       "           SHEL.L    float64\n",
       "Volume     BP.L      float64\n",
       "           CNA.L       int64\n",
       "           SHEL.L    float64\n",
       "dtype: object"
      ]
     },
     "execution_count": 21,
     "metadata": {},
     "output_type": "execute_result"
    }
   ],
   "source": [
    "#now I would like to understand the structure of the data\n",
    "df.dtypes"
   ]
  },
  {
   "cell_type": "code",
   "execution_count": 22,
   "id": "3d06f63e",
   "metadata": {},
   "outputs": [
    {
     "data": {
      "text/plain": [
       "DatetimeIndex(['2021-08-09', '2021-08-10', '2021-08-11', '2021-08-12',\n",
       "               '2021-08-13', '2021-08-16', '2021-08-17', '2021-08-18',\n",
       "               '2021-08-19', '2021-08-20',\n",
       "               ...\n",
       "               '2022-12-09', '2022-12-12', '2022-12-13', '2022-12-14',\n",
       "               '2022-12-15', '2022-12-16', '2022-12-19', '2022-12-20',\n",
       "               '2022-12-21', '2022-12-22'],\n",
       "              dtype='datetime64[ns]', name='Date', length=348, freq=None)"
      ]
     },
     "execution_count": 22,
     "metadata": {},
     "output_type": "execute_result"
    }
   ],
   "source": [
    "#how the data is indexed, we expect this to be by dates since we specified a date range\n",
    "df.index"
   ]
  },
  {
   "cell_type": "code",
   "execution_count": 23,
   "id": "a4915c0b",
   "metadata": {},
   "outputs": [
    {
     "data": {
      "text/plain": [
       "MultiIndex([('Adj Close',   'BP.L'),\n",
       "            ('Adj Close',  'CNA.L'),\n",
       "            ('Adj Close', 'SHEL.L'),\n",
       "            (    'Close',   'BP.L'),\n",
       "            (    'Close',  'CNA.L'),\n",
       "            (    'Close', 'SHEL.L'),\n",
       "            (     'High',   'BP.L'),\n",
       "            (     'High',  'CNA.L'),\n",
       "            (     'High', 'SHEL.L'),\n",
       "            (      'Low',   'BP.L'),\n",
       "            (      'Low',  'CNA.L'),\n",
       "            (      'Low', 'SHEL.L'),\n",
       "            (     'Open',   'BP.L'),\n",
       "            (     'Open',  'CNA.L'),\n",
       "            (     'Open', 'SHEL.L'),\n",
       "            (   'Volume',   'BP.L'),\n",
       "            (   'Volume',  'CNA.L'),\n",
       "            (   'Volume', 'SHEL.L')],\n",
       "           )"
      ]
     },
     "execution_count": 23,
     "metadata": {},
     "output_type": "execute_result"
    }
   ],
   "source": [
    "#tells us that the data is selectable on two names - the symbols and then the attribute type\n",
    "df.columns"
   ]
  },
  {
   "cell_type": "code",
   "execution_count": 35,
   "id": "84b3f1fd",
   "metadata": {},
   "outputs": [
    {
     "data": {
      "text/html": [
       "<div>\n",
       "<style scoped>\n",
       "    .dataframe tbody tr th:only-of-type {\n",
       "        vertical-align: middle;\n",
       "    }\n",
       "\n",
       "    .dataframe tbody tr th {\n",
       "        vertical-align: top;\n",
       "    }\n",
       "\n",
       "    .dataframe thead tr th {\n",
       "        text-align: left;\n",
       "    }\n",
       "</style>\n",
       "<table border=\"1\" class=\"dataframe\">\n",
       "  <thead>\n",
       "    <tr>\n",
       "      <th></th>\n",
       "      <th colspan=\"3\" halign=\"left\">Adj Close</th>\n",
       "      <th colspan=\"3\" halign=\"left\">Close</th>\n",
       "      <th colspan=\"3\" halign=\"left\">High</th>\n",
       "      <th colspan=\"3\" halign=\"left\">Low</th>\n",
       "      <th colspan=\"3\" halign=\"left\">Open</th>\n",
       "      <th colspan=\"3\" halign=\"left\">Volume</th>\n",
       "    </tr>\n",
       "    <tr>\n",
       "      <th></th>\n",
       "      <th>BP.L</th>\n",
       "      <th>CNA.L</th>\n",
       "      <th>SHEL.L</th>\n",
       "      <th>BP.L</th>\n",
       "      <th>CNA.L</th>\n",
       "      <th>SHEL.L</th>\n",
       "      <th>BP.L</th>\n",
       "      <th>CNA.L</th>\n",
       "      <th>SHEL.L</th>\n",
       "      <th>BP.L</th>\n",
       "      <th>CNA.L</th>\n",
       "      <th>SHEL.L</th>\n",
       "      <th>BP.L</th>\n",
       "      <th>CNA.L</th>\n",
       "      <th>SHEL.L</th>\n",
       "      <th>BP.L</th>\n",
       "      <th>CNA.L</th>\n",
       "      <th>SHEL.L</th>\n",
       "    </tr>\n",
       "  </thead>\n",
       "  <tbody>\n",
       "    <tr>\n",
       "      <th>count</th>\n",
       "      <td>343.000000</td>\n",
       "      <td>348.000000</td>\n",
       "      <td>347.000000</td>\n",
       "      <td>343.000000</td>\n",
       "      <td>348.000000</td>\n",
       "      <td>347.000000</td>\n",
       "      <td>343.000000</td>\n",
       "      <td>348.000000</td>\n",
       "      <td>347.000000</td>\n",
       "      <td>343.000000</td>\n",
       "      <td>348.000000</td>\n",
       "      <td>347.000000</td>\n",
       "      <td>343.000000</td>\n",
       "      <td>348.000000</td>\n",
       "      <td>347.000000</td>\n",
       "      <td>3.430000e+02</td>\n",
       "      <td>3.480000e+02</td>\n",
       "      <td>3.470000e+02</td>\n",
       "    </tr>\n",
       "    <tr>\n",
       "      <th>mean</th>\n",
       "      <td>382.722042</td>\n",
       "      <td>73.198841</td>\n",
       "      <td>1958.990941</td>\n",
       "      <td>393.566475</td>\n",
       "      <td>74.045385</td>\n",
       "      <td>2005.334580</td>\n",
       "      <td>398.962058</td>\n",
       "      <td>75.192098</td>\n",
       "      <td>2030.690830</td>\n",
       "      <td>388.314615</td>\n",
       "      <td>72.873859</td>\n",
       "      <td>1977.810334</td>\n",
       "      <td>393.034259</td>\n",
       "      <td>73.980309</td>\n",
       "      <td>2001.573200</td>\n",
       "      <td>5.759042e+07</td>\n",
       "      <td>2.802029e+07</td>\n",
       "      <td>2.143936e+07</td>\n",
       "    </tr>\n",
       "    <tr>\n",
       "      <th>std</th>\n",
       "      <td>59.114705</td>\n",
       "      <td>12.280431</td>\n",
       "      <td>328.311255</td>\n",
       "      <td>54.274337</td>\n",
       "      <td>12.282214</td>\n",
       "      <td>310.506394</td>\n",
       "      <td>54.998548</td>\n",
       "      <td>12.549161</td>\n",
       "      <td>316.226771</td>\n",
       "      <td>53.610130</td>\n",
       "      <td>12.051019</td>\n",
       "      <td>307.374806</td>\n",
       "      <td>54.277324</td>\n",
       "      <td>12.338856</td>\n",
       "      <td>310.960390</td>\n",
       "      <td>2.941878e+07</td>\n",
       "      <td>1.893184e+07</td>\n",
       "      <td>1.211777e+07</td>\n",
       "    </tr>\n",
       "    <tr>\n",
       "      <th>min</th>\n",
       "      <td>272.269562</td>\n",
       "      <td>0.750374</td>\n",
       "      <td>1320.990845</td>\n",
       "      <td>287.750000</td>\n",
       "      <td>0.761000</td>\n",
       "      <td>1384.599976</td>\n",
       "      <td>289.350006</td>\n",
       "      <td>0.794350</td>\n",
       "      <td>1399.000000</td>\n",
       "      <td>286.100006</td>\n",
       "      <td>0.756000</td>\n",
       "      <td>1282.780029</td>\n",
       "      <td>287.649994</td>\n",
       "      <td>0.787400</td>\n",
       "      <td>1392.400024</td>\n",
       "      <td>7.289525e+06</td>\n",
       "      <td>1.073989e+06</td>\n",
       "      <td>1.045330e+06</td>\n",
       "    </tr>\n",
       "    <tr>\n",
       "      <th>25%</th>\n",
       "      <td>335.878006</td>\n",
       "      <td>66.552597</td>\n",
       "      <td>1637.777405</td>\n",
       "      <td>351.524994</td>\n",
       "      <td>67.450003</td>\n",
       "      <td>1704.700012</td>\n",
       "      <td>356.224991</td>\n",
       "      <td>67.919998</td>\n",
       "      <td>1723.000000</td>\n",
       "      <td>346.225006</td>\n",
       "      <td>66.580002</td>\n",
       "      <td>1681.099976</td>\n",
       "      <td>350.625000</td>\n",
       "      <td>67.560001</td>\n",
       "      <td>1693.400024</td>\n",
       "      <td>3.908827e+07</td>\n",
       "      <td>1.661610e+07</td>\n",
       "      <td>1.313999e+07</td>\n",
       "    </tr>\n",
       "    <tr>\n",
       "      <th>50%</th>\n",
       "      <td>377.016266</td>\n",
       "      <td>75.727676</td>\n",
       "      <td>2006.275513</td>\n",
       "      <td>389.149994</td>\n",
       "      <td>76.640003</td>\n",
       "      <td>2061.500000</td>\n",
       "      <td>394.600006</td>\n",
       "      <td>78.170002</td>\n",
       "      <td>2092.500000</td>\n",
       "      <td>383.592010</td>\n",
       "      <td>75.420002</td>\n",
       "      <td>2024.000000</td>\n",
       "      <td>389.250000</td>\n",
       "      <td>76.829998</td>\n",
       "      <td>2060.000000</td>\n",
       "      <td>5.061718e+07</td>\n",
       "      <td>2.296606e+07</td>\n",
       "      <td>1.833433e+07</td>\n",
       "    </tr>\n",
       "    <tr>\n",
       "      <th>75%</th>\n",
       "      <td>433.967896</td>\n",
       "      <td>80.795906</td>\n",
       "      <td>2269.950684</td>\n",
       "      <td>440.825012</td>\n",
       "      <td>81.940002</td>\n",
       "      <td>2291.250000</td>\n",
       "      <td>446.099991</td>\n",
       "      <td>83.185003</td>\n",
       "      <td>2322.265503</td>\n",
       "      <td>431.675003</td>\n",
       "      <td>80.404001</td>\n",
       "      <td>2258.500000</td>\n",
       "      <td>437.825012</td>\n",
       "      <td>81.940002</td>\n",
       "      <td>2291.500000</td>\n",
       "      <td>7.034137e+07</td>\n",
       "      <td>3.348909e+07</td>\n",
       "      <td>2.824894e+07</td>\n",
       "    </tr>\n",
       "    <tr>\n",
       "      <th>max</th>\n",
       "      <td>497.500000</td>\n",
       "      <td>95.879997</td>\n",
       "      <td>2504.653564</td>\n",
       "      <td>501.799988</td>\n",
       "      <td>95.879997</td>\n",
       "      <td>2526.500000</td>\n",
       "      <td>504.399994</td>\n",
       "      <td>97.080002</td>\n",
       "      <td>2557.000000</td>\n",
       "      <td>494.450012</td>\n",
       "      <td>95.440002</td>\n",
       "      <td>2488.500000</td>\n",
       "      <td>497.600006</td>\n",
       "      <td>96.120003</td>\n",
       "      <td>2502.500000</td>\n",
       "      <td>2.574570e+08</td>\n",
       "      <td>1.623792e+08</td>\n",
       "      <td>7.857165e+07</td>\n",
       "    </tr>\n",
       "  </tbody>\n",
       "</table>\n",
       "</div>"
      ],
      "text/plain": [
       "        Adj Close                                Close              \\\n",
       "             BP.L       CNA.L       SHEL.L        BP.L       CNA.L   \n",
       "count  343.000000  348.000000   347.000000  343.000000  348.000000   \n",
       "mean   382.722042   73.198841  1958.990941  393.566475   74.045385   \n",
       "std     59.114705   12.280431   328.311255   54.274337   12.282214   \n",
       "min    272.269562    0.750374  1320.990845  287.750000    0.761000   \n",
       "25%    335.878006   66.552597  1637.777405  351.524994   67.450003   \n",
       "50%    377.016266   75.727676  2006.275513  389.149994   76.640003   \n",
       "75%    433.967896   80.795906  2269.950684  440.825012   81.940002   \n",
       "max    497.500000   95.879997  2504.653564  501.799988   95.879997   \n",
       "\n",
       "                          High                                  Low  \\\n",
       "            SHEL.L        BP.L       CNA.L       SHEL.L        BP.L   \n",
       "count   347.000000  343.000000  348.000000   347.000000  343.000000   \n",
       "mean   2005.334580  398.962058   75.192098  2030.690830  388.314615   \n",
       "std     310.506394   54.998548   12.549161   316.226771   53.610130   \n",
       "min    1384.599976  289.350006    0.794350  1399.000000  286.100006   \n",
       "25%    1704.700012  356.224991   67.919998  1723.000000  346.225006   \n",
       "50%    2061.500000  394.600006   78.170002  2092.500000  383.592010   \n",
       "75%    2291.250000  446.099991   83.185003  2322.265503  431.675003   \n",
       "max    2526.500000  504.399994   97.080002  2557.000000  494.450012   \n",
       "\n",
       "                                      Open                           \\\n",
       "            CNA.L       SHEL.L        BP.L       CNA.L       SHEL.L   \n",
       "count  348.000000   347.000000  343.000000  348.000000   347.000000   \n",
       "mean    72.873859  1977.810334  393.034259   73.980309  2001.573200   \n",
       "std     12.051019   307.374806   54.277324   12.338856   310.960390   \n",
       "min      0.756000  1282.780029  287.649994    0.787400  1392.400024   \n",
       "25%     66.580002  1681.099976  350.625000   67.560001  1693.400024   \n",
       "50%     75.420002  2024.000000  389.250000   76.829998  2060.000000   \n",
       "75%     80.404001  2258.500000  437.825012   81.940002  2291.500000   \n",
       "max     95.440002  2488.500000  497.600006   96.120003  2502.500000   \n",
       "\n",
       "             Volume                              \n",
       "               BP.L         CNA.L        SHEL.L  \n",
       "count  3.430000e+02  3.480000e+02  3.470000e+02  \n",
       "mean   5.759042e+07  2.802029e+07  2.143936e+07  \n",
       "std    2.941878e+07  1.893184e+07  1.211777e+07  \n",
       "min    7.289525e+06  1.073989e+06  1.045330e+06  \n",
       "25%    3.908827e+07  1.661610e+07  1.313999e+07  \n",
       "50%    5.061718e+07  2.296606e+07  1.833433e+07  \n",
       "75%    7.034137e+07  3.348909e+07  2.824894e+07  \n",
       "max    2.574570e+08  1.623792e+08  7.857165e+07  "
      ]
     },
     "execution_count": 35,
     "metadata": {},
     "output_type": "execute_result"
    }
   ],
   "source": [
    "#statistical summary of data\n",
    "df.describe()"
   ]
  },
  {
   "cell_type": "code",
   "execution_count": 33,
   "id": "9aad5b1c",
   "metadata": {},
   "outputs": [
    {
     "data": {
      "text/html": [
       "<div>\n",
       "<style scoped>\n",
       "    .dataframe tbody tr th:only-of-type {\n",
       "        vertical-align: middle;\n",
       "    }\n",
       "\n",
       "    .dataframe tbody tr th {\n",
       "        vertical-align: top;\n",
       "    }\n",
       "\n",
       "    .dataframe thead th {\n",
       "        text-align: right;\n",
       "    }\n",
       "</style>\n",
       "<table border=\"1\" class=\"dataframe\">\n",
       "  <thead>\n",
       "    <tr style=\"text-align: right;\">\n",
       "      <th></th>\n",
       "      <th>BP.L</th>\n",
       "      <th>CNA.L</th>\n",
       "      <th>SHEL.L</th>\n",
       "    </tr>\n",
       "    <tr>\n",
       "      <th>Date</th>\n",
       "      <th></th>\n",
       "      <th></th>\n",
       "      <th></th>\n",
       "    </tr>\n",
       "  </thead>\n",
       "  <tbody>\n",
       "    <tr>\n",
       "      <th>2021-08-09</th>\n",
       "      <td>37437060.0</td>\n",
       "      <td>15271673.0</td>\n",
       "      <td>12975421.0</td>\n",
       "    </tr>\n",
       "    <tr>\n",
       "      <th>2021-08-10</th>\n",
       "      <td>41907557.0</td>\n",
       "      <td>8452469.0</td>\n",
       "      <td>4272139.0</td>\n",
       "    </tr>\n",
       "    <tr>\n",
       "      <th>2021-08-11</th>\n",
       "      <td>27870340.0</td>\n",
       "      <td>12044026.0</td>\n",
       "      <td>12156809.0</td>\n",
       "    </tr>\n",
       "    <tr>\n",
       "      <th>2021-08-12</th>\n",
       "      <td>51710456.0</td>\n",
       "      <td>12043096.0</td>\n",
       "      <td>2791875.0</td>\n",
       "    </tr>\n",
       "    <tr>\n",
       "      <th>2021-08-13</th>\n",
       "      <td>80590108.0</td>\n",
       "      <td>8592243.0</td>\n",
       "      <td>28294166.0</td>\n",
       "    </tr>\n",
       "  </tbody>\n",
       "</table>\n",
       "</div>"
      ],
      "text/plain": [
       "                  BP.L       CNA.L      SHEL.L\n",
       "Date                                          \n",
       "2021-08-09  37437060.0  15271673.0  12975421.0\n",
       "2021-08-10  41907557.0   8452469.0   4272139.0\n",
       "2021-08-11  27870340.0  12044026.0  12156809.0\n",
       "2021-08-12  51710456.0  12043096.0   2791875.0\n",
       "2021-08-13  80590108.0   8592243.0  28294166.0"
      ]
     },
     "execution_count": 33,
     "metadata": {},
     "output_type": "execute_result"
    }
   ],
   "source": [
    "#notice from above that the centrica volume data is of integer type while the other are in float\n",
    "df['Volume'] = df['Volume'].astype('float')\n",
    "df['Volume'].head()"
   ]
  },
  {
   "cell_type": "code",
   "execution_count": 36,
   "id": "a2640a66",
   "metadata": {},
   "outputs": [
    {
     "data": {
      "text/html": [
       "<div>\n",
       "<style scoped>\n",
       "    .dataframe tbody tr th:only-of-type {\n",
       "        vertical-align: middle;\n",
       "    }\n",
       "\n",
       "    .dataframe tbody tr th {\n",
       "        vertical-align: top;\n",
       "    }\n",
       "\n",
       "    .dataframe thead th {\n",
       "        text-align: right;\n",
       "    }\n",
       "</style>\n",
       "<table border=\"1\" class=\"dataframe\">\n",
       "  <thead>\n",
       "    <tr style=\"text-align: right;\">\n",
       "      <th></th>\n",
       "      <th>BP.L</th>\n",
       "      <th>CNA.L</th>\n",
       "      <th>SHEL.L</th>\n",
       "    </tr>\n",
       "  </thead>\n",
       "  <tbody>\n",
       "    <tr>\n",
       "      <th>count</th>\n",
       "      <td>343.000000</td>\n",
       "      <td>348.000000</td>\n",
       "      <td>347.000000</td>\n",
       "    </tr>\n",
       "    <tr>\n",
       "      <th>mean</th>\n",
       "      <td>393.566475</td>\n",
       "      <td>74.045385</td>\n",
       "      <td>2005.334580</td>\n",
       "    </tr>\n",
       "    <tr>\n",
       "      <th>std</th>\n",
       "      <td>54.274337</td>\n",
       "      <td>12.282214</td>\n",
       "      <td>310.506394</td>\n",
       "    </tr>\n",
       "    <tr>\n",
       "      <th>min</th>\n",
       "      <td>287.750000</td>\n",
       "      <td>0.761000</td>\n",
       "      <td>1384.599976</td>\n",
       "    </tr>\n",
       "    <tr>\n",
       "      <th>25%</th>\n",
       "      <td>351.524994</td>\n",
       "      <td>67.450003</td>\n",
       "      <td>1704.700012</td>\n",
       "    </tr>\n",
       "    <tr>\n",
       "      <th>50%</th>\n",
       "      <td>389.149994</td>\n",
       "      <td>76.640003</td>\n",
       "      <td>2061.500000</td>\n",
       "    </tr>\n",
       "    <tr>\n",
       "      <th>75%</th>\n",
       "      <td>440.825012</td>\n",
       "      <td>81.940002</td>\n",
       "      <td>2291.250000</td>\n",
       "    </tr>\n",
       "    <tr>\n",
       "      <th>max</th>\n",
       "      <td>501.799988</td>\n",
       "      <td>95.879997</td>\n",
       "      <td>2526.500000</td>\n",
       "    </tr>\n",
       "  </tbody>\n",
       "</table>\n",
       "</div>"
      ],
      "text/plain": [
       "             BP.L       CNA.L       SHEL.L\n",
       "count  343.000000  348.000000   347.000000\n",
       "mean   393.566475   74.045385  2005.334580\n",
       "std     54.274337   12.282214   310.506394\n",
       "min    287.750000    0.761000  1384.599976\n",
       "25%    351.524994   67.450003  1704.700012\n",
       "50%    389.149994   76.640003  2061.500000\n",
       "75%    440.825012   81.940002  2291.250000\n",
       "max    501.799988   95.879997  2526.500000"
      ]
     },
     "execution_count": 36,
     "metadata": {},
     "output_type": "execute_result"
    }
   ],
   "source": [
    "#looking at specific attributes, can change percentiles by describe(percentiles=[0.1,0.5,0.9]) for example\n",
    "df['Close'].describe()"
   ]
  },
  {
   "cell_type": "code",
   "execution_count": 39,
   "id": "6dc5cec2",
   "metadata": {},
   "outputs": [
    {
     "data": {
      "text/html": [
       "<div>\n",
       "<style scoped>\n",
       "    .dataframe tbody tr th:only-of-type {\n",
       "        vertical-align: middle;\n",
       "    }\n",
       "\n",
       "    .dataframe tbody tr th {\n",
       "        vertical-align: top;\n",
       "    }\n",
       "\n",
       "    .dataframe thead th {\n",
       "        text-align: right;\n",
       "    }\n",
       "</style>\n",
       "<table border=\"1\" class=\"dataframe\">\n",
       "  <thead>\n",
       "    <tr style=\"text-align: right;\">\n",
       "      <th></th>\n",
       "      <th>BP.L</th>\n",
       "      <th>CNA.L</th>\n",
       "      <th>SHEL.L</th>\n",
       "    </tr>\n",
       "  </thead>\n",
       "  <tbody>\n",
       "    <tr>\n",
       "      <th>count</th>\n",
       "      <td>36.000000</td>\n",
       "      <td>36.000000</td>\n",
       "      <td>36.000000</td>\n",
       "    </tr>\n",
       "    <tr>\n",
       "      <th>mean</th>\n",
       "      <td>478.341666</td>\n",
       "      <td>90.253333</td>\n",
       "      <td>2359.208333</td>\n",
       "    </tr>\n",
       "    <tr>\n",
       "      <th>std</th>\n",
       "      <td>11.764957</td>\n",
       "      <td>6.091607</td>\n",
       "      <td>63.262421</td>\n",
       "    </tr>\n",
       "    <tr>\n",
       "      <th>min</th>\n",
       "      <td>455.399994</td>\n",
       "      <td>76.620003</td>\n",
       "      <td>2243.000000</td>\n",
       "    </tr>\n",
       "    <tr>\n",
       "      <th>25%</th>\n",
       "      <td>469.024994</td>\n",
       "      <td>86.805002</td>\n",
       "      <td>2313.625000</td>\n",
       "    </tr>\n",
       "    <tr>\n",
       "      <th>50%</th>\n",
       "      <td>480.250000</td>\n",
       "      <td>92.419998</td>\n",
       "      <td>2359.250000</td>\n",
       "    </tr>\n",
       "    <tr>\n",
       "      <th>75%</th>\n",
       "      <td>484.312508</td>\n",
       "      <td>94.745001</td>\n",
       "      <td>2382.125000</td>\n",
       "    </tr>\n",
       "    <tr>\n",
       "      <th>max</th>\n",
       "      <td>501.799988</td>\n",
       "      <td>95.879997</td>\n",
       "      <td>2526.500000</td>\n",
       "    </tr>\n",
       "  </tbody>\n",
       "</table>\n",
       "</div>"
      ],
      "text/plain": [
       "             BP.L      CNA.L       SHEL.L\n",
       "count   36.000000  36.000000    36.000000\n",
       "mean   478.341666  90.253333  2359.208333\n",
       "std     11.764957   6.091607    63.262421\n",
       "min    455.399994  76.620003  2243.000000\n",
       "25%    469.024994  86.805002  2313.625000\n",
       "50%    480.250000  92.419998  2359.250000\n",
       "75%    484.312508  94.745001  2382.125000\n",
       "max    501.799988  95.879997  2526.500000"
      ]
     },
     "execution_count": 39,
     "metadata": {},
     "output_type": "execute_result"
    }
   ],
   "source": [
    "#subsection data (eg finding stats for last 50 days)\n",
    "df['Close'][df['Close'].index > end_date - dt.timedelta(days=50)].describe()"
   ]
  },
  {
   "cell_type": "markdown",
   "id": "b87566d9",
   "metadata": {},
   "source": [
    "Notice that the count doesn't match the number of days that we specified. This is becasue that is only data for trading days so count=36 takes into account holidays etc."
   ]
  },
  {
   "cell_type": "markdown",
   "id": "f81bd921",
   "metadata": {},
   "source": [
    "## Plotting"
   ]
  },
  {
   "cell_type": "code",
   "execution_count": 43,
   "id": "5f7e4710",
   "metadata": {},
   "outputs": [
    {
     "data": {
      "text/plain": [
       "<AxesSubplot:xlabel='Date', ylabel='Close price'>"
      ]
     },
     "execution_count": 43,
     "metadata": {},
     "output_type": "execute_result"
    },
    {
     "data": {
      "image/png": "[encoded data removed]",
      "text/plain": [
       "<Figure size 720x576 with 1 Axes>"
      ]
     },
     "metadata": {
      "needs_background": "light"
     },
     "output_type": "display_data"
    }
   ],
   "source": [
    "#pandas dataframe is quick to plot\n",
    "df['Close'].plot(figsize=(10,8), xlabel='Date', ylabel='Close price')"
   ]
  },
  {
   "cell_type": "markdown",
   "id": "e4731427",
   "metadata": {},
   "source": [
    "Matplotlib is good to get visualisation quickly but not so good for interaction. Could use plotly. Documentation https://plotly.com/python/"
   ]
  },
  {
   "cell_type": "code",
   "execution_count": 51,
   "id": "f98845ae",
   "metadata": {},
   "outputs": [
    {
     "data": {
      "text/html": [
       "        <script type=\"text/javascript\">\n",
       "        window.PlotlyConfig = {MathJaxConfig: 'local'};\n",
       "        if (window.MathJax) {MathJax.Hub.Config({SVG: {font: \"STIX-Web\"}});}\n",
       "        if (typeof require !== 'undefined') {\n",
       "        require.undef(\"plotly\");\n",
       "        requirejs.config({\n",
       "            paths: {\n",
       "                'plotly': ['https://cdn.plot.ly/plotly-2.9.0.min']\n",
       "            }\n",
       "        });\n",
       "        require(['plotly'], function(Plotly) {\n",
       "            window._Plotly = Plotly;\n",
       "        });\n",
       "        }\n",
       "        </script>\n",
       "        "
      ]
     },
     "metadata": {},
     "output_type": "display_data"
    }
   ],
   "source": [
    "import plotly.offline as pyo\n",
    "pyo.init_notebook_mode(connected=True)\n",
    "#changing from matplotlib to plotly\n",
    "pd.options.plotting.backend = 'plotly'"
   ]
  },
  {
   "cell_type": "code",
   "execution_count": 52,
   "id": "9cc9be12",
   "metadata": {},
   "outputs": [
    {
     "data": {
      "application/vnd.plotly.v1+json": {
       "config": {
        "plotlyServerURL": "https://plot.ly"
       },
       "data": [
        {
         "hovertemplate": "variable=BP.L<br>Date=%{x}<br>value=%{y}<extra></extra>",
         "legendgroup": "BP.L",
         "line": {
          "color": "#636efa",
          "dash": "solid"
         },
         "marker": {
          "symbol": "circle"
         },
         "mode": "lines",
         "name": "BP.L",
         "showlegend": true,
         "type": "scattergl",
         "x": [
          "2021-08-09T00:00:00",
          "2021-08-10T00:00:00",
          "2021-08-11T00:00:00",
          "2021-08-12T00:00:00",
          "2021-08-13T00:00:00",
          "2021-08-16T00:00:00",
          "2021-08-17T00:00:00",
          "2021-08-18T00:00:00",
          "2021-08-19T00:00:00",
          "2021-08-20T00:00:00",
          "2021-08-23T00:00:00",
          "2021-08-24T00:00:00",
          "2021-08-25T00:00:00",
          "2021-08-26T00:00:00",
          "2021-08-27T00:00:00",
          "2021-08-31T00:00:00",
          "2021-09-01T00:00:00",
          "2021-09-02T00:00:00",
          "2021-09-03T00:00:00",
          "2021-09-06T00:00:00",
          "2021-09-07T00:00:00",
          "2021-09-08T00:00:00",
          "2021-09-09T00:00:00",
          "2021-09-10T00:00:00",
          "2021-09-13T00:00:00",
          "2021-09-14T00:00:00",
          "2021-09-15T00:00:00",
          "2021-09-16T00:00:00",
          "2021-09-17T00:00:00",
          "2021-09-20T00:00:00",
          "2021-09-21T00:00:00",
          "2021-09-22T00:00:00",
          "2021-09-23T00:00:00",
          "2021-09-24T00:00:00",
          "2021-09-27T00:00:00",
          "2021-09-28T00:00:00",
          "2021-09-29T00:00:00",
          "2021-09-30T00:00:00",
          "2021-10-01T00:00:00",
          "2021-10-04T00:00:00",
          "2021-10-05T00:00:00",
          "2021-10-06T00:00:00",
          "2021-10-07T00:00:00",
          "2021-10-08T00:00:00",
          "2021-10-11T00:00:00",
          "2021-10-12T00:00:00",
          "2021-10-13T00:00:00",
          "2021-10-14T00:00:00",
          "2021-10-15T00:00:00",
          "2021-10-18T00:00:00",
          "2021-10-19T00:00:00",
          "2021-10-20T00:00:00",
          "2021-10-21T00:00:00",
          "2021-10-22T00:00:00",
          "2021-10-25T00:00:00",
          "2021-10-26T00:00:00",
          "2021-10-27T00:00:00",
          "2021-10-28T00:00:00",
          "2021-10-29T00:00:00",
          "2021-11-01T00:00:00",
          "2021-11-02T00:00:00",
          "2021-11-03T00:00:00",
          "2021-11-04T00:00:00",
          "2021-11-05T00:00:00",
          "2021-11-08T00:00:00",
          "2021-11-09T00:00:00",
          "2021-11-10T00:00:00",
          "2021-11-11T00:00:00",
          "2021-11-12T00:00:00",
          "2021-11-15T00:00:00",
          "2021-11-16T00:00:00",
          "2021-11-17T00:00:00",
          "2021-11-18T00:00:00",
          "2021-11-19T00:00:00",
          "2021-11-22T00:00:00",
          "2021-11-23T00:00:00",
          "2021-11-24T00:00:00",
          "2021-11-25T00:00:00",
          "2021-11-26T00:00:00",
          "2021-11-29T00:00:00",
          "2021-11-30T00:00:00",
          "2021-12-01T00:00:00",
          "2021-12-02T00:00:00",
          "2021-12-03T00:00:00",
          "2021-12-06T00:00:00",
          "2021-12-07T00:00:00",
          "2021-12-08T00:00:00",
          "2021-12-09T00:00:00",
          "2021-12-10T00:00:00",
          "2021-12-13T00:00:00",
          "2021-12-14T00:00:00",
          "2021-12-15T00:00:00",
          "2021-12-16T00:00:00",
          "2021-12-17T00:00:00",
          "2021-12-20T00:00:00",
          "2021-12-21T00:00:00",
          "2021-12-22T00:00:00",
          "2021-12-23T00:00:00",
          "2021-12-24T00:00:00",
          "2021-12-29T00:00:00",
          "2021-12-30T00:00:00",
          "2021-12-31T00:00:00",
          "2022-01-04T00:00:00",
          "2022-01-05T00:00:00",
          "2022-01-06T00:00:00",
          "2022-01-07T00:00:00",
          "2022-01-10T00:00:00",
          "2022-01-11T00:00:00",
          "2022-01-12T00:00:00",
          "2022-01-13T00:00:00",
          "2022-01-14T00:00:00",
          "2022-01-17T00:00:00",
          "2022-01-18T00:00:00",
          "2022-01-19T00:00:00",
          "2022-01-20T00:00:00",
          "2022-01-21T00:00:00",
          "2022-01-24T00:00:00",
          "2022-01-25T00:00:00",
          "2022-01-26T00:00:00",
          "2022-01-27T00:00:00",
          "2022-01-28T00:00:00",
          "2022-01-31T00:00:00",
          "2022-02-01T00:00:00",
          "2022-02-02T00:00:00",
          "2022-02-03T00:00:00",
          "2022-02-04T00:00:00",
          "2022-02-07T00:00:00",
          "2022-02-08T00:00:00",
          "2022-02-09T00:00:00",
          "2022-02-10T00:00:00",
          "2022-02-11T00:00:00",
          "2022-02-14T00:00:00",
          "2022-02-15T00:00:00",
          "2022-02-16T00:00:00",
          "2022-02-17T00:00:00",
          "2022-02-18T00:00:00",
          "2022-02-21T00:00:00",
          "2022-02-22T00:00:00",
          "2022-02-23T00:00:00",
          "2022-02-24T00:00:00",
          "2022-02-25T00:00:00",
          "2022-02-28T00:00:00",
          "2022-03-01T00:00:00",
          "2022-03-02T00:00:00",
          "2022-03-03T00:00:00",
          "2022-03-04T00:00:00",
          "2022-03-07T00:00:00",
          "2022-03-08T00:00:00",
          "2022-03-09T00:00:00",
          "2022-03-10T00:00:00",
          "2022-03-11T00:00:00",
          "2022-03-14T00:00:00",
          "2022-03-15T00:00:00",
          "2022-03-16T00:00:00",
          "2022-03-17T00:00:00",
          "2022-03-18T00:00:00",
          "2022-03-21T00:00:00",
          "2022-03-22T00:00:00",
          "2022-03-23T00:00:00",
          "2022-03-24T00:00:00",
          "2022-03-25T00:00:00",
          "2022-03-28T00:00:00",
          "2022-03-29T00:00:00",
          "2022-03-30T00:00:00",
          "2022-03-31T00:00:00",
          "2022-04-01T00:00:00",
          "2022-04-04T00:00:00",
          "2022-04-05T00:00:00",
          "2022-04-06T00:00:00",
          "2022-04-07T00:00:00",
          "2022-04-08T00:00:00",
          "2022-04-11T00:00:00",
          "2022-04-12T00:00:00",
          "2022-04-13T00:00:00",
          "2022-04-14T00:00:00",
          "2022-04-19T00:00:00",
          "2022-04-20T00:00:00",
          "2022-04-21T00:00:00",
          "2022-04-22T00:00:00",
          "2022-04-25T00:00:00",
          "2022-04-26T00:00:00",
          "2022-04-27T00:00:00",
          "2022-04-28T00:00:00",
          "2022-04-29T00:00:00",
          "2022-05-03T00:00:00",
          "2022-05-04T00:00:00",
          "2022-05-05T00:00:00",
          "2022-05-06T00:00:00",
          "2022-05-09T00:00:00",
          "2022-05-10T00:00:00",
          "2022-05-11T00:00:00",
          "2022-05-12T00:00:00",
          "2022-05-13T00:00:00",
          "2022-05-16T00:00:00",
          "2022-05-17T00:00:00",
          "2022-05-18T00:00:00",
          "2022-05-19T00:00:00",
          "2022-05-20T00:00:00",
          "2022-05-23T00:00:00",
          "2022-05-24T00:00:00",
          "2022-05-25T00:00:00",
          "2022-05-26T00:00:00",
          "2022-05-27T00:00:00",
          "2022-05-30T00:00:00",
          "2022-05-31T00:00:00",
          "2022-06-01T00:00:00",
          "2022-06-06T00:00:00",
          "2022-06-07T00:00:00",
          "2022-06-08T00:00:00",
          "2022-06-09T00:00:00",
          "2022-06-10T00:00:00",
          "2022-06-13T00:00:00",
          "2022-06-14T00:00:00",
          "2022-06-15T00:00:00",
          "2022-06-16T00:00:00",
          "2022-06-17T00:00:00",
          "2022-06-20T00:00:00",
          "2022-06-21T00:00:00",
          "2022-06-22T00:00:00",
          "2022-06-23T00:00:00",
          "2022-06-24T00:00:00",
          "2022-06-27T00:00:00",
          "2022-06-28T00:00:00",
          "2022-06-29T00:00:00",
          "2022-06-30T00:00:00",
          "2022-07-01T00:00:00",
          "2022-07-04T00:00:00",
          "2022-07-05T00:00:00",
          "2022-07-06T00:00:00",
          "2022-07-07T00:00:00",
          "2022-07-08T00:00:00",
          "2022-07-11T00:00:00",
          "2022-07-12T00:00:00",
          "2022-07-13T00:00:00",
          "2022-07-14T00:00:00",
          "2022-07-15T00:00:00",
          "2022-07-18T00:00:00",
          "2022-07-19T00:00:00",
          "2022-07-20T00:00:00",
          "2022-07-21T00:00:00",
          "2022-07-22T00:00:00",
          "2022-07-25T00:00:00",
          "2022-07-26T00:00:00",
          "2022-07-27T00:00:00",
          "2022-07-28T00:00:00",
          "2022-07-29T00:00:00",
          "2022-08-01T00:00:00",
          "2022-08-02T00:00:00",
          "2022-08-03T00:00:00",
          "2022-08-04T00:00:00",
          "2022-08-05T00:00:00",
          "2022-08-08T00:00:00",
          "2022-08-09T00:00:00",
          "2022-08-10T00:00:00",
          "2022-08-11T00:00:00",
          "2022-08-12T00:00:00",
          "2022-08-15T00:00:00",
          "2022-08-16T00:00:00",
          "2022-08-17T00:00:00",
          "2022-08-18T00:00:00",
          "2022-08-19T00:00:00",
          "2022-08-22T00:00:00",
          "2022-08-23T00:00:00",
          "2022-08-24T00:00:00",
          "2022-08-25T00:00:00",
          "2022-08-26T00:00:00",
          "2022-08-30T00:00:00",
          "2022-08-31T00:00:00",
          "2022-09-01T00:00:00",
          "2022-09-02T00:00:00",
          "2022-09-05T00:00:00",
          "2022-09-06T00:00:00",
          "2022-09-07T00:00:00",
          "2022-09-08T00:00:00",
          "2022-09-09T00:00:00",
          "2022-09-12T00:00:00",
          "2022-09-13T00:00:00",
          "2022-09-14T00:00:00",
          "2022-09-15T00:00:00",
          "2022-09-16T00:00:00",
          "2022-09-20T00:00:00",
          "2022-09-21T00:00:00",
          "2022-09-22T00:00:00",
          "2022-09-23T00:00:00",
          "2022-09-26T00:00:00",
          "2022-09-27T00:00:00",
          "2022-09-28T00:00:00",
          "2022-09-29T00:00:00",
          "2022-09-30T00:00:00",
          "2022-10-03T00:00:00",
          "2022-10-04T00:00:00",
          "2022-10-05T00:00:00",
          "2022-10-06T00:00:00",
          "2022-10-07T00:00:00",
          "2022-10-10T00:00:00",
          "2022-10-11T00:00:00",
          "2022-10-12T00:00:00",
          "2022-10-13T00:00:00",
          "2022-10-14T00:00:00",
          "2022-10-17T00:00:00",
          "2022-10-18T00:00:00",
          "2022-10-19T00:00:00",
          "2022-10-20T00:00:00",
          "2022-10-21T00:00:00",
          "2022-10-24T00:00:00",
          "2022-10-25T00:00:00",
          "2022-10-26T00:00:00",
          "2022-10-27T00:00:00",
          "2022-10-28T00:00:00",
          "2022-10-31T00:00:00",
          "2022-11-01T00:00:00",
          "2022-11-02T00:00:00",
          "2022-11-03T00:00:00",
          "2022-11-04T00:00:00",
          "2022-11-07T00:00:00",
          "2022-11-08T00:00:00",
          "2022-11-09T00:00:00",
          "2022-11-10T00:00:00",
          "2022-11-11T00:00:00",
          "2022-11-14T00:00:00",
          "2022-11-15T00:00:00",
          "2022-11-16T00:00:00",
          "2022-11-17T00:00:00",
          "2022-11-18T00:00:00",
          "2022-11-21T00:00:00",
          "2022-11-22T00:00:00",
          "2022-11-23T00:00:00",
          "2022-11-24T00:00:00",
          "2022-11-25T00:00:00",
          "2022-11-28T00:00:00",
          "2022-11-29T00:00:00",
          "2022-11-30T00:00:00",
          "2022-12-01T00:00:00",
          "2022-12-02T00:00:00",
          "2022-12-05T00:00:00",
          "2022-12-06T00:00:00",
          "2022-12-07T00:00:00",
          "2022-12-08T00:00:00",
          "2022-12-09T00:00:00",
          "2022-12-12T00:00:00",
          "2022-12-13T00:00:00",
          "2022-12-14T00:00:00",
          "2022-12-15T00:00:00",
          "2022-12-16T00:00:00",
          "2022-12-19T00:00:00",
          "2022-12-20T00:00:00",
          "2022-12-21T00:00:00",
          "2022-12-22T00:00:00"
         ],
         "xaxis": "x",
         "y": [
          305.45001220703125,
          308.8999938964844,
          311.70001220703125,
          306.95001220703125,
          305.3500061035156,
          298,
          302.45001220703125,
          302.6499938964844,
          287.75,
          287.8500061035156,
          295,
          298.8500061035156,
          298.3500061035156,
          296.54998779296875,
          302.5,
          296.95001220703125,
          294.25,
          299.8999938964844,
          296.6000061035156,
          298.45001220703125,
          298.3999938964844,
          298.25,
          294.70001220703125,
          295.6499938964844,
          302.29998779296875,
          300,
          309.25,
          305.95001220703125,
          304.6499938964844,
          303.70001220703125,
          308.79998779296875,
          316.75,
          317.75,
          320.20001220703125,
          null,
          336.6000061035156,
          338.29998779296875,
          340.29998779296875,
          337.95001220703125,
          344.45001220703125,
          350.6499938964844,
          341.54998779296875,
          344.79998779296875,
          353.54998779296875,
          360.29998779296875,
          358.20001220703125,
          354.95001220703125,
          357.70001220703125,
          363.6000061035156,
          361.45001220703125,
          361.95001220703125,
          363.1000061035156,
          356.20001220703125,
          355,
          360.6499938964844,
          359.20001220703125,
          357.6000061035156,
          352.04998779296875,
          350.20001220703125,
          357,
          344.95001220703125,
          334.8500061035156,
          339.5,
          345.3999938964844,
          345.25,
          344.45001220703125,
          347.79998779296875,
          345.1499938964844,
          340.8999938964844,
          341.54998779296875,
          344.54998779296875,
          342,
          336.45001220703125,
          326.54998779296875,
          334.3999938964844,
          339.3999938964844,
          344.5,
          344.75,
          317.6499938964844,
          327.70001220703125,
          325.45001220703125,
          null,
          336.6000061035156,
          340.8500061035156,
          346.5,
          350.8999938964844,
          348.70001220703125,
          343.54998779296875,
          342.6000061035156,
          335,
          337.6499938964844,
          330.8999938964844,
          338.95001220703125,
          333.75,
          323.29998779296875,
          331.75,
          334.70001220703125,
          337.95001220703125,
          337.8500061035156,
          336,
          333,
          330.5,
          351,
          354.79998779296875,
          355.1499938964844,
          362.54998779296875,
          363.04998779296875,
          null,
          381.45001220703125,
          383.8999938964844,
          388.70001220703125,
          393.75,
          395.75,
          394.1000061035156,
          389.1499938964844,
          382.25,
          364.1000061035156,
          379.6499938964844,
          394.1000061035156,
          392.5,
          385.45001220703125,
          382.79998779296875,
          393.29998779296875,
          389.54998779296875,
          392.3999938964844,
          405.8999938964844,
          408.6499938964844,
          399,
          410.29998779296875,
          410.70001220703125,
          417.20001220703125,
          400.6499938964844,
          397.3500061035156,
          403.75,
          397.8999938964844,
          391.3999938964844,
          388.3999938964844,
          386.5,
          382.8999938964844,
          365.3500061035156,
          378.5,
          363.54998779296875,
          357.1000061035156,
          374.3999938964844,
          358.45001220703125,
          348.1499938964844,
          361.5,
          380,
          371.54998779296875,
          null,
          360.3999938964844,
          356.5,
          361,
          360.6499938964844,
          368.04998779296875,
          360.3999938964844,
          375,
          371.29998779296875,
          387.8999938964844,
          389.20001220703125,
          391.70001220703125,
          380.8999938964844,
          371.3500061035156,
          382.75,
          375.3500061035156,
          378.95001220703125,
          377.6000061035156,
          382.8999938964844,
          380.8500061035156,
          377.3999938964844,
          391.5,
          386.6499938964844,
          395.95001220703125,
          397.3500061035156,
          399.45001220703125,
          401.04998779296875,
          401.1499938964844,
          403.1499938964844,
          393.1499938964844,
          368.8500061035156,
          379.45001220703125,
          378.3999938964844,
          388.04998779296875,
          391.54998779296875,
          414.25,
          415.8999938964844,
          418.8999938964844,
          426.6499938964844,
          404.79998779296875,
          404.95001220703125,
          419.8999938964844,
          400.1499938964844,
          414.70001220703125,
          418.3500061035156,
          421.25,
          null,
          412.70001220703125,
          417.20001220703125,
          428.79998779296875,
          423.6000061035156,
          427.8500061035156,
          435.25,
          430.6499938964844,
          433.5,
          434.25,
          431.29998779296875,
          440.45001220703125,
          446.5,
          451.3999938964844,
          448.29998779296875,
          437.45001220703125,
          426.29998779296875,
          434.95001220703125,
          427.3999938964844,
          404.3999938964844,
          379.45001220703125,
          391.5,
          395.3500061035156,
          383.29998779296875,
          375.6499938964844,
          386.5,
          391.6000061035156,
          397.04998779296875,
          397.70001220703125,
          388.29998779296875,
          384.5,
          401.45001220703125,
          373.29998779296875,
          368.6499938964844,
          385.25,
          386.54998779296875,
          384.6000061035156,
          377.04998779296875,
          377.20001220703125,
          363.95001220703125,
          373.1000061035156,
          382.3500061035156,
          385.6000061035156,
          388.5,
          383.8999938964844,
          383.29998779296875,
          386.70001220703125,
          388.54998779296875,
          393.1499938964844,
          389.3999938964844,
          400,
          392.3500061035156,
          403.3500061035156,
          410.70001220703125,
          408,
          411.1499938964844,
          416.29998779296875,
          422.54998779296875,
          421.25,
          427.54998779296875,
          430.54998779296875,
          425.5,
          426.5,
          430.8999938964844,
          442,
          447.79998779296875,
          449,
          459.3999938964844,
          452.95001220703125,
          459.45001220703125,
          457.79998779296875,
          449.25,
          441.5,
          441.20001220703125,
          453.70001220703125,
          463.3500061035156,
          452.70001220703125,
          441.25,
          443.04998779296875,
          450.79998779296875,
          457.8500061035156,
          461.54998779296875,
          462.29998779296875,
          456.54998779296875,
          452.04998779296875,
          452.5,
          455.54998779296875,
          458.25,
          433.1000061035156,
          430.10101318359375,
          431.1000061035156,
          435.8999938964844,
          432.04998779296875,
          433.1000061035156,
          442.70001220703125,
          454.5,
          460.20001220703125,
          460.3500061035156,
          469.1000061035156,
          462.45001220703125,
          452.6000061035156,
          449.3500061035156,
          458.25,
          455.04998779296875,
          449.45001220703125,
          445.25,
          455.25,
          460.95001220703125,
          464.45001220703125,
          470,
          465.6000061035156,
          466,
          481.8999938964844,
          472.95001220703125,
          479.79998779296875,
          486.45001220703125,
          484.3500061035156,
          493.5,
          499.95001220703125,
          501.79998779296875,
          485.70001220703125,
          482.1000061035156,
          470.75,
          478.3999938964844,
          480.5,
          477.04998779296875,
          481.3500061035156,
          478.6499938964844,
          476.04998779296875,
          458.1499938964844,
          488,
          483.1000061035156,
          483.54998779296875,
          488.3500061035156,
          483.54998779296875,
          492.04998779296875,
          497.5,
          489.45001220703125,
          480.8999938964844,
          483.5,
          474.6499938964844,
          464,
          463.95001220703125,
          461.95001220703125,
          462.1000061035156,
          471.04998779296875,
          469.54998779296875,
          465.8500061035156,
          455.3999938964844,
          466.6000061035156,
          467.45001220703125,
          480,
          483.8500061035156
         ],
         "yaxis": "y"
        },
        {
         "hovertemplate": "variable=CNA.L<br>Date=%{x}<br>value=%{y}<extra></extra>",
         "legendgroup": "CNA.L",
         "line": {
          "color": "#EF553B",
          "dash": "solid"
         },
         "marker": {
          "symbol": "circle"
         },
         "mode": "lines",
         "name": "CNA.L",
         "showlegend": true,
         "type": "scattergl",
         "x": [
          "2021-08-09T00:00:00",
          "2021-08-10T00:00:00",
          "2021-08-11T00:00:00",
          "2021-08-12T00:00:00",
          "2021-08-13T00:00:00",
          "2021-08-16T00:00:00",
          "2021-08-17T00:00:00",
          "2021-08-18T00:00:00",
          "2021-08-19T00:00:00",
          "2021-08-20T00:00:00",
          "2021-08-23T00:00:00",
          "2021-08-24T00:00:00",
          "2021-08-25T00:00:00",
          "2021-08-26T00:00:00",
          "2021-08-27T00:00:00",
          "2021-08-31T00:00:00",
          "2021-09-01T00:00:00",
          "2021-09-02T00:00:00",
          "2021-09-03T00:00:00",
          "2021-09-06T00:00:00",
          "2021-09-07T00:00:00",
          "2021-09-08T00:00:00",
          "2021-09-09T00:00:00",
          "2021-09-10T00:00:00",
          "2021-09-13T00:00:00",
          "2021-09-14T00:00:00",
          "2021-09-15T00:00:00",
          "2021-09-16T00:00:00",
          "2021-09-17T00:00:00",
          "2021-09-20T00:00:00",
          "2021-09-21T00:00:00",
          "2021-09-22T00:00:00",
          "2021-09-23T00:00:00",
          "2021-09-24T00:00:00",
          "2021-09-27T00:00:00",
          "2021-09-28T00:00:00",
          "2021-09-29T00:00:00",
          "2021-09-30T00:00:00",
          "2021-10-01T00:00:00",
          "2021-10-04T00:00:00",
          "2021-10-05T00:00:00",
          "2021-10-06T00:00:00",
          "2021-10-07T00:00:00",
          "2021-10-08T00:00:00",
          "2021-10-11T00:00:00",
          "2021-10-12T00:00:00",
          "2021-10-13T00:00:00",
          "2021-10-14T00:00:00",
          "2021-10-15T00:00:00",
          "2021-10-18T00:00:00",
          "2021-10-19T00:00:00",
          "2021-10-20T00:00:00",
          "2021-10-21T00:00:00",
          "2021-10-22T00:00:00",
          "2021-10-25T00:00:00",
          "2021-10-26T00:00:00",
          "2021-10-27T00:00:00",
          "2021-10-28T00:00:00",
          "2021-10-29T00:00:00",
          "2021-11-01T00:00:00",
          "2021-11-02T00:00:00",
          "2021-11-03T00:00:00",
          "2021-11-04T00:00:00",
          "2021-11-05T00:00:00",
          "2021-11-08T00:00:00",
          "2021-11-09T00:00:00",
          "2021-11-10T00:00:00",
          "2021-11-11T00:00:00",
          "2021-11-12T00:00:00",
          "2021-11-15T00:00:00",
          "2021-11-16T00:00:00",
          "2021-11-17T00:00:00",
          "2021-11-18T00:00:00",
          "2021-11-19T00:00:00",
          "2021-11-22T00:00:00",
          "2021-11-23T00:00:00",
          "2021-11-24T00:00:00",
          "2021-11-25T00:00:00",
          "2021-11-26T00:00:00",
          "2021-11-29T00:00:00",
          "2021-11-30T00:00:00",
          "2021-12-01T00:00:00",
          "2021-12-02T00:00:00",
          "2021-12-03T00:00:00",
          "2021-12-06T00:00:00",
          "2021-12-07T00:00:00",
          "2021-12-08T00:00:00",
          "2021-12-09T00:00:00",
          "2021-12-10T00:00:00",
          "2021-12-13T00:00:00",
          "2021-12-14T00:00:00",
          "2021-12-15T00:00:00",
          "2021-12-16T00:00:00",
          "2021-12-17T00:00:00",
          "2021-12-20T00:00:00",
          "2021-12-21T00:00:00",
          "2021-12-22T00:00:00",
          "2021-12-23T00:00:00",
          "2021-12-24T00:00:00",
          "2021-12-29T00:00:00",
          "2021-12-30T00:00:00",
          "2021-12-31T00:00:00",
          "2022-01-04T00:00:00",
          "2022-01-05T00:00:00",
          "2022-01-06T00:00:00",
          "2022-01-07T00:00:00",
          "2022-01-10T00:00:00",
          "2022-01-11T00:00:00",
          "2022-01-12T00:00:00",
          "2022-01-13T00:00:00",
          "2022-01-14T00:00:00",
          "2022-01-17T00:00:00",
          "2022-01-18T00:00:00",
          "2022-01-19T00:00:00",
          "2022-01-20T00:00:00",
          "2022-01-21T00:00:00",
          "2022-01-24T00:00:00",
          "2022-01-25T00:00:00",
          "2022-01-26T00:00:00",
          "2022-01-27T00:00:00",
          "2022-01-28T00:00:00",
          "2022-01-31T00:00:00",
          "2022-02-01T00:00:00",
          "2022-02-02T00:00:00",
          "2022-02-03T00:00:00",
          "2022-02-04T00:00:00",
          "2022-02-07T00:00:00",
          "2022-02-08T00:00:00",
          "2022-02-09T00:00:00",
          "2022-02-10T00:00:00",
          "2022-02-11T00:00:00",
          "2022-02-14T00:00:00",
          "2022-02-15T00:00:00",
          "2022-02-16T00:00:00",
          "2022-02-17T00:00:00",
          "2022-02-18T00:00:00",
          "2022-02-21T00:00:00",
          "2022-02-22T00:00:00",
          "2022-02-23T00:00:00",
          "2022-02-24T00:00:00",
          "2022-02-25T00:00:00",
          "2022-02-28T00:00:00",
          "2022-03-01T00:00:00",
          "2022-03-02T00:00:00",
          "2022-03-03T00:00:00",
          "2022-03-04T00:00:00",
          "2022-03-07T00:00:00",
          "2022-03-08T00:00:00",
          "2022-03-09T00:00:00",
          "2022-03-10T00:00:00",
          "2022-03-11T00:00:00",
          "2022-03-14T00:00:00",
          "2022-03-15T00:00:00",
          "2022-03-16T00:00:00",
          "2022-03-17T00:00:00",
          "2022-03-18T00:00:00",
          "2022-03-21T00:00:00",
          "2022-03-22T00:00:00",
          "2022-03-23T00:00:00",
          "2022-03-24T00:00:00",
          "2022-03-25T00:00:00",
          "2022-03-28T00:00:00",
          "2022-03-29T00:00:00",
          "2022-03-30T00:00:00",
          "2022-03-31T00:00:00",
          "2022-04-01T00:00:00",
          "2022-04-04T00:00:00",
          "2022-04-05T00:00:00",
          "2022-04-06T00:00:00",
          "2022-04-07T00:00:00",
          "2022-04-08T00:00:00",
          "2022-04-11T00:00:00",
          "2022-04-12T00:00:00",
          "2022-04-13T00:00:00",
          "2022-04-14T00:00:00",
          "2022-04-19T00:00:00",
          "2022-04-20T00:00:00",
          "2022-04-21T00:00:00",
          "2022-04-22T00:00:00",
          "2022-04-25T00:00:00",
          "2022-04-26T00:00:00",
          "2022-04-27T00:00:00",
          "2022-04-28T00:00:00",
          "2022-04-29T00:00:00",
          "2022-05-03T00:00:00",
          "2022-05-04T00:00:00",
          "2022-05-05T00:00:00",
          "2022-05-06T00:00:00",
          "2022-05-09T00:00:00",
          "2022-05-10T00:00:00",
          "2022-05-11T00:00:00",
          "2022-05-12T00:00:00",
          "2022-05-13T00:00:00",
          "2022-05-16T00:00:00",
          "2022-05-17T00:00:00",
          "2022-05-18T00:00:00",
          "2022-05-19T00:00:00",
          "2022-05-20T00:00:00",
          "2022-05-23T00:00:00",
          "2022-05-24T00:00:00",
          "2022-05-25T00:00:00",
          "2022-05-26T00:00:00",
          "2022-05-27T00:00:00",
          "2022-05-30T00:00:00",
          "2022-05-31T00:00:00",
          "2022-06-01T00:00:00",
          "2022-06-06T00:00:00",
          "2022-06-07T00:00:00",
          "2022-06-08T00:00:00",
          "2022-06-09T00:00:00",
          "2022-06-10T00:00:00",
          "2022-06-13T00:00:00",
          "2022-06-14T00:00:00",
          "2022-06-15T00:00:00",
          "2022-06-16T00:00:00",
          "2022-06-17T00:00:00",
          "2022-06-20T00:00:00",
          "2022-06-21T00:00:00",
          "2022-06-22T00:00:00",
          "2022-06-23T00:00:00",
          "2022-06-24T00:00:00",
          "2022-06-27T00:00:00",
          "2022-06-28T00:00:00",
          "2022-06-29T00:00:00",
          "2022-06-30T00:00:00",
          "2022-07-01T00:00:00",
          "2022-07-04T00:00:00",
          "2022-07-05T00:00:00",
          "2022-07-06T00:00:00",
          "2022-07-07T00:00:00",
          "2022-07-08T00:00:00",
          "2022-07-11T00:00:00",
          "2022-07-12T00:00:00",
          "2022-07-13T00:00:00",
          "2022-07-14T00:00:00",
          "2022-07-15T00:00:00",
          "2022-07-18T00:00:00",
          "2022-07-19T00:00:00",
          "2022-07-20T00:00:00",
          "2022-07-21T00:00:00",
          "2022-07-22T00:00:00",
          "2022-07-25T00:00:00",
          "2022-07-26T00:00:00",
          "2022-07-27T00:00:00",
          "2022-07-28T00:00:00",
          "2022-07-29T00:00:00",
          "2022-08-01T00:00:00",
          "2022-08-02T00:00:00",
          "2022-08-03T00:00:00",
          "2022-08-04T00:00:00",
          "2022-08-05T00:00:00",
          "2022-08-08T00:00:00",
          "2022-08-09T00:00:00",
          "2022-08-10T00:00:00",
          "2022-08-11T00:00:00",
          "2022-08-12T00:00:00",
          "2022-08-15T00:00:00",
          "2022-08-16T00:00:00",
          "2022-08-17T00:00:00",
          "2022-08-18T00:00:00",
          "2022-08-19T00:00:00",
          "2022-08-22T00:00:00",
          "2022-08-23T00:00:00",
          "2022-08-24T00:00:00",
          "2022-08-25T00:00:00",
          "2022-08-26T00:00:00",
          "2022-08-30T00:00:00",
          "2022-08-31T00:00:00",
          "2022-09-01T00:00:00",
          "2022-09-02T00:00:00",
          "2022-09-05T00:00:00",
          "2022-09-06T00:00:00",
          "2022-09-07T00:00:00",
          "2022-09-08T00:00:00",
          "2022-09-09T00:00:00",
          "2022-09-12T00:00:00",
          "2022-09-13T00:00:00",
          "2022-09-14T00:00:00",
          "2022-09-15T00:00:00",
          "2022-09-16T00:00:00",
          "2022-09-20T00:00:00",
          "2022-09-21T00:00:00",
          "2022-09-22T00:00:00",
          "2022-09-23T00:00:00",
          "2022-09-26T00:00:00",
          "2022-09-27T00:00:00",
          "2022-09-28T00:00:00",
          "2022-09-29T00:00:00",
          "2022-09-30T00:00:00",
          "2022-10-03T00:00:00",
          "2022-10-04T00:00:00",
          "2022-10-05T00:00:00",
          "2022-10-06T00:00:00",
          "2022-10-07T00:00:00",
          "2022-10-10T00:00:00",
          "2022-10-11T00:00:00",
          "2022-10-12T00:00:00",
          "2022-10-13T00:00:00",
          "2022-10-14T00:00:00",
          "2022-10-17T00:00:00",
          "2022-10-18T00:00:00",
          "2022-10-19T00:00:00",
          "2022-10-20T00:00:00",
          "2022-10-21T00:00:00",
          "2022-10-24T00:00:00",
          "2022-10-25T00:00:00",
          "2022-10-26T00:00:00",
          "2022-10-27T00:00:00",
          "2022-10-28T00:00:00",
          "2022-10-31T00:00:00",
          "2022-11-01T00:00:00",
          "2022-11-02T00:00:00",
          "2022-11-03T00:00:00",
          "2022-11-04T00:00:00",
          "2022-11-07T00:00:00",
          "2022-11-08T00:00:00",
          "2022-11-09T00:00:00",
          "2022-11-10T00:00:00",
          "2022-11-11T00:00:00",
          "2022-11-14T00:00:00",
          "2022-11-15T00:00:00",
          "2022-11-16T00:00:00",
          "2022-11-17T00:00:00",
          "2022-11-18T00:00:00",
          "2022-11-21T00:00:00",
          "2022-11-22T00:00:00",
          "2022-11-23T00:00:00",
          "2022-11-24T00:00:00",
          "2022-11-25T00:00:00",
          "2022-11-28T00:00:00",
          "2022-11-29T00:00:00",
          "2022-11-30T00:00:00",
          "2022-12-01T00:00:00",
          "2022-12-02T00:00:00",
          "2022-12-05T00:00:00",
          "2022-12-06T00:00:00",
          "2022-12-07T00:00:00",
          "2022-12-08T00:00:00",
          "2022-12-09T00:00:00",
          "2022-12-12T00:00:00",
          "2022-12-13T00:00:00",
          "2022-12-14T00:00:00",
          "2022-12-15T00:00:00",
          "2022-12-16T00:00:00",
          "2022-12-19T00:00:00",
          "2022-12-20T00:00:00",
          "2022-12-21T00:00:00",
          "2022-12-22T00:00:00"
         ],
         "xaxis": "x",
         "y": [
          49.27000045776367,
          49.290000915527344,
          49.81999969482422,
          49.86000061035156,
          49.93000030517578,
          50.52000045776367,
          50.41999816894531,
          50.400001525878906,
          49.72999954223633,
          50.779998779296875,
          50.81999969482422,
          51.31999969482422,
          51.20000076293945,
          51.41999816894531,
          51.20000076293945,
          51.959999084472656,
          52.15999984741211,
          52.2400016784668,
          53.5,
          52.040000915527344,
          52.060001373291016,
          51.099998474121094,
          51.099998474121094,
          49.70000076293945,
          51.20000076293945,
          51.20000076293945,
          50.939998626708984,
          50.84000015258789,
          51.08000183105469,
          53.41999816894531,
          53.959999084472656,
          53.7400016784668,
          54.70000076293945,
          54.02000045776367,
          55.599998474121094,
          55.13999938964844,
          56.31999969482422,
          56.68000030517578,
          57.720001220703125,
          58.34000015258789,
          58.7599983215332,
          57.58000183105469,
          58.86000061035156,
          60,
          60.720001220703125,
          61.08000183105469,
          58.29999923706055,
          59.70000076293945,
          58.47999954223633,
          58.380001068115234,
          58.5,
          60.220001220703125,
          59.459999084472656,
          58.779998779296875,
          59.2400016784668,
          59.2599983215332,
          60.400001525878906,
          60.380001068115234,
          60.31999969482422,
          61,
          61.540000915527344,
          62,
          63.15999984741211,
          63.5,
          64,
          63.7599983215332,
          63.79999923706055,
          65.62000274658203,
          65.91999816894531,
          66.05999755859375,
          67.4800033569336,
          67.58000183105469,
          68.22000122070312,
          67.5,
          67.12000274658203,
          67,
          66.95999908447266,
          67.72000122070312,
          64.91999816894531,
          65.27999877929688,
          64.77999877929688,
          65.5,
          65,
          65.94000244140625,
          67.22000122070312,
          67.68000030517578,
          67.58000183105469,
          67.87999725341797,
          67.76000213623047,
          67,
          67.30000305175781,
          66.66000366210938,
          67.81999969482422,
          66.5,
          66.9000015258789,
          68.5,
          68.58000183105469,
          68.86000061035156,
          68.9800033569336,
          71,
          71.4000015258789,
          71.5,
          73.81999969482422,
          73.5199966430664,
          72.72000122070312,
          73.5999984741211,
          74,
          74.44000244140625,
          72.9800033569336,
          73.5999984741211,
          74.68000030517578,
          74.0999984741211,
          73.9800033569336,
          72.55999755859375,
          72.33999633789062,
          71.0199966430664,
          69.04000091552734,
          69.9800033569336,
          72.12000274658203,
          73.0999984741211,
          72.05999755859375,
          72.31999969482422,
          74.30000305175781,
          76.66000366210938,
          77.66000366210938,
          76.4800033569336,
          77.63999938964844,
          78.26000213623047,
          78.9000015258789,
          79.04000091552734,
          79.0999984741211,
          77.72000122070312,
          77.5,
          77.0199966430664,
          77.5199966430664,
          77.9000015258789,
          76.45999908447266,
          75.77999877929688,
          75.76000213623047,
          72.16000366210938,
          77.37999725341797,
          77.27999877929688,
          74.4000015258789,
          73.31999969482422,
          72.55999755859375,
          72.80000305175781,
          72.37999725341797,
          74.45999908447266,
          76.30000305175781,
          76.55999755859375,
          76.0999984741211,
          76.94000244140625,
          78.41999816894531,
          77.95999908447266,
          78.41999816894531,
          79.0999984741211,
          80.4000015258789,
          80.41999816894531,
          82.19999694824219,
          82.12000274658203,
          84.5,
          82.76000213623047,
          81.87999725341797,
          82.13999938964844,
          80.08000183105469,
          78.36000061035156,
          78.83999633789062,
          79.69999694824219,
          80.58000183105469,
          80.5199966430664,
          81.0199966430664,
          80.69999694824219,
          79.69999694824219,
          79.54000091552734,
          78.62000274658203,
          78.4000015258789,
          79.22000122070312,
          80.33999633789062,
          79.18000030517578,
          79.76000213623047,
          78.9000015258789,
          79.36000061035156,
          80.4000015258789,
          79.45999908447266,
          79.4800033569336,
          79.0999984741211,
          80.12000274658203,
          76.5,
          71.94000244140625,
          74.76000213623047,
          78.22000122070312,
          76.27999877929688,
          77.04000091552734,
          79.81999969482422,
          84.54000091552734,
          87.86000061035156,
          86.63999938964844,
          88.18000030517578,
          89.5999984741211,
          83.16000366210938,
          85.31999969482422,
          79.13999938964844,
          77.23999786376953,
          77.44000244140625,
          79.18000030517578,
          80.54000091552734,
          83.18000030517578,
          84.87999725341797,
          83.27999877929688,
          81.94000244140625,
          80.66000366210938,
          77.9800033569336,
          0.7609999775886536,
          78.94000244140625,
          76.66000366210938,
          77.44000244140625,
          80.63999938964844,
          79.87999725341797,
          83.54000091552734,
          82.86000061035156,
          81.16000366210938,
          82.19999694824219,
          83.9000015258789,
          82,
          80,
          81.4000015258789,
          81.83999633789062,
          76,
          75.27999877929688,
          77.66000366210938,
          80.08000183105469,
          82.81999969482422,
          83.95999908447266,
          84.36000061035156,
          85.58000183105469,
          87.12000274658203,
          88.5999984741211,
          88.58000183105469,
          87.81999969482422,
          87.12000274658203,
          87.16000366210938,
          88.44000244140625,
          89.37999725341797,
          90.9800033569336,
          88.83999633789062,
          87.69999694824219,
          88.80000305175781,
          89.13999938964844,
          85.5,
          86.04000091552734,
          83.80000305175781,
          83,
          84.12000274658203,
          79.5199966430664,
          77.76000213623047,
          79.63999938964844,
          80.95999908447266,
          82.83999633789062,
          81.72000122070312,
          82.05999755859375,
          82.68000030517578,
          84.26000213623047,
          84.33999633789062,
          82.0999984741211,
          81.44000244140625,
          81.95999908447266,
          76.55999755859375,
          75.73999786376953,
          76.5199966430664,
          78.37999725341797,
          78.66000366210938,
          81.94000244140625,
          83.54000091552734,
          82.77999877929688,
          86.9000015258789,
          87.13999938964844,
          84.94000244140625,
          82.4000015258789,
          81.81999969482422,
          80.77999877929688,
          79.58000183105469,
          81.31999969482422,
          80.87999725341797,
          77.68000030517578,
          76.5530014038086,
          73.87999725341797,
          75.58000183105469,
          72.22000122070312,
          70.83999633789062,
          72.05999755859375,
          71.4000015258789,
          71.62000274658203,
          68.44000244140625,
          70.94000244140625,
          69.04000091552734,
          69.36000061035156,
          68.68000030517578,
          69.91999816894531,
          71.62000274658203,
          72.30000305175781,
          69.36000061035156,
          69.87999725341797,
          69.23999786376953,
          67.36000061035156,
          68.86000061035156,
          68.5,
          70.05999755859375,
          69.62000274658203,
          73.16000366210938,
          76.62000274658203,
          77.9000015258789,
          78.73999786376953,
          79.69999694824219,
          79.91999816894531,
          76.62000274658203,
          76.94000244140625,
          77.58000183105469,
          83.30000305175781,
          82.30000305175781,
          83.45999908447266,
          86.27999877929688,
          86.9800033569336,
          91.69999694824219,
          93,
          93.76000213623047,
          94.87999725341797,
          94.66000366210938,
          95.81999969482422,
          93.94000244140625,
          94.81999969482422,
          94.81999969482422,
          95.05999755859375,
          95.54000091552734,
          95,
          94.66000366210938,
          94.72000122070312,
          92.91999816894531,
          92.5199966430664,
          92.23999786376953,
          92.22000122070312,
          90.5199966430664,
          91.9800033569336,
          92.31999969482422,
          90.86000061035156,
          91.9800033569336,
          94.37999725341797,
          95.87999725341797,
          95.83999633789062
         ],
         "yaxis": "y"
        },
        {
         "hovertemplate": "variable=SHEL.L<br>Date=%{x}<br>value=%{y}<extra></extra>",
         "legendgroup": "SHEL.L",
         "line": {
          "color": "#00cc96",
          "dash": "solid"
         },
         "marker": {
          "symbol": "circle"
         },
         "mode": "lines",
         "name": "SHEL.L",
         "showlegend": true,
         "type": "scattergl",
         "x": [
          "2021-08-09T00:00:00",
          "2021-08-10T00:00:00",
          "2021-08-11T00:00:00",
          "2021-08-12T00:00:00",
          "2021-08-13T00:00:00",
          "2021-08-16T00:00:00",
          "2021-08-17T00:00:00",
          "2021-08-18T00:00:00",
          "2021-08-19T00:00:00",
          "2021-08-20T00:00:00",
          "2021-08-23T00:00:00",
          "2021-08-24T00:00:00",
          "2021-08-25T00:00:00",
          "2021-08-26T00:00:00",
          "2021-08-27T00:00:00",
          "2021-08-31T00:00:00",
          "2021-09-01T00:00:00",
          "2021-09-02T00:00:00",
          "2021-09-03T00:00:00",
          "2021-09-06T00:00:00",
          "2021-09-07T00:00:00",
          "2021-09-08T00:00:00",
          "2021-09-09T00:00:00",
          "2021-09-10T00:00:00",
          "2021-09-13T00:00:00",
          "2021-09-14T00:00:00",
          "2021-09-15T00:00:00",
          "2021-09-16T00:00:00",
          "2021-09-17T00:00:00",
          "2021-09-20T00:00:00",
          "2021-09-21T00:00:00",
          "2021-09-22T00:00:00",
          "2021-09-23T00:00:00",
          "2021-09-24T00:00:00",
          "2021-09-27T00:00:00",
          "2021-09-28T00:00:00",
          "2021-09-29T00:00:00",
          "2021-09-30T00:00:00",
          "2021-10-01T00:00:00",
          "2021-10-04T00:00:00",
          "2021-10-05T00:00:00",
          "2021-10-06T00:00:00",
          "2021-10-07T00:00:00",
          "2021-10-08T00:00:00",
          "2021-10-11T00:00:00",
          "2021-10-12T00:00:00",
          "2021-10-13T00:00:00",
          "2021-10-14T00:00:00",
          "2021-10-15T00:00:00",
          "2021-10-18T00:00:00",
          "2021-10-19T00:00:00",
          "2021-10-20T00:00:00",
          "2021-10-21T00:00:00",
          "2021-10-22T00:00:00",
          "2021-10-25T00:00:00",
          "2021-10-26T00:00:00",
          "2021-10-27T00:00:00",
          "2021-10-28T00:00:00",
          "2021-10-29T00:00:00",
          "2021-11-01T00:00:00",
          "2021-11-02T00:00:00",
          "2021-11-03T00:00:00",
          "2021-11-04T00:00:00",
          "2021-11-05T00:00:00",
          "2021-11-08T00:00:00",
          "2021-11-09T00:00:00",
          "2021-11-10T00:00:00",
          "2021-11-11T00:00:00",
          "2021-11-12T00:00:00",
          "2021-11-15T00:00:00",
          "2021-11-16T00:00:00",
          "2021-11-17T00:00:00",
          "2021-11-18T00:00:00",
          "2021-11-19T00:00:00",
          "2021-11-22T00:00:00",
          "2021-11-23T00:00:00",
          "2021-11-24T00:00:00",
          "2021-11-25T00:00:00",
          "2021-11-26T00:00:00",
          "2021-11-29T00:00:00",
          "2021-11-30T00:00:00",
          "2021-12-01T00:00:00",
          "2021-12-02T00:00:00",
          "2021-12-03T00:00:00",
          "2021-12-06T00:00:00",
          "2021-12-07T00:00:00",
          "2021-12-08T00:00:00",
          "2021-12-09T00:00:00",
          "2021-12-10T00:00:00",
          "2021-12-13T00:00:00",
          "2021-12-14T00:00:00",
          "2021-12-15T00:00:00",
          "2021-12-16T00:00:00",
          "2021-12-17T00:00:00",
          "2021-12-20T00:00:00",
          "2021-12-21T00:00:00",
          "2021-12-22T00:00:00",
          "2021-12-23T00:00:00",
          "2021-12-24T00:00:00",
          "2021-12-29T00:00:00",
          "2021-12-30T00:00:00",
          "2021-12-31T00:00:00",
          "2022-01-04T00:00:00",
          "2022-01-05T00:00:00",
          "2022-01-06T00:00:00",
          "2022-01-07T00:00:00",
          "2022-01-10T00:00:00",
          "2022-01-11T00:00:00",
          "2022-01-12T00:00:00",
          "2022-01-13T00:00:00",
          "2022-01-14T00:00:00",
          "2022-01-17T00:00:00",
          "2022-01-18T00:00:00",
          "2022-01-19T00:00:00",
          "2022-01-20T00:00:00",
          "2022-01-21T00:00:00",
          "2022-01-24T00:00:00",
          "2022-01-25T00:00:00",
          "2022-01-26T00:00:00",
          "2022-01-27T00:00:00",
          "2022-01-28T00:00:00",
          "2022-01-31T00:00:00",
          "2022-02-01T00:00:00",
          "2022-02-02T00:00:00",
          "2022-02-03T00:00:00",
          "2022-02-04T00:00:00",
          "2022-02-07T00:00:00",
          "2022-02-08T00:00:00",
          "2022-02-09T00:00:00",
          "2022-02-10T00:00:00",
          "2022-02-11T00:00:00",
          "2022-02-14T00:00:00",
          "2022-02-15T00:00:00",
          "2022-02-16T00:00:00",
          "2022-02-17T00:00:00",
          "2022-02-18T00:00:00",
          "2022-02-21T00:00:00",
          "2022-02-22T00:00:00",
          "2022-02-23T00:00:00",
          "2022-02-24T00:00:00",
          "2022-02-25T00:00:00",
          "2022-02-28T00:00:00",
          "2022-03-01T00:00:00",
          "2022-03-02T00:00:00",
          "2022-03-03T00:00:00",
          "2022-03-04T00:00:00",
          "2022-03-07T00:00:00",
          "2022-03-08T00:00:00",
          "2022-03-09T00:00:00",
          "2022-03-10T00:00:00",
          "2022-03-11T00:00:00",
          "2022-03-14T00:00:00",
          "2022-03-15T00:00:00",
          "2022-03-16T00:00:00",
          "2022-03-17T00:00:00",
          "2022-03-18T00:00:00",
          "2022-03-21T00:00:00",
          "2022-03-22T00:00:00",
          "2022-03-23T00:00:00",
          "2022-03-24T00:00:00",
          "2022-03-25T00:00:00",
          "2022-03-28T00:00:00",
          "2022-03-29T00:00:00",
          "2022-03-30T00:00:00",
          "2022-03-31T00:00:00",
          "2022-04-01T00:00:00",
          "2022-04-04T00:00:00",
          "2022-04-05T00:00:00",
          "2022-04-06T00:00:00",
          "2022-04-07T00:00:00",
          "2022-04-08T00:00:00",
          "2022-04-11T00:00:00",
          "2022-04-12T00:00:00",
          "2022-04-13T00:00:00",
          "2022-04-14T00:00:00",
          "2022-04-19T00:00:00",
          "2022-04-20T00:00:00",
          "2022-04-21T00:00:00",
          "2022-04-22T00:00:00",
          "2022-04-25T00:00:00",
          "2022-04-26T00:00:00",
          "2022-04-27T00:00:00",
          "2022-04-28T00:00:00",
          "2022-04-29T00:00:00",
          "2022-05-03T00:00:00",
          "2022-05-04T00:00:00",
          "2022-05-05T00:00:00",
          "2022-05-06T00:00:00",
          "2022-05-09T00:00:00",
          "2022-05-10T00:00:00",
          "2022-05-11T00:00:00",
          "2022-05-12T00:00:00",
          "2022-05-13T00:00:00",
          "2022-05-16T00:00:00",
          "2022-05-17T00:00:00",
          "2022-05-18T00:00:00",
          "2022-05-19T00:00:00",
          "2022-05-20T00:00:00",
          "2022-05-23T00:00:00",
          "2022-05-24T00:00:00",
          "2022-05-25T00:00:00",
          "2022-05-26T00:00:00",
          "2022-05-27T00:00:00",
          "2022-05-30T00:00:00",
          "2022-05-31T00:00:00",
          "2022-06-01T00:00:00",
          "2022-06-06T00:00:00",
          "2022-06-07T00:00:00",
          "2022-06-08T00:00:00",
          "2022-06-09T00:00:00",
          "2022-06-10T00:00:00",
          "2022-06-13T00:00:00",
          "2022-06-14T00:00:00",
          "2022-06-15T00:00:00",
          "2022-06-16T00:00:00",
          "2022-06-17T00:00:00",
          "2022-06-20T00:00:00",
          "2022-06-21T00:00:00",
          "2022-06-22T00:00:00",
          "2022-06-23T00:00:00",
          "2022-06-24T00:00:00",
          "2022-06-27T00:00:00",
          "2022-06-28T00:00:00",
          "2022-06-29T00:00:00",
          "2022-06-30T00:00:00",
          "2022-07-01T00:00:00",
          "2022-07-04T00:00:00",
          "2022-07-05T00:00:00",
          "2022-07-06T00:00:00",
          "2022-07-07T00:00:00",
          "2022-07-08T00:00:00",
          "2022-07-11T00:00:00",
          "2022-07-12T00:00:00",
          "2022-07-13T00:00:00",
          "2022-07-14T00:00:00",
          "2022-07-15T00:00:00",
          "2022-07-18T00:00:00",
          "2022-07-19T00:00:00",
          "2022-07-20T00:00:00",
          "2022-07-21T00:00:00",
          "2022-07-22T00:00:00",
          "2022-07-25T00:00:00",
          "2022-07-26T00:00:00",
          "2022-07-27T00:00:00",
          "2022-07-28T00:00:00",
          "2022-07-29T00:00:00",
          "2022-08-01T00:00:00",
          "2022-08-02T00:00:00",
          "2022-08-03T00:00:00",
          "2022-08-04T00:00:00",
          "2022-08-05T00:00:00",
          "2022-08-08T00:00:00",
          "2022-08-09T00:00:00",
          "2022-08-10T00:00:00",
          "2022-08-11T00:00:00",
          "2022-08-12T00:00:00",
          "2022-08-15T00:00:00",
          "2022-08-16T00:00:00",
          "2022-08-17T00:00:00",
          "2022-08-18T00:00:00",
          "2022-08-19T00:00:00",
          "2022-08-22T00:00:00",
          "2022-08-23T00:00:00",
          "2022-08-24T00:00:00",
          "2022-08-25T00:00:00",
          "2022-08-26T00:00:00",
          "2022-08-30T00:00:00",
          "2022-08-31T00:00:00",
          "2022-09-01T00:00:00",
          "2022-09-02T00:00:00",
          "2022-09-05T00:00:00",
          "2022-09-06T00:00:00",
          "2022-09-07T00:00:00",
          "2022-09-08T00:00:00",
          "2022-09-09T00:00:00",
          "2022-09-12T00:00:00",
          "2022-09-13T00:00:00",
          "2022-09-14T00:00:00",
          "2022-09-15T00:00:00",
          "2022-09-16T00:00:00",
          "2022-09-20T00:00:00",
          "2022-09-21T00:00:00",
          "2022-09-22T00:00:00",
          "2022-09-23T00:00:00",
          "2022-09-26T00:00:00",
          "2022-09-27T00:00:00",
          "2022-09-28T00:00:00",
          "2022-09-29T00:00:00",
          "2022-09-30T00:00:00",
          "2022-10-03T00:00:00",
          "2022-10-04T00:00:00",
          "2022-10-05T00:00:00",
          "2022-10-06T00:00:00",
          "2022-10-07T00:00:00",
          "2022-10-10T00:00:00",
          "2022-10-11T00:00:00",
          "2022-10-12T00:00:00",
          "2022-10-13T00:00:00",
          "2022-10-14T00:00:00",
          "2022-10-17T00:00:00",
          "2022-10-18T00:00:00",
          "2022-10-19T00:00:00",
          "2022-10-20T00:00:00",
          "2022-10-21T00:00:00",
          "2022-10-24T00:00:00",
          "2022-10-25T00:00:00",
          "2022-10-26T00:00:00",
          "2022-10-27T00:00:00",
          "2022-10-28T00:00:00",
          "2022-10-31T00:00:00",
          "2022-11-01T00:00:00",
          "2022-11-02T00:00:00",
          "2022-11-03T00:00:00",
          "2022-11-04T00:00:00",
          "2022-11-07T00:00:00",
          "2022-11-08T00:00:00",
          "2022-11-09T00:00:00",
          "2022-11-10T00:00:00",
          "2022-11-11T00:00:00",
          "2022-11-14T00:00:00",
          "2022-11-15T00:00:00",
          "2022-11-16T00:00:00",
          "2022-11-17T00:00:00",
          "2022-11-18T00:00:00",
          "2022-11-21T00:00:00",
          "2022-11-22T00:00:00",
          "2022-11-23T00:00:00",
          "2022-11-24T00:00:00",
          "2022-11-25T00:00:00",
          "2022-11-28T00:00:00",
          "2022-11-29T00:00:00",
          "2022-11-30T00:00:00",
          "2022-12-01T00:00:00",
          "2022-12-02T00:00:00",
          "2022-12-05T00:00:00",
          "2022-12-06T00:00:00",
          "2022-12-07T00:00:00",
          "2022-12-08T00:00:00",
          "2022-12-09T00:00:00",
          "2022-12-12T00:00:00",
          "2022-12-13T00:00:00",
          "2022-12-14T00:00:00",
          "2022-12-15T00:00:00",
          "2022-12-16T00:00:00",
          "2022-12-19T00:00:00",
          "2022-12-20T00:00:00",
          "2022-12-21T00:00:00",
          "2022-12-22T00:00:00"
         ],
         "xaxis": "x",
         "y": [
          1470.5999755859375,
          1477.5999755859375,
          1490.800048828125,
          1470,
          1459.5999755859375,
          1425.4000244140625,
          1447.5999755859375,
          1441.4000244140625,
          1384.5999755859375,
          1392.4000244140625,
          1422.199951171875,
          1434.5999755859375,
          1432.4000244140625,
          1432.199951171875,
          1453.800048828125,
          1431.5999755859375,
          1428.199951171875,
          1455.4000244140625,
          1433.5999755859375,
          1443.199951171875,
          1442.199951171875,
          1434.199951171875,
          1417.800048828125,
          1418.800048828125,
          1452.199951171875,
          1450,
          1476.199951171875,
          1464.199951171875,
          1456,
          1436.800048828125,
          1489,
          1517.800048828125,
          1523.800048828125,
          1529.199951171875,
          1597.5999755859375,
          1641.800048828125,
          1651.199951171875,
          1655,
          1647.800048828125,
          1672.5999755859375,
          1699.199951171875,
          1652.5999755859375,
          1672.4000244140625,
          1708.5999755859375,
          1736.800048828125,
          1731.199951171875,
          1721,
          1744.800048828125,
          1772,
          1768.199951171875,
          1778.4000244140625,
          1786,
          1756.199951171875,
          1749.199951171875,
          1775.800048828125,
          1773.800048828125,
          1765.5999755859375,
          1713.199951171875,
          1681,
          1683.199951171875,
          1661.5999755859375,
          null,
          1658,
          1683.4000244140625,
          1686.199951171875,
          1677,
          1681.199951171875,
          1664.800048828125,
          1641.199951171875,
          1676.4000244140625,
          1700.800048828125,
          1689.4000244140625,
          1660.800048828125,
          1609.4000244140625,
          1615.4000244140625,
          1638.199951171875,
          1657.5999755859375,
          1649.5999755859375,
          1556.199951171875,
          1594.800048828125,
          1577,
          1607,
          1633.199951171875,
          1651.4000244140625,
          1681.4000244140625,
          1695.5999755859375,
          1691.199951171875,
          1669.199951171875,
          1659.800048828125,
          1615,
          1619.4000244140625,
          1594.199951171875,
          1627,
          1593,
          1573.5999755859375,
          1618.5999755859375,
          1628,
          1645.800048828125,
          1644,
          1629.4000244140625,
          1619,
          1621.800048828125,
          1700.800048828125,
          1722.199951171875,
          1718.199951171875,
          1736.5999755859375,
          1730.5999755859375,
          1758.4000244140625,
          1806.4000244140625,
          1806.199951171875,
          1820.5999755859375,
          1842.800048828125,
          1872.199951171875,
          1869.4000244140625,
          1838.4000244140625,
          1807.4000244140625,
          1747.199951171875,
          1810.800048828125,
          1912.199951171875,
          1919.199951171875,
          1895.199951171875,
          1886.5999755859375,
          1946.5999755859375,
          1932.4000244140625,
          1960,
          2037,
          2061.5,
          1996,
          2028,
          2018.5,
          2039,
          2005.5,
          1984,
          2023.5,
          1969.4000244140625,
          1957,
          1944.199951171875,
          1954.5999755859375,
          1943.199951171875,
          1952.800048828125,
          2000.5,
          1972,
          1951,
          2047.5,
          1930.199951171875,
          1833.4000244140625,
          1981,
          2039.5,
          2004.5,
          1955.800048828125,
          1963.5999755859375,
          1926.800048828125,
          1940,
          1903.5999755859375,
          1965.4000244140625,
          1941.800048828125,
          2020.5,
          2007.5,
          2085,
          2081,
          2110.5,
          2061.5,
          2022,
          2111.5,
          2108.5,
          2119.5,
          2116,
          2121,
          2131.5,
          2086,
          2168,
          2135,
          2165.5,
          2182,
          2192,
          2228,
          2208,
          2222,
          2188,
          2074.5,
          2124,
          2130.5,
          2185,
          2173,
          2216,
          2225,
          2293,
          2299.5,
          2225,
          2233.5,
          2316.5,
          2240.5,
          2303.5,
          2337.5,
          2350.5,
          2370.5,
          2328.5,
          2336.5,
          2387.5,
          2366,
          2378.5,
          2404,
          2380,
          2374,
          2376.5,
          2361,
          2394.5,
          2416,
          2440,
          2395.5,
          2338,
          2287.5,
          2308,
          2271,
          2144,
          2044,
          2110.5,
          2151,
          2076,
          2029,
          2087.5,
          2112.5,
          2177,
          2185,
          2134,
          2121,
          2203,
          2016,
          1974.199951171875,
          2033.5,
          2043.5,
          2030.5,
          1998,
          2002,
          1936.4000244140625,
          1989.5999755859375,
          2037,
          2034,
          2050.5,
          2028.5,
          2039.5,
          2069,
          2086.5,
          2117.5,
          2124,
          2179,
          2136,
          2166,
          2170.5,
          2132.5,
          2150,
          2161.5,
          2184.5,
          2169.5,
          2213.5,
          2215,
          2182,
          2168.5,
          2182,
          2217.5,
          2248.5,
          2244,
          2317.5,
          2292.5,
          2320.5,
          2334,
          2339.5,
          2290,
          2273,
          2324,
          2348,
          2308.5,
          2263,
          2270,
          2300,
          2321.5,
          2327.5,
          2341,
          2314.5,
          2296.5,
          2302.5,
          2335,
          2338.5,
          2214.5,
          2211.5,
          2243.5,
          2261,
          2241.5,
          2246.5,
          2299.5,
          2338,
          2378.5,
          2312,
          2345.5,
          2327.5,
          2286,
          2269,
          2302.5,
          2270,
          2266.5,
          2253,
          2273,
          2320,
          2344,
          2345,
          2289.5,
          2299.5,
          2425,
          2418.5,
          2404,
          2454,
          2428,
          2491.5,
          2526.5,
          2501,
          2438,
          2383.5,
          2315,
          2360,
          2358,
          2375,
          2370.5,
          2364.5,
          2344.5,
          2272.5,
          2382.5,
          2356.5,
          2342.5,
          2367,
          2360.5,
          2400.5,
          2444,
          2382,
          2365.5,
          2375.5,
          2358.5,
          2315.5,
          2309.5,
          2286,
          2295.5,
          2318,
          2296,
          2289.5,
          2243,
          2287,
          2307.5,
          2354.5,
          2394
         ],
         "yaxis": "y"
        }
       ],
       "layout": {
        "legend": {
         "title": {
          "text": "variable"
         },
         "tracegroupgap": 0
        },
        "margin": {
         "t": 60
        },
        "template": {
         "data": {
          "bar": [
           {
            "error_x": {
             "color": "#2a3f5f"
            },
            "error_y": {
             "color": "#2a3f5f"
            },
            "marker": {
             "line": {
              "color": "#E5ECF6",
              "width": 0.5
             },
             "pattern": {
              "fillmode": "overlay",
              "size": 10,
              "solidity": 0.2
             }
            },
            "type": "bar"
           }
          ],
          "barpolar": [
           {
            "marker": {
             "line": {
              "color": "#E5ECF6",
              "width": 0.5
             },
             "pattern": {
              "fillmode": "overlay",
              "size": 10,
              "solidity": 0.2
             }
            },
            "type": "barpolar"
           }
          ],
          "carpet": [
           {
            "aaxis": {
             "endlinecolor": "#2a3f5f",
             "gridcolor": "white",
             "linecolor": "white",
             "minorgridcolor": "white",
             "startlinecolor": "#2a3f5f"
            },
            "baxis": {
             "endlinecolor": "#2a3f5f",
             "gridcolor": "white",
             "linecolor": "white",
             "minorgridcolor": "white",
             "startlinecolor": "#2a3f5f"
            },
            "type": "carpet"
           }
          ],
          "choropleth": [
           {
            "colorbar": {
             "outlinewidth": 0,
             "ticks": ""
            },
            "type": "choropleth"
           }
          ],
          "contour": [
           {
            "colorbar": {
             "outlinewidth": 0,
             "ticks": ""
            },
            "colorscale": [
             [
              0,
              "#0d0887"
             ],
             [
              0.1111111111111111,
              "#46039f"
             ],
             [
              0.2222222222222222,
              "#7201a8"
             ],
             [
              0.3333333333333333,
              "#9c179e"
             ],
             [
              0.4444444444444444,
              "#bd3786"
             ],
             [
              0.5555555555555556,
              "#d8576b"
             ],
             [
              0.6666666666666666,
              "#ed7953"
             ],
             [
              0.7777777777777778,
              "#fb9f3a"
             ],
             [
              0.8888888888888888,
              "#fdca26"
             ],
             [
              1,
              "#f0f921"
             ]
            ],
            "type": "contour"
           }
          ],
          "contourcarpet": [
           {
            "colorbar": {
             "outlinewidth": 0,
             "ticks": ""
            },
            "type": "contourcarpet"
           }
          ],
          "heatmap": [
           {
            "colorbar": {
             "outlinewidth": 0,
             "ticks": ""
            },
            "colorscale": [
             [
              0,
              "#0d0887"
             ],
             [
              0.1111111111111111,
              "#46039f"
             ],
             [
              0.2222222222222222,
              "#7201a8"
             ],
             [
              0.3333333333333333,
              "#9c179e"
             ],
             [
              0.4444444444444444,
              "#bd3786"
             ],
             [
              0.5555555555555556,
              "#d8576b"
             ],
             [
              0.6666666666666666,
              "#ed7953"
             ],
             [
              0.7777777777777778,
              "#fb9f3a"
             ],
             [
              0.8888888888888888,
              "#fdca26"
             ],
             [
              1,
              "#f0f921"
             ]
            ],
            "type": "heatmap"
           }
          ],
          "heatmapgl": [
           {
            "colorbar": {
             "outlinewidth": 0,
             "ticks": ""
            },
            "colorscale": [
             [
              0,
              "#0d0887"
             ],
             [
              0.1111111111111111,
              "#46039f"
             ],
             [
              0.2222222222222222,
              "#7201a8"
             ],
             [
              0.3333333333333333,
              "#9c179e"
             ],
             [
              0.4444444444444444,
              "#bd3786"
             ],
             [
              0.5555555555555556,
              "#d8576b"
             ],
             [
              0.6666666666666666,
              "#ed7953"
             ],
             [
              0.7777777777777778,
              "#fb9f3a"
             ],
             [
              0.8888888888888888,
              "#fdca26"
             ],
             [
              1,
              "#f0f921"
             ]
            ],
            "type": "heatmapgl"
           }
          ],
          "histogram": [
           {
            "marker": {
             "pattern": {
              "fillmode": "overlay",
              "size": 10,
              "solidity": 0.2
             }
            },
            "type": "histogram"
           }
          ],
          "histogram2d": [
           {
            "colorbar": {
             "outlinewidth": 0,
             "ticks": ""
            },
            "colorscale": [
             [
              0,
              "#0d0887"
             ],
             [
              0.1111111111111111,
              "#46039f"
             ],
             [
              0.2222222222222222,
              "#7201a8"
             ],
             [
              0.3333333333333333,
              "#9c179e"
             ],
             [
              0.4444444444444444,
              "#bd3786"
             ],
             [
              0.5555555555555556,
              "#d8576b"
             ],
             [
              0.6666666666666666,
              "#ed7953"
             ],
             [
              0.7777777777777778,
              "#fb9f3a"
             ],
             [
              0.8888888888888888,
              "#fdca26"
             ],
             [
              1,
              "#f0f921"
             ]
            ],
            "type": "histogram2d"
           }
          ],
          "histogram2dcontour": [
           {
            "colorbar": {
             "outlinewidth": 0,
             "ticks": ""
            },
            "colorscale": [
             [
              0,
              "#0d0887"
             ],
             [
              0.1111111111111111,
              "#46039f"
             ],
             [
              0.2222222222222222,
              "#7201a8"
             ],
             [
              0.3333333333333333,
              "#9c179e"
             ],
             [
              0.4444444444444444,
              "#bd3786"
             ],
             [
              0.5555555555555556,
              "#d8576b"
             ],
             [
              0.6666666666666666,
              "#ed7953"
             ],
             [
              0.7777777777777778,
              "#fb9f3a"
             ],
             [
              0.8888888888888888,
              "#fdca26"
             ],
             [
              1,
              "#f0f921"
             ]
            ],
            "type": "histogram2dcontour"
           }
          ],
          "mesh3d": [
           {
            "colorbar": {
             "outlinewidth": 0,
             "ticks": ""
            },
            "type": "mesh3d"
           }
          ],
          "parcoords": [
           {
            "line": {
             "colorbar": {
              "outlinewidth": 0,
              "ticks": ""
             }
            },
            "type": "parcoords"
           }
          ],
          "pie": [
           {
            "automargin": true,
            "type": "pie"
           }
          ],
          "scatter": [
           {
            "marker": {
             "colorbar": {
              "outlinewidth": 0,
              "ticks": ""
             }
            },
            "type": "scatter"
           }
          ],
          "scatter3d": [
           {
            "line": {
             "colorbar": {
              "outlinewidth": 0,
              "ticks": ""
             }
            },
            "marker": {
             "colorbar": {
              "outlinewidth": 0,
              "ticks": ""
             }
            },
            "type": "scatter3d"
           }
          ],
          "scattercarpet": [
           {
            "marker": {
             "colorbar": {
              "outlinewidth": 0,
              "ticks": ""
             }
            },
            "type": "scattercarpet"
           }
          ],
          "scattergeo": [
           {
            "marker": {
             "colorbar": {
              "outlinewidth": 0,
              "ticks": ""
             }
            },
            "type": "scattergeo"
           }
          ],
          "scattergl": [
           {
            "marker": {
             "colorbar": {
              "outlinewidth": 0,
              "ticks": ""
             }
            },
            "type": "scattergl"
           }
          ],
          "scattermapbox": [
           {
            "marker": {
             "colorbar": {
              "outlinewidth": 0,
              "ticks": ""
             }
            },
            "type": "scattermapbox"
           }
          ],
          "scatterpolar": [
           {
            "marker": {
             "colorbar": {
              "outlinewidth": 0,
              "ticks": ""
             }
            },
            "type": "scatterpolar"
           }
          ],
          "scatterpolargl": [
           {
            "marker": {
             "colorbar": {
              "outlinewidth": 0,
              "ticks": ""
             }
            },
            "type": "scatterpolargl"
           }
          ],
          "scatterternary": [
           {
            "marker": {
             "colorbar": {
              "outlinewidth": 0,
              "ticks": ""
             }
            },
            "type": "scatterternary"
           }
          ],
          "surface": [
           {
            "colorbar": {
             "outlinewidth": 0,
             "ticks": ""
            },
            "colorscale": [
             [
              0,
              "#0d0887"
             ],
             [
              0.1111111111111111,
              "#46039f"
             ],
             [
              0.2222222222222222,
              "#7201a8"
             ],
             [
              0.3333333333333333,
              "#9c179e"
             ],
             [
              0.4444444444444444,
              "#bd3786"
             ],
             [
              0.5555555555555556,
              "#d8576b"
             ],
             [
              0.6666666666666666,
              "#ed7953"
             ],
             [
              0.7777777777777778,
              "#fb9f3a"
             ],
             [
              0.8888888888888888,
              "#fdca26"
             ],
             [
              1,
              "#f0f921"
             ]
            ],
            "type": "surface"
           }
          ],
          "table": [
           {
            "cells": {
             "fill": {
              "color": "#EBF0F8"
             },
             "line": {
              "color": "white"
             }
            },
            "header": {
             "fill": {
              "color": "#C8D4E3"
             },
             "line": {
              "color": "white"
             }
            },
            "type": "table"
           }
          ]
         },
         "layout": {
          "annotationdefaults": {
           "arrowcolor": "#2a3f5f",
           "arrowhead": 0,
           "arrowwidth": 1
          },
          "autotypenumbers": "strict",
          "coloraxis": {
           "colorbar": {
            "outlinewidth": 0,
            "ticks": ""
           }
          },
          "colorscale": {
           "diverging": [
            [
             0,
             "#8e0152"
            ],
            [
             0.1,
             "#c51b7d"
            ],
            [
             0.2,
             "#de77ae"
            ],
            [
             0.3,
             "#f1b6da"
            ],
            [
             0.4,
             "#fde0ef"
            ],
            [
             0.5,
             "#f7f7f7"
            ],
            [
             0.6,
             "#e6f5d0"
            ],
            [
             0.7,
             "#b8e186"
            ],
            [
             0.8,
             "#7fbc41"
            ],
            [
             0.9,
             "#4d9221"
            ],
            [
             1,
             "#276419"
            ]
           ],
           "sequential": [
            [
             0,
             "#0d0887"
            ],
            [
             0.1111111111111111,
             "#46039f"
            ],
            [
             0.2222222222222222,
             "#7201a8"
            ],
            [
             0.3333333333333333,
             "#9c179e"
            ],
            [
             0.4444444444444444,
             "#bd3786"
            ],
            [
             0.5555555555555556,
             "#d8576b"
            ],
            [
             0.6666666666666666,
             "#ed7953"
            ],
            [
             0.7777777777777778,
             "#fb9f3a"
            ],
            [
             0.8888888888888888,
             "#fdca26"
            ],
            [
             1,
             "#f0f921"
            ]
           ],
           "sequentialminus": [
            [
             0,
             "#0d0887"
            ],
            [
             0.1111111111111111,
             "#46039f"
            ],
            [
             0.2222222222222222,
             "#7201a8"
            ],
            [
             0.3333333333333333,
             "#9c179e"
            ],
            [
             0.4444444444444444,
             "#bd3786"
            ],
            [
             0.5555555555555556,
             "#d8576b"
            ],
            [
             0.6666666666666666,
             "#ed7953"
            ],
            [
             0.7777777777777778,
             "#fb9f3a"
            ],
            [
             0.8888888888888888,
             "#fdca26"
            ],
            [
             1,
             "#f0f921"
            ]
           ]
          },
          "colorway": [
           "#636efa",
           "#EF553B",
           "#00cc96",
           "#ab63fa",
           "#FFA15A",
           "#19d3f3",
           "#FF6692",
           "#B6E880",
           "#FF97FF",
           "#FECB52"
          ],
          "font": {
           "color": "#2a3f5f"
          },
          "geo": {
           "bgcolor": "white",
           "lakecolor": "white",
           "landcolor": "#E5ECF6",
           "showlakes": true,
           "showland": true,
           "subunitcolor": "white"
          },
          "hoverlabel": {
           "align": "left"
          },
          "hovermode": "closest",
          "mapbox": {
           "style": "light"
          },
          "paper_bgcolor": "white",
          "plot_bgcolor": "#E5ECF6",
          "polar": {
           "angularaxis": {
            "gridcolor": "white",
            "linecolor": "white",
            "ticks": ""
           },
           "bgcolor": "#E5ECF6",
           "radialaxis": {
            "gridcolor": "white",
            "linecolor": "white",
            "ticks": ""
           }
          },
          "scene": {
           "xaxis": {
            "backgroundcolor": "#E5ECF6",
            "gridcolor": "white",
            "gridwidth": 2,
            "linecolor": "white",
            "showbackground": true,
            "ticks": "",
            "zerolinecolor": "white"
           },
           "yaxis": {
            "backgroundcolor": "#E5ECF6",
            "gridcolor": "white",
            "gridwidth": 2,
            "linecolor": "white",
            "showbackground": true,
            "ticks": "",
            "zerolinecolor": "white"
           },
           "zaxis": {
            "backgroundcolor": "#E5ECF6",
            "gridcolor": "white",
            "gridwidth": 2,
            "linecolor": "white",
            "showbackground": true,
            "ticks": "",
            "zerolinecolor": "white"
           }
          },
          "shapedefaults": {
           "line": {
            "color": "#2a3f5f"
           }
          },
          "ternary": {
           "aaxis": {
            "gridcolor": "white",
            "linecolor": "white",
            "ticks": ""
           },
           "baxis": {
            "gridcolor": "white",
            "linecolor": "white",
            "ticks": ""
           },
           "bgcolor": "#E5ECF6",
           "caxis": {
            "gridcolor": "white",
            "linecolor": "white",
            "ticks": ""
           }
          },
          "title": {
           "x": 0.05
          },
          "xaxis": {
           "automargin": true,
           "gridcolor": "white",
           "linecolor": "white",
           "ticks": "",
           "title": {
            "standoff": 15
           },
           "zerolinecolor": "white",
           "zerolinewidth": 2
          },
          "yaxis": {
           "automargin": true,
           "gridcolor": "white",
           "linecolor": "white",
           "ticks": "",
           "title": {
            "standoff": 15
           },
           "zerolinecolor": "white",
           "zerolinewidth": 2
          }
         }
        },
        "xaxis": {
         "anchor": "y",
         "domain": [
          0,
          1
         ],
         "title": {
          "text": "Date"
         }
        },
        "yaxis": {
         "anchor": "x",
         "domain": [
          0,
          1
         ],
         "title": {
          "text": "value"
         }
        }
       }
      },
      "text/html": [
       "<div>                            <div id=\"dc3f4075-a3b4-498f-9fa1-b0680c0c7149\" class=\"plotly-graph-div\" style=\"height:525px; width:100%;\"></div>            <script type=\"text/javascript\">                require([\"plotly\"], function(Plotly) {                    window.PLOTLYENV=window.PLOTLYENV || {};                                    if (document.getElementById(\"dc3f4075-a3b4-498f-9fa1-b0680c0c7149\")) {                    Plotly.newPlot(                        \"dc3f4075-a3b4-498f-9fa1-b0680c0c7149\",                        [{\"hovertemplate\":\"variable=BP.L<br>Date=%{x}<br>value=%{y}<extra></extra>\",\"legendgroup\":\"BP.L\",\"line\":{\"color\":\"#636efa\",\"dash\":\"solid\"},\"marker\":{\"symbol\":\"circle\"},\"mode\":\"lines\",\"name\":\"BP.L\",\"showlegend\":true,\"x\":[\"2021-08-09T00:00:00\",\"2021-08-10T00:00:00\",\"2021-08-11T00:00:00\",\"2021-08-12T00:00:00\",\"2021-08-13T00:00:00\",\"2021-08-16T00:00:00\",\"2021-08-17T00:00:00\",\"2021-08-18T00:00:00\",\"2021-08-19T00:00:00\",\"2021-08-20T00:00:00\",\"2021-08-23T00:00:00\",\"2021-08-24T00:00:00\",\"2021-08-25T00:00:00\",\"2021-08-26T00:00:00\",\"2021-08-27T00:00:00\",\"2021-08-31T00:00:00\",\"2021-09-01T00:00:00\",\"2021-09-02T00:00:00\",\"2021-09-03T00:00:00\",\"2021-09-06T00:00:00\",\"2021-09-07T00:00:00\",\"2021-09-08T00:00:00\",\"2021-09-09T00:00:00\",\"2021-09-10T00:00:00\",\"2021-09-13T00:00:00\",\"2021-09-14T00:00:00\",\"2021-09-15T00:00:00\",\"2021-09-16T00:00:00\",\"2021-09-17T00:00:00\",\"2021-09-20T00:00:00\",\"2021-09-21T00:00:00\",\"2021-09-22T00:00:00\",\"2021-09-23T00:00:00\",\"2021-09-24T00:00:00\",\"2021-09-27T00:00:00\",\"2021-09-28T00:00:00\",\"2021-09-29T00:00:00\",\"2021-09-30T00:00:00\",\"2021-10-01T00:00:00\",\"2021-10-04T00:00:00\",\"2021-10-05T00:00:00\",\"2021-10-06T00:00:00\",\"2021-10-07T00:00:00\",\"2021-10-08T00:00:00\",\"2021-10-11T00:00:00\",\"2021-10-12T00:00:00\",\"2021-10-13T00:00:00\",\"2021-10-14T00:00:00\",\"2021-10-15T00:00:00\",\"2021-10-18T00:00:00\",\"2021-10-19T00:00:00\",\"2021-10-20T00:00:00\",\"2021-10-21T00:00:00\",\"2021-10-22T00:00:00\",\"2021-10-25T00:00:00\",\"2021-10-26T00:00:00\",\"2021-10-27T00:00:00\",\"2021-10-28T00:00:00\",\"2021-10-29T00:00:00\",\"2021-11-01T00:00:00\",\"2021-11-02T00:00:00\",\"2021-11-03T00:00:00\",\"2021-11-04T00:00:00\",\"2021-11-05T00:00:00\",\"2021-11-08T00:00:00\",\"2021-11-09T00:00:00\",\"2021-11-10T00:00:00\",\"2021-11-11T00:00:00\",\"2021-11-12T00:00:00\",\"2021-11-15T00:00:00\",\"2021-11-16T00:00:00\",\"2021-11-17T00:00:00\",\"2021-11-18T00:00:00\",\"2021-11-19T00:00:00\",\"2021-11-22T00:00:00\",\"2021-11-23T00:00:00\",\"2021-11-24T00:00:00\",\"2021-11-25T00:00:00\",\"2021-11-26T00:00:00\",\"2021-11-29T00:00:00\",\"2021-11-30T00:00:00\",\"2021-12-01T00:00:00\",\"2021-12-02T00:00:00\",\"2021-12-03T00:00:00\",\"2021-12-06T00:00:00\",\"2021-12-07T00:00:00\",\"2021-12-08T00:00:00\",\"2021-12-09T00:00:00\",\"2021-12-10T00:00:00\",\"2021-12-13T00:00:00\",\"2021-12-14T00:00:00\",\"2021-12-15T00:00:00\",\"2021-12-16T00:00:00\",\"2021-12-17T00:00:00\",\"2021-12-20T00:00:00\",\"2021-12-21T00:00:00\",\"2021-12-22T00:00:00\",\"2021-12-23T00:00:00\",\"2021-12-24T00:00:00\",\"2021-12-29T00:00:00\",\"2021-12-30T00:00:00\",\"2021-12-31T00:00:00\",\"2022-01-04T00:00:00\",\"2022-01-05T00:00:00\",\"2022-01-06T00:00:00\",\"2022-01-07T00:00:00\",\"2022-01-10T00:00:00\",\"2022-01-11T00:00:00\",\"2022-01-12T00:00:00\",\"2022-01-13T00:00:00\",\"2022-01-14T00:00:00\",\"2022-01-17T00:00:00\",\"2022-01-18T00:00:00\",\"2022-01-19T00:00:00\",\"2022-01-20T00:00:00\",\"2022-01-21T00:00:00\",\"2022-01-24T00:00:00\",\"2022-01-25T00:00:00\",\"2022-01-26T00:00:00\",\"2022-01-27T00:00:00\",\"2022-01-28T00:00:00\",\"2022-01-31T00:00:00\",\"2022-02-01T00:00:00\",\"2022-02-02T00:00:00\",\"2022-02-03T00:00:00\",\"2022-02-04T00:00:00\",\"2022-02-07T00:00:00\",\"2022-02-08T00:00:00\",\"2022-02-09T00:00:00\",\"2022-02-10T00:00:00\",\"2022-02-11T00:00:00\",\"2022-02-14T00:00:00\",\"2022-02-15T00:00:00\",\"2022-02-16T00:00:00\",\"2022-02-17T00:00:00\",\"2022-02-18T00:00:00\",\"2022-02-21T00:00:00\",\"2022-02-22T00:00:00\",\"2022-02-23T00:00:00\",\"2022-02-24T00:00:00\",\"2022-02-25T00:00:00\",\"2022-02-28T00:00:00\",\"2022-03-01T00:00:00\",\"2022-03-02T00:00:00\",\"2022-03-03T00:00:00\",\"2022-03-04T00:00:00\",\"2022-03-07T00:00:00\",\"2022-03-08T00:00:00\",\"2022-03-09T00:00:00\",\"2022-03-10T00:00:00\",\"2022-03-11T00:00:00\",\"2022-03-14T00:00:00\",\"2022-03-15T00:00:00\",\"2022-03-16T00:00:00\",\"2022-03-17T00:00:00\",\"2022-03-18T00:00:00\",\"2022-03-21T00:00:00\",\"2022-03-22T00:00:00\",\"2022-03-23T00:00:00\",\"2022-03-24T00:00:00\",\"2022-03-25T00:00:00\",\"2022-03-28T00:00:00\",\"2022-03-29T00:00:00\",\"2022-03-30T00:00:00\",\"2022-03-31T00:00:00\",\"2022-04-01T00:00:00\",\"2022-04-04T00:00:00\",\"2022-04-05T00:00:00\",\"2022-04-06T00:00:00\",\"2022-04-07T00:00:00\",\"2022-04-08T00:00:00\",\"2022-04-11T00:00:00\",\"2022-04-12T00:00:00\",\"2022-04-13T00:00:00\",\"2022-04-14T00:00:00\",\"2022-04-19T00:00:00\",\"2022-04-20T00:00:00\",\"2022-04-21T00:00:00\",\"2022-04-22T00:00:00\",\"2022-04-25T00:00:00\",\"2022-04-26T00:00:00\",\"2022-04-27T00:00:00\",\"2022-04-28T00:00:00\",\"2022-04-29T00:00:00\",\"2022-05-03T00:00:00\",\"2022-05-04T00:00:00\",\"2022-05-05T00:00:00\",\"2022-05-06T00:00:00\",\"2022-05-09T00:00:00\",\"2022-05-10T00:00:00\",\"2022-05-11T00:00:00\",\"2022-05-12T00:00:00\",\"2022-05-13T00:00:00\",\"2022-05-16T00:00:00\",\"2022-05-17T00:00:00\",\"2022-05-18T00:00:00\",\"2022-05-19T00:00:00\",\"2022-05-20T00:00:00\",\"2022-05-23T00:00:00\",\"2022-05-24T00:00:00\",\"2022-05-25T00:00:00\",\"2022-05-26T00:00:00\",\"2022-05-27T00:00:00\",\"2022-05-30T00:00:00\",\"2022-05-31T00:00:00\",\"2022-06-01T00:00:00\",\"2022-06-06T00:00:00\",\"2022-06-07T00:00:00\",\"2022-06-08T00:00:00\",\"2022-06-09T00:00:00\",\"2022-06-10T00:00:00\",\"2022-06-13T00:00:00\",\"2022-06-14T00:00:00\",\"2022-06-15T00:00:00\",\"2022-06-16T00:00:00\",\"2022-06-17T00:00:00\",\"2022-06-20T00:00:00\",\"2022-06-21T00:00:00\",\"2022-06-22T00:00:00\",\"2022-06-23T00:00:00\",\"2022-06-24T00:00:00\",\"2022-06-27T00:00:00\",\"2022-06-28T00:00:00\",\"2022-06-29T00:00:00\",\"2022-06-30T00:00:00\",\"2022-07-01T00:00:00\",\"2022-07-04T00:00:00\",\"2022-07-05T00:00:00\",\"2022-07-06T00:00:00\",\"2022-07-07T00:00:00\",\"2022-07-08T00:00:00\",\"2022-07-11T00:00:00\",\"2022-07-12T00:00:00\",\"2022-07-13T00:00:00\",\"2022-07-14T00:00:00\",\"2022-07-15T00:00:00\",\"2022-07-18T00:00:00\",\"2022-07-19T00:00:00\",\"2022-07-20T00:00:00\",\"2022-07-21T00:00:00\",\"2022-07-22T00:00:00\",\"2022-07-25T00:00:00\",\"2022-07-26T00:00:00\",\"2022-07-27T00:00:00\",\"2022-07-28T00:00:00\",\"2022-07-29T00:00:00\",\"2022-08-01T00:00:00\",\"2022-08-02T00:00:00\",\"2022-08-03T00:00:00\",\"2022-08-04T00:00:00\",\"2022-08-05T00:00:00\",\"2022-08-08T00:00:00\",\"2022-08-09T00:00:00\",\"2022-08-10T00:00:00\",\"2022-08-11T00:00:00\",\"2022-08-12T00:00:00\",\"2022-08-15T00:00:00\",\"2022-08-16T00:00:00\",\"2022-08-17T00:00:00\",\"2022-08-18T00:00:00\",\"2022-08-19T00:00:00\",\"2022-08-22T00:00:00\",\"2022-08-23T00:00:00\",\"2022-08-24T00:00:00\",\"2022-08-25T00:00:00\",\"2022-08-26T00:00:00\",\"2022-08-30T00:00:00\",\"2022-08-31T00:00:00\",\"2022-09-01T00:00:00\",\"2022-09-02T00:00:00\",\"2022-09-05T00:00:00\",\"2022-09-06T00:00:00\",\"2022-09-07T00:00:00\",\"2022-09-08T00:00:00\",\"2022-09-09T00:00:00\",\"2022-09-12T00:00:00\",\"2022-09-13T00:00:00\",\"2022-09-14T00:00:00\",\"2022-09-15T00:00:00\",\"2022-09-16T00:00:00\",\"2022-09-20T00:00:00\",\"2022-09-21T00:00:00\",\"2022-09-22T00:00:00\",\"2022-09-23T00:00:00\",\"2022-09-26T00:00:00\",\"2022-09-27T00:00:00\",\"2022-09-28T00:00:00\",\"2022-09-29T00:00:00\",\"2022-09-30T00:00:00\",\"2022-10-03T00:00:00\",\"2022-10-04T00:00:00\",\"2022-10-05T00:00:00\",\"2022-10-06T00:00:00\",\"2022-10-07T00:00:00\",\"2022-10-10T00:00:00\",\"2022-10-11T00:00:00\",\"2022-10-12T00:00:00\",\"2022-10-13T00:00:00\",\"2022-10-14T00:00:00\",\"2022-10-17T00:00:00\",\"2022-10-18T00:00:00\",\"2022-10-19T00:00:00\",\"2022-10-20T00:00:00\",\"2022-10-21T00:00:00\",\"2022-10-24T00:00:00\",\"2022-10-25T00:00:00\",\"2022-10-26T00:00:00\",\"2022-10-27T00:00:00\",\"2022-10-28T00:00:00\",\"2022-10-31T00:00:00\",\"2022-11-01T00:00:00\",\"2022-11-02T00:00:00\",\"2022-11-03T00:00:00\",\"2022-11-04T00:00:00\",\"2022-11-07T00:00:00\",\"2022-11-08T00:00:00\",\"2022-11-09T00:00:00\",\"2022-11-10T00:00:00\",\"2022-11-11T00:00:00\",\"2022-11-14T00:00:00\",\"2022-11-15T00:00:00\",\"2022-11-16T00:00:00\",\"2022-11-17T00:00:00\",\"2022-11-18T00:00:00\",\"2022-11-21T00:00:00\",\"2022-11-22T00:00:00\",\"2022-11-23T00:00:00\",\"2022-11-24T00:00:00\",\"2022-11-25T00:00:00\",\"2022-11-28T00:00:00\",\"2022-11-29T00:00:00\",\"2022-11-30T00:00:00\",\"2022-12-01T00:00:00\",\"2022-12-02T00:00:00\",\"2022-12-05T00:00:00\",\"2022-12-06T00:00:00\",\"2022-12-07T00:00:00\",\"2022-12-08T00:00:00\",\"2022-12-09T00:00:00\",\"2022-12-12T00:00:00\",\"2022-12-13T00:00:00\",\"2022-12-14T00:00:00\",\"2022-12-15T00:00:00\",\"2022-12-16T00:00:00\",\"2022-12-19T00:00:00\",\"2022-12-20T00:00:00\",\"2022-12-21T00:00:00\",\"2022-12-22T00:00:00\"],\"xaxis\":\"x\",\"y\":[305.45001220703125,308.8999938964844,311.70001220703125,306.95001220703125,305.3500061035156,298.0,302.45001220703125,302.6499938964844,287.75,287.8500061035156,295.0,298.8500061035156,298.3500061035156,296.54998779296875,302.5,296.95001220703125,294.25,299.8999938964844,296.6000061035156,298.45001220703125,298.3999938964844,298.25,294.70001220703125,295.6499938964844,302.29998779296875,300.0,309.25,305.95001220703125,304.6499938964844,303.70001220703125,308.79998779296875,316.75,317.75,320.20001220703125,null,336.6000061035156,338.29998779296875,340.29998779296875,337.95001220703125,344.45001220703125,350.6499938964844,341.54998779296875,344.79998779296875,353.54998779296875,360.29998779296875,358.20001220703125,354.95001220703125,357.70001220703125,363.6000061035156,361.45001220703125,361.95001220703125,363.1000061035156,356.20001220703125,355.0,360.6499938964844,359.20001220703125,357.6000061035156,352.04998779296875,350.20001220703125,357.0,344.95001220703125,334.8500061035156,339.5,345.3999938964844,345.25,344.45001220703125,347.79998779296875,345.1499938964844,340.8999938964844,341.54998779296875,344.54998779296875,342.0,336.45001220703125,326.54998779296875,334.3999938964844,339.3999938964844,344.5,344.75,317.6499938964844,327.70001220703125,325.45001220703125,null,336.6000061035156,340.8500061035156,346.5,350.8999938964844,348.70001220703125,343.54998779296875,342.6000061035156,335.0,337.6499938964844,330.8999938964844,338.95001220703125,333.75,323.29998779296875,331.75,334.70001220703125,337.95001220703125,337.8500061035156,336.0,333.0,330.5,351.0,354.79998779296875,355.1499938964844,362.54998779296875,363.04998779296875,null,381.45001220703125,383.8999938964844,388.70001220703125,393.75,395.75,394.1000061035156,389.1499938964844,382.25,364.1000061035156,379.6499938964844,394.1000061035156,392.5,385.45001220703125,382.79998779296875,393.29998779296875,389.54998779296875,392.3999938964844,405.8999938964844,408.6499938964844,399.0,410.29998779296875,410.70001220703125,417.20001220703125,400.6499938964844,397.3500061035156,403.75,397.8999938964844,391.3999938964844,388.3999938964844,386.5,382.8999938964844,365.3500061035156,378.5,363.54998779296875,357.1000061035156,374.3999938964844,358.45001220703125,348.1499938964844,361.5,380.0,371.54998779296875,null,360.3999938964844,356.5,361.0,360.6499938964844,368.04998779296875,360.3999938964844,375.0,371.29998779296875,387.8999938964844,389.20001220703125,391.70001220703125,380.8999938964844,371.3500061035156,382.75,375.3500061035156,378.95001220703125,377.6000061035156,382.8999938964844,380.8500061035156,377.3999938964844,391.5,386.6499938964844,395.95001220703125,397.3500061035156,399.45001220703125,401.04998779296875,401.1499938964844,403.1499938964844,393.1499938964844,368.8500061035156,379.45001220703125,378.3999938964844,388.04998779296875,391.54998779296875,414.25,415.8999938964844,418.8999938964844,426.6499938964844,404.79998779296875,404.95001220703125,419.8999938964844,400.1499938964844,414.70001220703125,418.3500061035156,421.25,null,412.70001220703125,417.20001220703125,428.79998779296875,423.6000061035156,427.8500061035156,435.25,430.6499938964844,433.5,434.25,431.29998779296875,440.45001220703125,446.5,451.3999938964844,448.29998779296875,437.45001220703125,426.29998779296875,434.95001220703125,427.3999938964844,404.3999938964844,379.45001220703125,391.5,395.3500061035156,383.29998779296875,375.6499938964844,386.5,391.6000061035156,397.04998779296875,397.70001220703125,388.29998779296875,384.5,401.45001220703125,373.29998779296875,368.6499938964844,385.25,386.54998779296875,384.6000061035156,377.04998779296875,377.20001220703125,363.95001220703125,373.1000061035156,382.3500061035156,385.6000061035156,388.5,383.8999938964844,383.29998779296875,386.70001220703125,388.54998779296875,393.1499938964844,389.3999938964844,400.0,392.3500061035156,403.3500061035156,410.70001220703125,408.0,411.1499938964844,416.29998779296875,422.54998779296875,421.25,427.54998779296875,430.54998779296875,425.5,426.5,430.8999938964844,442.0,447.79998779296875,449.0,459.3999938964844,452.95001220703125,459.45001220703125,457.79998779296875,449.25,441.5,441.20001220703125,453.70001220703125,463.3500061035156,452.70001220703125,441.25,443.04998779296875,450.79998779296875,457.8500061035156,461.54998779296875,462.29998779296875,456.54998779296875,452.04998779296875,452.5,455.54998779296875,458.25,433.1000061035156,430.10101318359375,431.1000061035156,435.8999938964844,432.04998779296875,433.1000061035156,442.70001220703125,454.5,460.20001220703125,460.3500061035156,469.1000061035156,462.45001220703125,452.6000061035156,449.3500061035156,458.25,455.04998779296875,449.45001220703125,445.25,455.25,460.95001220703125,464.45001220703125,470.0,465.6000061035156,466.0,481.8999938964844,472.95001220703125,479.79998779296875,486.45001220703125,484.3500061035156,493.5,499.95001220703125,501.79998779296875,485.70001220703125,482.1000061035156,470.75,478.3999938964844,480.5,477.04998779296875,481.3500061035156,478.6499938964844,476.04998779296875,458.1499938964844,488.0,483.1000061035156,483.54998779296875,488.3500061035156,483.54998779296875,492.04998779296875,497.5,489.45001220703125,480.8999938964844,483.5,474.6499938964844,464.0,463.95001220703125,461.95001220703125,462.1000061035156,471.04998779296875,469.54998779296875,465.8500061035156,455.3999938964844,466.6000061035156,467.45001220703125,480.0,483.8500061035156],\"yaxis\":\"y\",\"type\":\"scattergl\"},{\"hovertemplate\":\"variable=CNA.L<br>Date=%{x}<br>value=%{y}<extra></extra>\",\"legendgroup\":\"CNA.L\",\"line\":{\"color\":\"#EF553B\",\"dash\":\"solid\"},\"marker\":{\"symbol\":\"circle\"},\"mode\":\"lines\",\"name\":\"CNA.L\",\"showlegend\":true,\"x\":[\"2021-08-09T00:00:00\",\"2021-08-10T00:00:00\",\"2021-08-11T00:00:00\",\"2021-08-12T00:00:00\",\"2021-08-13T00:00:00\",\"2021-08-16T00:00:00\",\"2021-08-17T00:00:00\",\"2021-08-18T00:00:00\",\"2021-08-19T00:00:00\",\"2021-08-20T00:00:00\",\"2021-08-23T00:00:00\",\"2021-08-24T00:00:00\",\"2021-08-25T00:00:00\",\"2021-08-26T00:00:00\",\"2021-08-27T00:00:00\",\"2021-08-31T00:00:00\",\"2021-09-01T00:00:00\",\"2021-09-02T00:00:00\",\"2021-09-03T00:00:00\",\"2021-09-06T00:00:00\",\"2021-09-07T00:00:00\",\"2021-09-08T00:00:00\",\"2021-09-09T00:00:00\",\"2021-09-10T00:00:00\",\"2021-09-13T00:00:00\",\"2021-09-14T00:00:00\",\"2021-09-15T00:00:00\",\"2021-09-16T00:00:00\",\"2021-09-17T00:00:00\",\"2021-09-20T00:00:00\",\"2021-09-21T00:00:00\",\"2021-09-22T00:00:00\",\"2021-09-23T00:00:00\",\"2021-09-24T00:00:00\",\"2021-09-27T00:00:00\",\"2021-09-28T00:00:00\",\"2021-09-29T00:00:00\",\"2021-09-30T00:00:00\",\"2021-10-01T00:00:00\",\"2021-10-04T00:00:00\",\"2021-10-05T00:00:00\",\"2021-10-06T00:00:00\",\"2021-10-07T00:00:00\",\"2021-10-08T00:00:00\",\"2021-10-11T00:00:00\",\"2021-10-12T00:00:00\",\"2021-10-13T00:00:00\",\"2021-10-14T00:00:00\",\"2021-10-15T00:00:00\",\"2021-10-18T00:00:00\",\"2021-10-19T00:00:00\",\"2021-10-20T00:00:00\",\"2021-10-21T00:00:00\",\"2021-10-22T00:00:00\",\"2021-10-25T00:00:00\",\"2021-10-26T00:00:00\",\"2021-10-27T00:00:00\",\"2021-10-28T00:00:00\",\"2021-10-29T00:00:00\",\"2021-11-01T00:00:00\",\"2021-11-02T00:00:00\",\"2021-11-03T00:00:00\",\"2021-11-04T00:00:00\",\"2021-11-05T00:00:00\",\"2021-11-08T00:00:00\",\"2021-11-09T00:00:00\",\"2021-11-10T00:00:00\",\"2021-11-11T00:00:00\",\"2021-11-12T00:00:00\",\"2021-11-15T00:00:00\",\"2021-11-16T00:00:00\",\"2021-11-17T00:00:00\",\"2021-11-18T00:00:00\",\"2021-11-19T00:00:00\",\"2021-11-22T00:00:00\",\"2021-11-23T00:00:00\",\"2021-11-24T00:00:00\",\"2021-11-25T00:00:00\",\"2021-11-26T00:00:00\",\"2021-11-29T00:00:00\",\"2021-11-30T00:00:00\",\"2021-12-01T00:00:00\",\"2021-12-02T00:00:00\",\"2021-12-03T00:00:00\",\"2021-12-06T00:00:00\",\"2021-12-07T00:00:00\",\"2021-12-08T00:00:00\",\"2021-12-09T00:00:00\",\"2021-12-10T00:00:00\",\"2021-12-13T00:00:00\",\"2021-12-14T00:00:00\",\"2021-12-15T00:00:00\",\"2021-12-16T00:00:00\",\"2021-12-17T00:00:00\",\"2021-12-20T00:00:00\",\"2021-12-21T00:00:00\",\"2021-12-22T00:00:00\",\"2021-12-23T00:00:00\",\"2021-12-24T00:00:00\",\"2021-12-29T00:00:00\",\"2021-12-30T00:00:00\",\"2021-12-31T00:00:00\",\"2022-01-04T00:00:00\",\"2022-01-05T00:00:00\",\"2022-01-06T00:00:00\",\"2022-01-07T00:00:00\",\"2022-01-10T00:00:00\",\"2022-01-11T00:00:00\",\"2022-01-12T00:00:00\",\"2022-01-13T00:00:00\",\"2022-01-14T00:00:00\",\"2022-01-17T00:00:00\",\"2022-01-18T00:00:00\",\"2022-01-19T00:00:00\",\"2022-01-20T00:00:00\",\"2022-01-21T00:00:00\",\"2022-01-24T00:00:00\",\"2022-01-25T00:00:00\",\"2022-01-26T00:00:00\",\"2022-01-27T00:00:00\",\"2022-01-28T00:00:00\",\"2022-01-31T00:00:00\",\"2022-02-01T00:00:00\",\"2022-02-02T00:00:00\",\"2022-02-03T00:00:00\",\"2022-02-04T00:00:00\",\"2022-02-07T00:00:00\",\"2022-02-08T00:00:00\",\"2022-02-09T00:00:00\",\"2022-02-10T00:00:00\",\"2022-02-11T00:00:00\",\"2022-02-14T00:00:00\",\"2022-02-15T00:00:00\",\"2022-02-16T00:00:00\",\"2022-02-17T00:00:00\",\"2022-02-18T00:00:00\",\"2022-02-21T00:00:00\",\"2022-02-22T00:00:00\",\"2022-02-23T00:00:00\",\"2022-02-24T00:00:00\",\"2022-02-25T00:00:00\",\"2022-02-28T00:00:00\",\"2022-03-01T00:00:00\",\"2022-03-02T00:00:00\",\"2022-03-03T00:00:00\",\"2022-03-04T00:00:00\",\"2022-03-07T00:00:00\",\"2022-03-08T00:00:00\",\"2022-03-09T00:00:00\",\"2022-03-10T00:00:00\",\"2022-03-11T00:00:00\",\"2022-03-14T00:00:00\",\"2022-03-15T00:00:00\",\"2022-03-16T00:00:00\",\"2022-03-17T00:00:00\",\"2022-03-18T00:00:00\",\"2022-03-21T00:00:00\",\"2022-03-22T00:00:00\",\"2022-03-23T00:00:00\",\"2022-03-24T00:00:00\",\"2022-03-25T00:00:00\",\"2022-03-28T00:00:00\",\"2022-03-29T00:00:00\",\"2022-03-30T00:00:00\",\"2022-03-31T00:00:00\",\"2022-04-01T00:00:00\",\"2022-04-04T00:00:00\",\"2022-04-05T00:00:00\",\"2022-04-06T00:00:00\",\"2022-04-07T00:00:00\",\"2022-04-08T00:00:00\",\"2022-04-11T00:00:00\",\"2022-04-12T00:00:00\",\"2022-04-13T00:00:00\",\"2022-04-14T00:00:00\",\"2022-04-19T00:00:00\",\"2022-04-20T00:00:00\",\"2022-04-21T00:00:00\",\"2022-04-22T00:00:00\",\"2022-04-25T00:00:00\",\"2022-04-26T00:00:00\",\"2022-04-27T00:00:00\",\"2022-04-28T00:00:00\",\"2022-04-29T00:00:00\",\"2022-05-03T00:00:00\",\"2022-05-04T00:00:00\",\"2022-05-05T00:00:00\",\"2022-05-06T00:00:00\",\"2022-05-09T00:00:00\",\"2022-05-10T00:00:00\",\"2022-05-11T00:00:00\",\"2022-05-12T00:00:00\",\"2022-05-13T00:00:00\",\"2022-05-16T00:00:00\",\"2022-05-17T00:00:00\",\"2022-05-18T00:00:00\",\"2022-05-19T00:00:00\",\"2022-05-20T00:00:00\",\"2022-05-23T00:00:00\",\"2022-05-24T00:00:00\",\"2022-05-25T00:00:00\",\"2022-05-26T00:00:00\",\"2022-05-27T00:00:00\",\"2022-05-30T00:00:00\",\"2022-05-31T00:00:00\",\"2022-06-01T00:00:00\",\"2022-06-06T00:00:00\",\"2022-06-07T00:00:00\",\"2022-06-08T00:00:00\",\"2022-06-09T00:00:00\",\"2022-06-10T00:00:00\",\"2022-06-13T00:00:00\",\"2022-06-14T00:00:00\",\"2022-06-15T00:00:00\",\"2022-06-16T00:00:00\",\"2022-06-17T00:00:00\",\"2022-06-20T00:00:00\",\"2022-06-21T00:00:00\",\"2022-06-22T00:00:00\",\"2022-06-23T00:00:00\",\"2022-06-24T00:00:00\",\"2022-06-27T00:00:00\",\"2022-06-28T00:00:00\",\"2022-06-29T00:00:00\",\"2022-06-30T00:00:00\",\"2022-07-01T00:00:00\",\"2022-07-04T00:00:00\",\"2022-07-05T00:00:00\",\"2022-07-06T00:00:00\",\"2022-07-07T00:00:00\",\"2022-07-08T00:00:00\",\"2022-07-11T00:00:00\",\"2022-07-12T00:00:00\",\"2022-07-13T00:00:00\",\"2022-07-14T00:00:00\",\"2022-07-15T00:00:00\",\"2022-07-18T00:00:00\",\"2022-07-19T00:00:00\",\"2022-07-20T00:00:00\",\"2022-07-21T00:00:00\",\"2022-07-22T00:00:00\",\"2022-07-25T00:00:00\",\"2022-07-26T00:00:00\",\"2022-07-27T00:00:00\",\"2022-07-28T00:00:00\",\"2022-07-29T00:00:00\",\"2022-08-01T00:00:00\",\"2022-08-02T00:00:00\",\"2022-08-03T00:00:00\",\"2022-08-04T00:00:00\",\"2022-08-05T00:00:00\",\"2022-08-08T00:00:00\",\"2022-08-09T00:00:00\",\"2022-08-10T00:00:00\",\"2022-08-11T00:00:00\",\"2022-08-12T00:00:00\",\"2022-08-15T00:00:00\",\"2022-08-16T00:00:00\",\"2022-08-17T00:00:00\",\"2022-08-18T00:00:00\",\"2022-08-19T00:00:00\",\"2022-08-22T00:00:00\",\"2022-08-23T00:00:00\",\"2022-08-24T00:00:00\",\"2022-08-25T00:00:00\",\"2022-08-26T00:00:00\",\"2022-08-30T00:00:00\",\"2022-08-31T00:00:00\",\"2022-09-01T00:00:00\",\"2022-09-02T00:00:00\",\"2022-09-05T00:00:00\",\"2022-09-06T00:00:00\",\"2022-09-07T00:00:00\",\"2022-09-08T00:00:00\",\"2022-09-09T00:00:00\",\"2022-09-12T00:00:00\",\"2022-09-13T00:00:00\",\"2022-09-14T00:00:00\",\"2022-09-15T00:00:00\",\"2022-09-16T00:00:00\",\"2022-09-20T00:00:00\",\"2022-09-21T00:00:00\",\"2022-09-22T00:00:00\",\"2022-09-23T00:00:00\",\"2022-09-26T00:00:00\",\"2022-09-27T00:00:00\",\"2022-09-28T00:00:00\",\"2022-09-29T00:00:00\",\"2022-09-30T00:00:00\",\"2022-10-03T00:00:00\",\"2022-10-04T00:00:00\",\"2022-10-05T00:00:00\",\"2022-10-06T00:00:00\",\"2022-10-07T00:00:00\",\"2022-10-10T00:00:00\",\"2022-10-11T00:00:00\",\"2022-10-12T00:00:00\",\"2022-10-13T00:00:00\",\"2022-10-14T00:00:00\",\"2022-10-17T00:00:00\",\"2022-10-18T00:00:00\",\"2022-10-19T00:00:00\",\"2022-10-20T00:00:00\",\"2022-10-21T00:00:00\",\"2022-10-24T00:00:00\",\"2022-10-25T00:00:00\",\"2022-10-26T00:00:00\",\"2022-10-27T00:00:00\",\"2022-10-28T00:00:00\",\"2022-10-31T00:00:00\",\"2022-11-01T00:00:00\",\"2022-11-02T00:00:00\",\"2022-11-03T00:00:00\",\"2022-11-04T00:00:00\",\"2022-11-07T00:00:00\",\"2022-11-08T00:00:00\",\"2022-11-09T00:00:00\",\"2022-11-10T00:00:00\",\"2022-11-11T00:00:00\",\"2022-11-14T00:00:00\",\"2022-11-15T00:00:00\",\"2022-11-16T00:00:00\",\"2022-11-17T00:00:00\",\"2022-11-18T00:00:00\",\"2022-11-21T00:00:00\",\"2022-11-22T00:00:00\",\"2022-11-23T00:00:00\",\"2022-11-24T00:00:00\",\"2022-11-25T00:00:00\",\"2022-11-28T00:00:00\",\"2022-11-29T00:00:00\",\"2022-11-30T00:00:00\",\"2022-12-01T00:00:00\",\"2022-12-02T00:00:00\",\"2022-12-05T00:00:00\",\"2022-12-06T00:00:00\",\"2022-12-07T00:00:00\",\"2022-12-08T00:00:00\",\"2022-12-09T00:00:00\",\"2022-12-12T00:00:00\",\"2022-12-13T00:00:00\",\"2022-12-14T00:00:00\",\"2022-12-15T00:00:00\",\"2022-12-16T00:00:00\",\"2022-12-19T00:00:00\",\"2022-12-20T00:00:00\",\"2022-12-21T00:00:00\",\"2022-12-22T00:00:00\"],\"xaxis\":\"x\",\"y\":[49.27000045776367,49.290000915527344,49.81999969482422,49.86000061035156,49.93000030517578,50.52000045776367,50.41999816894531,50.400001525878906,49.72999954223633,50.779998779296875,50.81999969482422,51.31999969482422,51.20000076293945,51.41999816894531,51.20000076293945,51.959999084472656,52.15999984741211,52.2400016784668,53.5,52.040000915527344,52.060001373291016,51.099998474121094,51.099998474121094,49.70000076293945,51.20000076293945,51.20000076293945,50.939998626708984,50.84000015258789,51.08000183105469,53.41999816894531,53.959999084472656,53.7400016784668,54.70000076293945,54.02000045776367,55.599998474121094,55.13999938964844,56.31999969482422,56.68000030517578,57.720001220703125,58.34000015258789,58.7599983215332,57.58000183105469,58.86000061035156,60.0,60.720001220703125,61.08000183105469,58.29999923706055,59.70000076293945,58.47999954223633,58.380001068115234,58.5,60.220001220703125,59.459999084472656,58.779998779296875,59.2400016784668,59.2599983215332,60.400001525878906,60.380001068115234,60.31999969482422,61.0,61.540000915527344,62.0,63.15999984741211,63.5,64.0,63.7599983215332,63.79999923706055,65.62000274658203,65.91999816894531,66.05999755859375,67.4800033569336,67.58000183105469,68.22000122070312,67.5,67.12000274658203,67.0,66.95999908447266,67.72000122070312,64.91999816894531,65.27999877929688,64.77999877929688,65.5,65.0,65.94000244140625,67.22000122070312,67.68000030517578,67.58000183105469,67.87999725341797,67.76000213623047,67.0,67.30000305175781,66.66000366210938,67.81999969482422,66.5,66.9000015258789,68.5,68.58000183105469,68.86000061035156,68.9800033569336,71.0,71.4000015258789,71.5,73.81999969482422,73.5199966430664,72.72000122070312,73.5999984741211,74.0,74.44000244140625,72.9800033569336,73.5999984741211,74.68000030517578,74.0999984741211,73.9800033569336,72.55999755859375,72.33999633789062,71.0199966430664,69.04000091552734,69.9800033569336,72.12000274658203,73.0999984741211,72.05999755859375,72.31999969482422,74.30000305175781,76.66000366210938,77.66000366210938,76.4800033569336,77.63999938964844,78.26000213623047,78.9000015258789,79.04000091552734,79.0999984741211,77.72000122070312,77.5,77.0199966430664,77.5199966430664,77.9000015258789,76.45999908447266,75.77999877929688,75.76000213623047,72.16000366210938,77.37999725341797,77.27999877929688,74.4000015258789,73.31999969482422,72.55999755859375,72.80000305175781,72.37999725341797,74.45999908447266,76.30000305175781,76.55999755859375,76.0999984741211,76.94000244140625,78.41999816894531,77.95999908447266,78.41999816894531,79.0999984741211,80.4000015258789,80.41999816894531,82.19999694824219,82.12000274658203,84.5,82.76000213623047,81.87999725341797,82.13999938964844,80.08000183105469,78.36000061035156,78.83999633789062,79.69999694824219,80.58000183105469,80.5199966430664,81.0199966430664,80.69999694824219,79.69999694824219,79.54000091552734,78.62000274658203,78.4000015258789,79.22000122070312,80.33999633789062,79.18000030517578,79.76000213623047,78.9000015258789,79.36000061035156,80.4000015258789,79.45999908447266,79.4800033569336,79.0999984741211,80.12000274658203,76.5,71.94000244140625,74.76000213623047,78.22000122070312,76.27999877929688,77.04000091552734,79.81999969482422,84.54000091552734,87.86000061035156,86.63999938964844,88.18000030517578,89.5999984741211,83.16000366210938,85.31999969482422,79.13999938964844,77.23999786376953,77.44000244140625,79.18000030517578,80.54000091552734,83.18000030517578,84.87999725341797,83.27999877929688,81.94000244140625,80.66000366210938,77.9800033569336,0.7609999775886536,78.94000244140625,76.66000366210938,77.44000244140625,80.63999938964844,79.87999725341797,83.54000091552734,82.86000061035156,81.16000366210938,82.19999694824219,83.9000015258789,82.0,80.0,81.4000015258789,81.83999633789062,76.0,75.27999877929688,77.66000366210938,80.08000183105469,82.81999969482422,83.95999908447266,84.36000061035156,85.58000183105469,87.12000274658203,88.5999984741211,88.58000183105469,87.81999969482422,87.12000274658203,87.16000366210938,88.44000244140625,89.37999725341797,90.9800033569336,88.83999633789062,87.69999694824219,88.80000305175781,89.13999938964844,85.5,86.04000091552734,83.80000305175781,83.0,84.12000274658203,79.5199966430664,77.76000213623047,79.63999938964844,80.95999908447266,82.83999633789062,81.72000122070312,82.05999755859375,82.68000030517578,84.26000213623047,84.33999633789062,82.0999984741211,81.44000244140625,81.95999908447266,76.55999755859375,75.73999786376953,76.5199966430664,78.37999725341797,78.66000366210938,81.94000244140625,83.54000091552734,82.77999877929688,86.9000015258789,87.13999938964844,84.94000244140625,82.4000015258789,81.81999969482422,80.77999877929688,79.58000183105469,81.31999969482422,80.87999725341797,77.68000030517578,76.5530014038086,73.87999725341797,75.58000183105469,72.22000122070312,70.83999633789062,72.05999755859375,71.4000015258789,71.62000274658203,68.44000244140625,70.94000244140625,69.04000091552734,69.36000061035156,68.68000030517578,69.91999816894531,71.62000274658203,72.30000305175781,69.36000061035156,69.87999725341797,69.23999786376953,67.36000061035156,68.86000061035156,68.5,70.05999755859375,69.62000274658203,73.16000366210938,76.62000274658203,77.9000015258789,78.73999786376953,79.69999694824219,79.91999816894531,76.62000274658203,76.94000244140625,77.58000183105469,83.30000305175781,82.30000305175781,83.45999908447266,86.27999877929688,86.9800033569336,91.69999694824219,93.0,93.76000213623047,94.87999725341797,94.66000366210938,95.81999969482422,93.94000244140625,94.81999969482422,94.81999969482422,95.05999755859375,95.54000091552734,95.0,94.66000366210938,94.72000122070312,92.91999816894531,92.5199966430664,92.23999786376953,92.22000122070312,90.5199966430664,91.9800033569336,92.31999969482422,90.86000061035156,91.9800033569336,94.37999725341797,95.87999725341797,95.83999633789062],\"yaxis\":\"y\",\"type\":\"scattergl\"},{\"hovertemplate\":\"variable=SHEL.L<br>Date=%{x}<br>value=%{y}<extra></extra>\",\"legendgroup\":\"SHEL.L\",\"line\":{\"color\":\"#00cc96\",\"dash\":\"solid\"},\"marker\":{\"symbol\":\"circle\"},\"mode\":\"lines\",\"name\":\"SHEL.L\",\"showlegend\":true,\"x\":[\"2021-08-09T00:00:00\",\"2021-08-10T00:00:00\",\"2021-08-11T00:00:00\",\"2021-08-12T00:00:00\",\"2021-08-13T00:00:00\",\"2021-08-16T00:00:00\",\"2021-08-17T00:00:00\",\"2021-08-18T00:00:00\",\"2021-08-19T00:00:00\",\"2021-08-20T00:00:00\",\"2021-08-23T00:00:00\",\"2021-08-24T00:00:00\",\"2021-08-25T00:00:00\",\"2021-08-26T00:00:00\",\"2021-08-27T00:00:00\",\"2021-08-31T00:00:00\",\"2021-09-01T00:00:00\",\"2021-09-02T00:00:00\",\"2021-09-03T00:00:00\",\"2021-09-06T00:00:00\",\"2021-09-07T00:00:00\",\"2021-09-08T00:00:00\",\"2021-09-09T00:00:00\",\"2021-09-10T00:00:00\",\"2021-09-13T00:00:00\",\"2021-09-14T00:00:00\",\"2021-09-15T00:00:00\",\"2021-09-16T00:00:00\",\"2021-09-17T00:00:00\",\"2021-09-20T00:00:00\",\"2021-09-21T00:00:00\",\"2021-09-22T00:00:00\",\"2021-09-23T00:00:00\",\"2021-09-24T00:00:00\",\"2021-09-27T00:00:00\",\"2021-09-28T00:00:00\",\"2021-09-29T00:00:00\",\"2021-09-30T00:00:00\",\"2021-10-01T00:00:00\",\"2021-10-04T00:00:00\",\"2021-10-05T00:00:00\",\"2021-10-06T00:00:00\",\"2021-10-07T00:00:00\",\"2021-10-08T00:00:00\",\"2021-10-11T00:00:00\",\"2021-10-12T00:00:00\",\"2021-10-13T00:00:00\",\"2021-10-14T00:00:00\",\"2021-10-15T00:00:00\",\"2021-10-18T00:00:00\",\"2021-10-19T00:00:00\",\"2021-10-20T00:00:00\",\"2021-10-21T00:00:00\",\"2021-10-22T00:00:00\",\"2021-10-25T00:00:00\",\"2021-10-26T00:00:00\",\"2021-10-27T00:00:00\",\"2021-10-28T00:00:00\",\"2021-10-29T00:00:00\",\"2021-11-01T00:00:00\",\"2021-11-02T00:00:00\",\"2021-11-03T00:00:00\",\"2021-11-04T00:00:00\",\"2021-11-05T00:00:00\",\"2021-11-08T00:00:00\",\"2021-11-09T00:00:00\",\"2021-11-10T00:00:00\",\"2021-11-11T00:00:00\",\"2021-11-12T00:00:00\",\"2021-11-15T00:00:00\",\"2021-11-16T00:00:00\",\"2021-11-17T00:00:00\",\"2021-11-18T00:00:00\",\"2021-11-19T00:00:00\",\"2021-11-22T00:00:00\",\"2021-11-23T00:00:00\",\"2021-11-24T00:00:00\",\"2021-11-25T00:00:00\",\"2021-11-26T00:00:00\",\"2021-11-29T00:00:00\",\"2021-11-30T00:00:00\",\"2021-12-01T00:00:00\",\"2021-12-02T00:00:00\",\"2021-12-03T00:00:00\",\"2021-12-06T00:00:00\",\"2021-12-07T00:00:00\",\"2021-12-08T00:00:00\",\"2021-12-09T00:00:00\",\"2021-12-10T00:00:00\",\"2021-12-13T00:00:00\",\"2021-12-14T00:00:00\",\"2021-12-15T00:00:00\",\"2021-12-16T00:00:00\",\"2021-12-17T00:00:00\",\"2021-12-20T00:00:00\",\"2021-12-21T00:00:00\",\"2021-12-22T00:00:00\",\"2021-12-23T00:00:00\",\"2021-12-24T00:00:00\",\"2021-12-29T00:00:00\",\"2021-12-30T00:00:00\",\"2021-12-31T00:00:00\",\"2022-01-04T00:00:00\",\"2022-01-05T00:00:00\",\"2022-01-06T00:00:00\",\"2022-01-07T00:00:00\",\"2022-01-10T00:00:00\",\"2022-01-11T00:00:00\",\"2022-01-12T00:00:00\",\"2022-01-13T00:00:00\",\"2022-01-14T00:00:00\",\"2022-01-17T00:00:00\",\"2022-01-18T00:00:00\",\"2022-01-19T00:00:00\",\"2022-01-20T00:00:00\",\"2022-01-21T00:00:00\",\"2022-01-24T00:00:00\",\"2022-01-25T00:00:00\",\"2022-01-26T00:00:00\",\"2022-01-27T00:00:00\",\"2022-01-28T00:00:00\",\"2022-01-31T00:00:00\",\"2022-02-01T00:00:00\",\"2022-02-02T00:00:00\",\"2022-02-03T00:00:00\",\"2022-02-04T00:00:00\",\"2022-02-07T00:00:00\",\"2022-02-08T00:00:00\",\"2022-02-09T00:00:00\",\"2022-02-10T00:00:00\",\"2022-02-11T00:00:00\",\"2022-02-14T00:00:00\",\"2022-02-15T00:00:00\",\"2022-02-16T00:00:00\",\"2022-02-17T00:00:00\",\"2022-02-18T00:00:00\",\"2022-02-21T00:00:00\",\"2022-02-22T00:00:00\",\"2022-02-23T00:00:00\",\"2022-02-24T00:00:00\",\"2022-02-25T00:00:00\",\"2022-02-28T00:00:00\",\"2022-03-01T00:00:00\",\"2022-03-02T00:00:00\",\"2022-03-03T00:00:00\",\"2022-03-04T00:00:00\",\"2022-03-07T00:00:00\",\"2022-03-08T00:00:00\",\"2022-03-09T00:00:00\",\"2022-03-10T00:00:00\",\"2022-03-11T00:00:00\",\"2022-03-14T00:00:00\",\"2022-03-15T00:00:00\",\"2022-03-16T00:00:00\",\"2022-03-17T00:00:00\",\"2022-03-18T00:00:00\",\"2022-03-21T00:00:00\",\"2022-03-22T00:00:00\",\"2022-03-23T00:00:00\",\"2022-03-24T00:00:00\",\"2022-03-25T00:00:00\",\"2022-03-28T00:00:00\",\"2022-03-29T00:00:00\",\"2022-03-30T00:00:00\",\"2022-03-31T00:00:00\",\"2022-04-01T00:00:00\",\"2022-04-04T00:00:00\",\"2022-04-05T00:00:00\",\"2022-04-06T00:00:00\",\"2022-04-07T00:00:00\",\"2022-04-08T00:00:00\",\"2022-04-11T00:00:00\",\"2022-04-12T00:00:00\",\"2022-04-13T00:00:00\",\"2022-04-14T00:00:00\",\"2022-04-19T00:00:00\",\"2022-04-20T00:00:00\",\"2022-04-21T00:00:00\",\"2022-04-22T00:00:00\",\"2022-04-25T00:00:00\",\"2022-04-26T00:00:00\",\"2022-04-27T00:00:00\",\"2022-04-28T00:00:00\",\"2022-04-29T00:00:00\",\"2022-05-03T00:00:00\",\"2022-05-04T00:00:00\",\"2022-05-05T00:00:00\",\"2022-05-06T00:00:00\",\"2022-05-09T00:00:00\",\"2022-05-10T00:00:00\",\"2022-05-11T00:00:00\",\"2022-05-12T00:00:00\",\"2022-05-13T00:00:00\",\"2022-05-16T00:00:00\",\"2022-05-17T00:00:00\",\"2022-05-18T00:00:00\",\"2022-05-19T00:00:00\",\"2022-05-20T00:00:00\",\"2022-05-23T00:00:00\",\"2022-05-24T00:00:00\",\"2022-05-25T00:00:00\",\"2022-05-26T00:00:00\",\"2022-05-27T00:00:00\",\"2022-05-30T00:00:00\",\"2022-05-31T00:00:00\",\"2022-06-01T00:00:00\",\"2022-06-06T00:00:00\",\"2022-06-07T00:00:00\",\"2022-06-08T00:00:00\",\"2022-06-09T00:00:00\",\"2022-06-10T00:00:00\",\"2022-06-13T00:00:00\",\"2022-06-14T00:00:00\",\"2022-06-15T00:00:00\",\"2022-06-16T00:00:00\",\"2022-06-17T00:00:00\",\"2022-06-20T00:00:00\",\"2022-06-21T00:00:00\",\"2022-06-22T00:00:00\",\"2022-06-23T00:00:00\",\"2022-06-24T00:00:00\",\"2022-06-27T00:00:00\",\"2022-06-28T00:00:00\",\"2022-06-29T00:00:00\",\"2022-06-30T00:00:00\",\"2022-07-01T00:00:00\",\"2022-07-04T00:00:00\",\"2022-07-05T00:00:00\",\"2022-07-06T00:00:00\",\"2022-07-07T00:00:00\",\"2022-07-08T00:00:00\",\"2022-07-11T00:00:00\",\"2022-07-12T00:00:00\",\"2022-07-13T00:00:00\",\"2022-07-14T00:00:00\",\"2022-07-15T00:00:00\",\"2022-07-18T00:00:00\",\"2022-07-19T00:00:00\",\"2022-07-20T00:00:00\",\"2022-07-21T00:00:00\",\"2022-07-22T00:00:00\",\"2022-07-25T00:00:00\",\"2022-07-26T00:00:00\",\"2022-07-27T00:00:00\",\"2022-07-28T00:00:00\",\"2022-07-29T00:00:00\",\"2022-08-01T00:00:00\",\"2022-08-02T00:00:00\",\"2022-08-03T00:00:00\",\"2022-08-04T00:00:00\",\"2022-08-05T00:00:00\",\"2022-08-08T00:00:00\",\"2022-08-09T00:00:00\",\"2022-08-10T00:00:00\",\"2022-08-11T00:00:00\",\"2022-08-12T00:00:00\",\"2022-08-15T00:00:00\",\"2022-08-16T00:00:00\",\"2022-08-17T00:00:00\",\"2022-08-18T00:00:00\",\"2022-08-19T00:00:00\",\"2022-08-22T00:00:00\",\"2022-08-23T00:00:00\",\"2022-08-24T00:00:00\",\"2022-08-25T00:00:00\",\"2022-08-26T00:00:00\",\"2022-08-30T00:00:00\",\"2022-08-31T00:00:00\",\"2022-09-01T00:00:00\",\"2022-09-02T00:00:00\",\"2022-09-05T00:00:00\",\"2022-09-06T00:00:00\",\"2022-09-07T00:00:00\",\"2022-09-08T00:00:00\",\"2022-09-09T00:00:00\",\"2022-09-12T00:00:00\",\"2022-09-13T00:00:00\",\"2022-09-14T00:00:00\",\"2022-09-15T00:00:00\",\"2022-09-16T00:00:00\",\"2022-09-20T00:00:00\",\"2022-09-21T00:00:00\",\"2022-09-22T00:00:00\",\"2022-09-23T00:00:00\",\"2022-09-26T00:00:00\",\"2022-09-27T00:00:00\",\"2022-09-28T00:00:00\",\"2022-09-29T00:00:00\",\"2022-09-30T00:00:00\",\"2022-10-03T00:00:00\",\"2022-10-04T00:00:00\",\"2022-10-05T00:00:00\",\"2022-10-06T00:00:00\",\"2022-10-07T00:00:00\",\"2022-10-10T00:00:00\",\"2022-10-11T00:00:00\",\"2022-10-12T00:00:00\",\"2022-10-13T00:00:00\",\"2022-10-14T00:00:00\",\"2022-10-17T00:00:00\",\"2022-10-18T00:00:00\",\"2022-10-19T00:00:00\",\"2022-10-20T00:00:00\",\"2022-10-21T00:00:00\",\"2022-10-24T00:00:00\",\"2022-10-25T00:00:00\",\"2022-10-26T00:00:00\",\"2022-10-27T00:00:00\",\"2022-10-28T00:00:00\",\"2022-10-31T00:00:00\",\"2022-11-01T00:00:00\",\"2022-11-02T00:00:00\",\"2022-11-03T00:00:00\",\"2022-11-04T00:00:00\",\"2022-11-07T00:00:00\",\"2022-11-08T00:00:00\",\"2022-11-09T00:00:00\",\"2022-11-10T00:00:00\",\"2022-11-11T00:00:00\",\"2022-11-14T00:00:00\",\"2022-11-15T00:00:00\",\"2022-11-16T00:00:00\",\"2022-11-17T00:00:00\",\"2022-11-18T00:00:00\",\"2022-11-21T00:00:00\",\"2022-11-22T00:00:00\",\"2022-11-23T00:00:00\",\"2022-11-24T00:00:00\",\"2022-11-25T00:00:00\",\"2022-11-28T00:00:00\",\"2022-11-29T00:00:00\",\"2022-11-30T00:00:00\",\"2022-12-01T00:00:00\",\"2022-12-02T00:00:00\",\"2022-12-05T00:00:00\",\"2022-12-06T00:00:00\",\"2022-12-07T00:00:00\",\"2022-12-08T00:00:00\",\"2022-12-09T00:00:00\",\"2022-12-12T00:00:00\",\"2022-12-13T00:00:00\",\"2022-12-14T00:00:00\",\"2022-12-15T00:00:00\",\"2022-12-16T00:00:00\",\"2022-12-19T00:00:00\",\"2022-12-20T00:00:00\",\"2022-12-21T00:00:00\",\"2022-12-22T00:00:00\"],\"xaxis\":\"x\",\"y\":[1470.5999755859375,1477.5999755859375,1490.800048828125,1470.0,1459.5999755859375,1425.4000244140625,1447.5999755859375,1441.4000244140625,1384.5999755859375,1392.4000244140625,1422.199951171875,1434.5999755859375,1432.4000244140625,1432.199951171875,1453.800048828125,1431.5999755859375,1428.199951171875,1455.4000244140625,1433.5999755859375,1443.199951171875,1442.199951171875,1434.199951171875,1417.800048828125,1418.800048828125,1452.199951171875,1450.0,1476.199951171875,1464.199951171875,1456.0,1436.800048828125,1489.0,1517.800048828125,1523.800048828125,1529.199951171875,1597.5999755859375,1641.800048828125,1651.199951171875,1655.0,1647.800048828125,1672.5999755859375,1699.199951171875,1652.5999755859375,1672.4000244140625,1708.5999755859375,1736.800048828125,1731.199951171875,1721.0,1744.800048828125,1772.0,1768.199951171875,1778.4000244140625,1786.0,1756.199951171875,1749.199951171875,1775.800048828125,1773.800048828125,1765.5999755859375,1713.199951171875,1681.0,1683.199951171875,1661.5999755859375,null,1658.0,1683.4000244140625,1686.199951171875,1677.0,1681.199951171875,1664.800048828125,1641.199951171875,1676.4000244140625,1700.800048828125,1689.4000244140625,1660.800048828125,1609.4000244140625,1615.4000244140625,1638.199951171875,1657.5999755859375,1649.5999755859375,1556.199951171875,1594.800048828125,1577.0,1607.0,1633.199951171875,1651.4000244140625,1681.4000244140625,1695.5999755859375,1691.199951171875,1669.199951171875,1659.800048828125,1615.0,1619.4000244140625,1594.199951171875,1627.0,1593.0,1573.5999755859375,1618.5999755859375,1628.0,1645.800048828125,1644.0,1629.4000244140625,1619.0,1621.800048828125,1700.800048828125,1722.199951171875,1718.199951171875,1736.5999755859375,1730.5999755859375,1758.4000244140625,1806.4000244140625,1806.199951171875,1820.5999755859375,1842.800048828125,1872.199951171875,1869.4000244140625,1838.4000244140625,1807.4000244140625,1747.199951171875,1810.800048828125,1912.199951171875,1919.199951171875,1895.199951171875,1886.5999755859375,1946.5999755859375,1932.4000244140625,1960.0,2037.0,2061.5,1996.0,2028.0,2018.5,2039.0,2005.5,1984.0,2023.5,1969.4000244140625,1957.0,1944.199951171875,1954.5999755859375,1943.199951171875,1952.800048828125,2000.5,1972.0,1951.0,2047.5,1930.199951171875,1833.4000244140625,1981.0,2039.5,2004.5,1955.800048828125,1963.5999755859375,1926.800048828125,1940.0,1903.5999755859375,1965.4000244140625,1941.800048828125,2020.5,2007.5,2085.0,2081.0,2110.5,2061.5,2022.0,2111.5,2108.5,2119.5,2116.0,2121.0,2131.5,2086.0,2168.0,2135.0,2165.5,2182.0,2192.0,2228.0,2208.0,2222.0,2188.0,2074.5,2124.0,2130.5,2185.0,2173.0,2216.0,2225.0,2293.0,2299.5,2225.0,2233.5,2316.5,2240.5,2303.5,2337.5,2350.5,2370.5,2328.5,2336.5,2387.5,2366.0,2378.5,2404.0,2380.0,2374.0,2376.5,2361.0,2394.5,2416.0,2440.0,2395.5,2338.0,2287.5,2308.0,2271.0,2144.0,2044.0,2110.5,2151.0,2076.0,2029.0,2087.5,2112.5,2177.0,2185.0,2134.0,2121.0,2203.0,2016.0,1974.199951171875,2033.5,2043.5,2030.5,1998.0,2002.0,1936.4000244140625,1989.5999755859375,2037.0,2034.0,2050.5,2028.5,2039.5,2069.0,2086.5,2117.5,2124.0,2179.0,2136.0,2166.0,2170.5,2132.5,2150.0,2161.5,2184.5,2169.5,2213.5,2215.0,2182.0,2168.5,2182.0,2217.5,2248.5,2244.0,2317.5,2292.5,2320.5,2334.0,2339.5,2290.0,2273.0,2324.0,2348.0,2308.5,2263.0,2270.0,2300.0,2321.5,2327.5,2341.0,2314.5,2296.5,2302.5,2335.0,2338.5,2214.5,2211.5,2243.5,2261.0,2241.5,2246.5,2299.5,2338.0,2378.5,2312.0,2345.5,2327.5,2286.0,2269.0,2302.5,2270.0,2266.5,2253.0,2273.0,2320.0,2344.0,2345.0,2289.5,2299.5,2425.0,2418.5,2404.0,2454.0,2428.0,2491.5,2526.5,2501.0,2438.0,2383.5,2315.0,2360.0,2358.0,2375.0,2370.5,2364.5,2344.5,2272.5,2382.5,2356.5,2342.5,2367.0,2360.5,2400.5,2444.0,2382.0,2365.5,2375.5,2358.5,2315.5,2309.5,2286.0,2295.5,2318.0,2296.0,2289.5,2243.0,2287.0,2307.5,2354.5,2394.0],\"yaxis\":\"y\",\"type\":\"scattergl\"}],                        {\"template\":{\"data\":{\"bar\":[{\"error_x\":{\"color\":\"#2a3f5f\"},\"error_y\":{\"color\":\"#2a3f5f\"},\"marker\":{\"line\":{\"color\":\"#E5ECF6\",\"width\":0.5},\"pattern\":{\"fillmode\":\"overlay\",\"size\":10,\"solidity\":0.2}},\"type\":\"bar\"}],\"barpolar\":[{\"marker\":{\"line\":{\"color\":\"#E5ECF6\",\"width\":0.5},\"pattern\":{\"fillmode\":\"overlay\",\"size\":10,\"solidity\":0.2}},\"type\":\"barpolar\"}],\"carpet\":[{\"aaxis\":{\"endlinecolor\":\"#2a3f5f\",\"gridcolor\":\"white\",\"linecolor\":\"white\",\"minorgridcolor\":\"white\",\"startlinecolor\":\"#2a3f5f\"},\"baxis\":{\"endlinecolor\":\"#2a3f5f\",\"gridcolor\":\"white\",\"linecolor\":\"white\",\"minorgridcolor\":\"white\",\"startlinecolor\":\"#2a3f5f\"},\"type\":\"carpet\"}],\"choropleth\":[{\"colorbar\":{\"outlinewidth\":0,\"ticks\":\"\"},\"type\":\"choropleth\"}],\"contour\":[{\"colorbar\":{\"outlinewidth\":0,\"ticks\":\"\"},\"colorscale\":[[0.0,\"#0d0887\"],[0.1111111111111111,\"#46039f\"],[0.2222222222222222,\"#7201a8\"],[0.3333333333333333,\"#9c179e\"],[0.4444444444444444,\"#bd3786\"],[0.5555555555555556,\"#d8576b\"],[0.6666666666666666,\"#ed7953\"],[0.7777777777777778,\"#fb9f3a\"],[0.8888888888888888,\"#fdca26\"],[1.0,\"#f0f921\"]],\"type\":\"contour\"}],\"contourcarpet\":[{\"colorbar\":{\"outlinewidth\":0,\"ticks\":\"\"},\"type\":\"contourcarpet\"}],\"heatmap\":[{\"colorbar\":{\"outlinewidth\":0,\"ticks\":\"\"},\"colorscale\":[[0.0,\"#0d0887\"],[0.1111111111111111,\"#46039f\"],[0.2222222222222222,\"#7201a8\"],[0.3333333333333333,\"#9c179e\"],[0.4444444444444444,\"#bd3786\"],[0.5555555555555556,\"#d8576b\"],[0.6666666666666666,\"#ed7953\"],[0.7777777777777778,\"#fb9f3a\"],[0.8888888888888888,\"#fdca26\"],[1.0,\"#f0f921\"]],\"type\":\"heatmap\"}],\"heatmapgl\":[{\"colorbar\":{\"outlinewidth\":0,\"ticks\":\"\"},\"colorscale\":[[0.0,\"#0d0887\"],[0.1111111111111111,\"#46039f\"],[0.2222222222222222,\"#7201a8\"],[0.3333333333333333,\"#9c179e\"],[0.4444444444444444,\"#bd3786\"],[0.5555555555555556,\"#d8576b\"],[0.6666666666666666,\"#ed7953\"],[0.7777777777777778,\"#fb9f3a\"],[0.8888888888888888,\"#fdca26\"],[1.0,\"#f0f921\"]],\"type\":\"heatmapgl\"}],\"histogram\":[{\"marker\":{\"pattern\":{\"fillmode\":\"overlay\",\"size\":10,\"solidity\":0.2}},\"type\":\"histogram\"}],\"histogram2d\":[{\"colorbar\":{\"outlinewidth\":0,\"ticks\":\"\"},\"colorscale\":[[0.0,\"#0d0887\"],[0.1111111111111111,\"#46039f\"],[0.2222222222222222,\"#7201a8\"],[0.3333333333333333,\"#9c179e\"],[0.4444444444444444,\"#bd3786\"],[0.5555555555555556,\"#d8576b\"],[0.6666666666666666,\"#ed7953\"],[0.7777777777777778,\"#fb9f3a\"],[0.8888888888888888,\"#fdca26\"],[1.0,\"#f0f921\"]],\"type\":\"histogram2d\"}],\"histogram2dcontour\":[{\"colorbar\":{\"outlinewidth\":0,\"ticks\":\"\"},\"colorscale\":[[0.0,\"#0d0887\"],[0.1111111111111111,\"#46039f\"],[0.2222222222222222,\"#7201a8\"],[0.3333333333333333,\"#9c179e\"],[0.4444444444444444,\"#bd3786\"],[0.5555555555555556,\"#d8576b\"],[0.6666666666666666,\"#ed7953\"],[0.7777777777777778,\"#fb9f3a\"],[0.8888888888888888,\"#fdca26\"],[1.0,\"#f0f921\"]],\"type\":\"histogram2dcontour\"}],\"mesh3d\":[{\"colorbar\":{\"outlinewidth\":0,\"ticks\":\"\"},\"type\":\"mesh3d\"}],\"parcoords\":[{\"line\":{\"colorbar\":{\"outlinewidth\":0,\"ticks\":\"\"}},\"type\":\"parcoords\"}],\"pie\":[{\"automargin\":true,\"type\":\"pie\"}],\"scatter\":[{\"marker\":{\"colorbar\":{\"outlinewidth\":0,\"ticks\":\"\"}},\"type\":\"scatter\"}],\"scatter3d\":[{\"line\":{\"colorbar\":{\"outlinewidth\":0,\"ticks\":\"\"}},\"marker\":{\"colorbar\":{\"outlinewidth\":0,\"ticks\":\"\"}},\"type\":\"scatter3d\"}],\"scattercarpet\":[{\"marker\":{\"colorbar\":{\"outlinewidth\":0,\"ticks\":\"\"}},\"type\":\"scattercarpet\"}],\"scattergeo\":[{\"marker\":{\"colorbar\":{\"outlinewidth\":0,\"ticks\":\"\"}},\"type\":\"scattergeo\"}],\"scattergl\":[{\"marker\":{\"colorbar\":{\"outlinewidth\":0,\"ticks\":\"\"}},\"type\":\"scattergl\"}],\"scattermapbox\":[{\"marker\":{\"colorbar\":{\"outlinewidth\":0,\"ticks\":\"\"}},\"type\":\"scattermapbox\"}],\"scatterpolar\":[{\"marker\":{\"colorbar\":{\"outlinewidth\":0,\"ticks\":\"\"}},\"type\":\"scatterpolar\"}],\"scatterpolargl\":[{\"marker\":{\"colorbar\":{\"outlinewidth\":0,\"ticks\":\"\"}},\"type\":\"scatterpolargl\"}],\"scatterternary\":[{\"marker\":{\"colorbar\":{\"outlinewidth\":0,\"ticks\":\"\"}},\"type\":\"scatterternary\"}],\"surface\":[{\"colorbar\":{\"outlinewidth\":0,\"ticks\":\"\"},\"colorscale\":[[0.0,\"#0d0887\"],[0.1111111111111111,\"#46039f\"],[0.2222222222222222,\"#7201a8\"],[0.3333333333333333,\"#9c179e\"],[0.4444444444444444,\"#bd3786\"],[0.5555555555555556,\"#d8576b\"],[0.6666666666666666,\"#ed7953\"],[0.7777777777777778,\"#fb9f3a\"],[0.8888888888888888,\"#fdca26\"],[1.0,\"#f0f921\"]],\"type\":\"surface\"}],\"table\":[{\"cells\":{\"fill\":{\"color\":\"#EBF0F8\"},\"line\":{\"color\":\"white\"}},\"header\":{\"fill\":{\"color\":\"#C8D4E3\"},\"line\":{\"color\":\"white\"}},\"type\":\"table\"}]},\"layout\":{\"annotationdefaults\":{\"arrowcolor\":\"#2a3f5f\",\"arrowhead\":0,\"arrowwidth\":1},\"autotypenumbers\":\"strict\",\"coloraxis\":{\"colorbar\":{\"outlinewidth\":0,\"ticks\":\"\"}},\"colorscale\":{\"diverging\":[[0,\"#8e0152\"],[0.1,\"#c51b7d\"],[0.2,\"#de77ae\"],[0.3,\"#f1b6da\"],[0.4,\"#fde0ef\"],[0.5,\"#f7f7f7\"],[0.6,\"#e6f5d0\"],[0.7,\"#b8e186\"],[0.8,\"#7fbc41\"],[0.9,\"#4d9221\"],[1,\"#276419\"]],\"sequential\":[[0.0,\"#0d0887\"],[0.1111111111111111,\"#46039f\"],[0.2222222222222222,\"#7201a8\"],[0.3333333333333333,\"#9c179e\"],[0.4444444444444444,\"#bd3786\"],[0.5555555555555556,\"#d8576b\"],[0.6666666666666666,\"#ed7953\"],[0.7777777777777778,\"#fb9f3a\"],[0.8888888888888888,\"#fdca26\"],[1.0,\"#f0f921\"]],\"sequentialminus\":[[0.0,\"#0d0887\"],[0.1111111111111111,\"#46039f\"],[0.2222222222222222,\"#7201a8\"],[0.3333333333333333,\"#9c179e\"],[0.4444444444444444,\"#bd3786\"],[0.5555555555555556,\"#d8576b\"],[0.6666666666666666,\"#ed7953\"],[0.7777777777777778,\"#fb9f3a\"],[0.8888888888888888,\"#fdca26\"],[1.0,\"#f0f921\"]]},\"colorway\":[\"#636efa\",\"#EF553B\",\"#00cc96\",\"#ab63fa\",\"#FFA15A\",\"#19d3f3\",\"#FF6692\",\"#B6E880\",\"#FF97FF\",\"#FECB52\"],\"font\":{\"color\":\"#2a3f5f\"},\"geo\":{\"bgcolor\":\"white\",\"lakecolor\":\"white\",\"landcolor\":\"#E5ECF6\",\"showlakes\":true,\"showland\":true,\"subunitcolor\":\"white\"},\"hoverlabel\":{\"align\":\"left\"},\"hovermode\":\"closest\",\"mapbox\":{\"style\":\"light\"},\"paper_bgcolor\":\"white\",\"plot_bgcolor\":\"#E5ECF6\",\"polar\":{\"angularaxis\":{\"gridcolor\":\"white\",\"linecolor\":\"white\",\"ticks\":\"\"},\"bgcolor\":\"#E5ECF6\",\"radialaxis\":{\"gridcolor\":\"white\",\"linecolor\":\"white\",\"ticks\":\"\"}},\"scene\":{\"xaxis\":{\"backgroundcolor\":\"#E5ECF6\",\"gridcolor\":\"white\",\"gridwidth\":2,\"linecolor\":\"white\",\"showbackground\":true,\"ticks\":\"\",\"zerolinecolor\":\"white\"},\"yaxis\":{\"backgroundcolor\":\"#E5ECF6\",\"gridcolor\":\"white\",\"gridwidth\":2,\"linecolor\":\"white\",\"showbackground\":true,\"ticks\":\"\",\"zerolinecolor\":\"white\"},\"zaxis\":{\"backgroundcolor\":\"#E5ECF6\",\"gridcolor\":\"white\",\"gridwidth\":2,\"linecolor\":\"white\",\"showbackground\":true,\"ticks\":\"\",\"zerolinecolor\":\"white\"}},\"shapedefaults\":{\"line\":{\"color\":\"#2a3f5f\"}},\"ternary\":{\"aaxis\":{\"gridcolor\":\"white\",\"linecolor\":\"white\",\"ticks\":\"\"},\"baxis\":{\"gridcolor\":\"white\",\"linecolor\":\"white\",\"ticks\":\"\"},\"bgcolor\":\"#E5ECF6\",\"caxis\":{\"gridcolor\":\"white\",\"linecolor\":\"white\",\"ticks\":\"\"}},\"title\":{\"x\":0.05},\"xaxis\":{\"automargin\":true,\"gridcolor\":\"white\",\"linecolor\":\"white\",\"ticks\":\"\",\"title\":{\"standoff\":15},\"zerolinecolor\":\"white\",\"zerolinewidth\":2},\"yaxis\":{\"automargin\":true,\"gridcolor\":\"white\",\"linecolor\":\"white\",\"ticks\":\"\",\"title\":{\"standoff\":15},\"zerolinecolor\":\"white\",\"zerolinewidth\":2}}},\"xaxis\":{\"anchor\":\"y\",\"domain\":[0.0,1.0],\"title\":{\"text\":\"Date\"}},\"yaxis\":{\"anchor\":\"x\",\"domain\":[0.0,1.0],\"title\":{\"text\":\"value\"}},\"legend\":{\"title\":{\"text\":\"variable\"},\"tracegroupgap\":0},\"margin\":{\"t\":60}},                        {\"responsive\": true}                    ).then(function(){\n",
       "                            \n",
       "var gd = document.getElementById('dc3f4075-a3b4-498f-9fa1-b0680c0c7149');\n",
       "var x = new MutationObserver(function (mutations, observer) {{\n",
       "        var display = window.getComputedStyle(gd).display;\n",
       "        if (!display || display === 'none') {{\n",
       "            console.log([gd, 'removed!']);\n",
       "            Plotly.purge(gd);\n",
       "            observer.disconnect();\n",
       "        }}\n",
       "}});\n",
       "\n",
       "// Listen for the removal of the full notebook cells\n",
       "var notebookContainer = gd.closest('#notebook-container');\n",
       "if (notebookContainer) {{\n",
       "    x.observe(notebookContainer, {childList: true});\n",
       "}}\n",
       "\n",
       "// Listen for the clearing of the current output cell\n",
       "var outputEl = gd.closest('.output');\n",
       "if (outputEl) {{\n",
       "    x.observe(outputEl, {childList: true});\n",
       "}}\n",
       "\n",
       "                        })                };                });            </script>        </div>"
      ]
     },
     "metadata": {},
     "output_type": "display_data"
    }
   ],
   "source": [
    "df['Close'].plot()"
   ]
  },
  {
   "cell_type": "code",
   "execution_count": 54,
   "id": "58f70f9c",
   "metadata": {},
   "outputs": [
    {
     "data": {
      "application/vnd.plotly.v1+json": {
       "config": {
        "plotlyServerURL": "https://plot.ly"
       },
       "data": [
        {
         "alignmentgroup": "True",
         "bingroup": "x",
         "hovertemplate": "variable=SHEL.L<br>value=%{x}<br>count=%{y}<extra></extra>",
         "legendgroup": "SHEL.L",
         "marker": {
          "color": "#636efa",
          "pattern": {
           "shape": ""
          }
         },
         "name": "SHEL.L",
         "offsetgroup": "SHEL.L",
         "orientation": "v",
         "showlegend": true,
         "type": "histogram",
         "x": [
          null,
          0.004759961999326823,
          0.00893345523841993,
          -0.013952272703824597,
          -0.0070748465401785365,
          -0.023431043946233188,
          0.01557454103524436,
          -0.004282917433295341,
          -0.03940616613435577,
          0.0056334312911021645,
          0.021401843030240286,
          0.008718903698347713,
          -0.0015334944997308364,
          -0.0001396769329637948,
          0.015081761201413357,
          -0.0152703759090409,
          -0.0023749821682351735,
          0.01904500362142514,
          -0.014978733312101977,
          0.006696411655569223,
          -0.0006929046797624627,
          -0.005547081036509249,
          -0.011434878609743238,
          0.0007053180741716236,
          0.02354095094043518,
          -0.0015149092727207991,
          0.01806893184267233,
          -0.008128980081914983,
          -0.005600294662837624,
          -0.013186779651013003,
          0.03633069974799219,
          0.019341872953744232,
          0.003953089871510107,
          0.0035437079477078637,
          0.04472928760012418,
          0.027666546017551585,
          0.005725363664387473,
          0.0023013862284988473,
          -0.004350423668806669,
          0.015050325296112055,
          0.01590336958878602,
          -0.02742465685324391,
          0.011981150381600747,
          0.021645509832229237,
          0.016504783826019054,
          -0.00322437672662923,
          -0.005891838874516164,
          0.013829197459689135,
          0.015589150854359302,
          -0.002144497081334684,
          0.005768619796322927,
          0.00427349048673209,
          -0.01668535768652013,
          -0.003985878712346569,
          0.015207008002961153,
          -0.001126252925446103,
          -0.0046228847764464565,
          -0.029678310567869626,
          -0.018795209017983816,
          0.0013087157476947553,
          -0.012832685487484286,
          0,
          -0.0021665717614541835,
          0.015319676968674534,
          0.0016632569307388767,
          -0.005456026235489575,
          0.0025044431555605318,
          -0.009754879145885353,
          -0.014175935225892444,
          0.021447766444943728,
          0.014555013158384256,
          -0.006702742289969477,
          -0.01692907255394227,
          -0.030948954060021183,
          0.003728097371058725,
          0.01411410574051608,
          0.01184228115755026,
          -0.004826254897338567,
          -0.056619802252898865,
          0.024804073298667628,
          -0.011161304416315132,
          0.019023462270133074,
          0.016303641052815898,
          0.011143812017094579,
          0.018166403994479996,
          0.00844531400362225,
          -0.002594966075381122,
          -0.013008515039724111,
          -0.005631381870788266,
          -0.0269912323835364,
          0.002724473321400911,
          -0.015561364000414635,
          0.02057461412165651,
          -0.020897357098955127,
          -0.01217829530072978,
          0.028596848435539668,
          0.005807503123592683,
          0.010933690926366646,
          -0.0010937226726944749,
          -0.008880763738404851,
          -0.006382732452580142,
          0.0017294927906887914,
          0.048711306956171097,
          0.012582256426024285,
          -0.0023226106801815805,
          0.01070889590091828,
          -0.0034550271129513144,
          0.016063821345376317,
          0.027297542842104283,
          -0.00011075799351389914,
          0.007972552764559548,
          0.012193822662797116,
          0.015953929653109045,
          -0.0014955276310417709,
          -0.01658286059438585,
          -0.016862488897039896,
          -0.03330755362897797,
          0.036401155811384145,
          0.055997293798049075,
          0.0036607050406576302,
          -0.012505210822533308,
          -0.004537766888723205,
          0.03180324434243942,
          -0.007294745376538292,
          0.014282744378615986,
          0.03928571428571437,
          0.012027491408934665,
          -0.031772980839194775,
          0.01603206412825653,
          -0.004684418145956659,
          0.010156056477582442,
          -0.016429622363903884,
          -0.010720518573921756,
          0.019909274193548487,
          -0.026735841653539705,
          -0.006296346227451566,
          -0.006540648353666301,
          0.005349256596675511,
          -0.005832407938429984,
          0.004940355031637589,
          0.02442643894878005,
          -0.014246438390402405,
          -0.010649087221095366,
          0.04946181445412612,
          -0.05728940113705738,
          -0.0501502068213413,
          0.08050614902392028,
          0.029530540131246896,
          -0.017161068889433695,
          -0.024295311135881792,
          0.003988100298129238,
          -0.018741050730982756,
          0.006850711458048275,
          -0.0187628991825064,
          0.032464829596933864,
          -0.012007721223557644,
          0.04052937954109659,
          -0.006434050977480843,
          0.038605230386052236,
          -0.0019184652278178005,
          0.014175876982220004,
          -0.023217247097844118,
          -0.019160805238903733,
          0.04426310583580606,
          -0.0014207909069381408,
          0.005216978894948987,
          -0.0016513328615239686,
          0.0023629489603025355,
          0.004950495049504955,
          -0.021346469622331665,
          0.039309683604985546,
          -0.015221402214022128,
          0.014285714285714235,
          0.007619487416301141,
          0.004582951420714965,
          0.01642335766423364,
          -0.008976660682226245,
          0.006340579710145011,
          -0.015301530153015275,
          -0.05187385740402195,
          0.02386117136659438,
          0.0030602636534839966,
          0.025580849565829622,
          -0.005491990846681949,
          0.01978831109065804,
          0.004061371841155292,
          0.030561797752808983,
          0.0028347143480156323,
          -0.03239834746684067,
          0.0038202247191010397,
          0.037161405865233865,
          -0.03280811569177644,
          0.028118723499218845,
          0.014760147601476037,
          0.005561497326203257,
          0.008508827908955574,
          -0.01771778105884836,
          0.0034356882112949183,
          0.021827519794564543,
          -0.009005235602094208,
          0.005283178360101504,
          0.010721042673954129,
          -0.009983361064891838,
          -0.0025210084033613356,
          0.001053074978938584,
          -0.006522196507468991,
          0.014188903007200437,
          0.008978910002088059,
          0.009933774834437026,
          -0.018237704918032782,
          -0.024003339595074058,
          -0.021599657827202745,
          0.008961748633879774,
          -0.01603119584055457,
          -0.05592250110083663,
          -0.04664179104477617,
          0.03253424657534243,
          0.019189765458422103,
          -0.034867503486750384,
          -0.022639691714836263,
          0.02883193691473629,
          0.011976047904191711,
          0.030532544378698123,
          0.003674781809829941,
          -0.023340961098398116,
          -0.006091846298031833,
          0.03866100895803859,
          -0.0848842487517022,
          -0.02073415120442712,
          0.030037509013676633,
          0.004917629702483328,
          -0.006361634450697373,
          -0.016005909874415192,
          0.002002002002001957,
          -0.03276722057239634,
          0.02747363690411686,
          0.0238238967610076,
          -0.0014727540500736325,
          0.008112094395280156,
          -0.01072909046574011,
          0.005422726152329416,
          0.014464329492522632,
          0.00845819236346057,
          0.01485741672657559,
          0.0030696576151121313,
          0.025894538606403117,
          -0.01973382285452041,
          0.014044943820224809,
          0.0020775623268698418,
          -0.017507486754204105,
          0.008206330597889888,
          0.005348837209302237,
          0.01064075873236181,
          -0.006866559853513365,
          0.02028117077667657,
          0.0006776598147730795,
          -0.014898419864559864,
          -0.006186984417965169,
          0.0062255014987318,
          0.016269477543538136,
          0.013979706877113918,
          -0.002001334222815232,
          0.03275401069518713,
          -0.010787486515641875,
          0.012213740458015376,
          0.005817711700064621,
          0.0023564695801199242,
          -0.02115836717247277,
          -0.007423580786026229,
          0.02243730752309725,
          0.010327022375215211,
          -0.01682282793867118,
          -0.019709768247779924,
          0.0030932390631903672,
          0.013215859030837107,
          0.009347826086956612,
          0.0025845358604350555,
          0.005800214822771155,
          -0.011319948739854757,
          -0.00777705767984449,
          0.0026126714565644082,
          0.014115092290988063,
          0.0014989293361884481,
          -0.05302544366046613,
          -0.0013547076089410748,
          0.01446981686638038,
          0.007800312012480548,
          -0.008624502432551973,
          0.0022306491188937017,
          0.023592254618295172,
          0.016742770167427645,
          0.017322497861419928,
          -0.027958797561488336,
          0.014489619377162644,
          -0.007674269878490736,
          -0.0178302900107411,
          -0.007436570428696387,
          0.014764213309828023,
          -0.014115092290988063,
          -0.001541850220264318,
          -0.0059563203176704604,
          0.008877052818464293,
          0.02067751869775636,
          0.010344827586206806,
          0.0004266211604095904,
          -0.023667377398720713,
          0.004367765887748343,
          0.0545770819743423,
          -0.0026804123711340333,
          -0.005995451726276579,
          0.02079866888519133,
          -0.010594947025264867,
          0.026153212520592994,
          0.014047762392133345,
          -0.01009301405105878,
          -0.02518992403038789,
          -0.0223543888433142,
          -0.02873924900356617,
          0.01943844492440605,
          -0.0008474576271186862,
          0.007209499575911771,
          -0.0018947368421052824,
          -0.0025311115798354322,
          -0.008458447874814978,
          -0.030710172744721653,
          0.04840484048404847,
          -0.010912906610702988,
          -0.0059410142159983526,
          0.010458911419423789,
          -0.0027460920997042226,
          0.01694556238085143,
          0.01812122474484479,
          -0.0253682487725041,
          -0.006926952141057985,
          0.004227436060029621,
          -0.007156388128815028,
          -0.01823192707229171,
          -0.002591232995033499,
          -0.010175362632604434,
          0.004155730533683233,
          0.009801786103245558,
          -0.009490940465918918,
          -0.0028310104529616353,
          -0.020310111378030182,
          0.01961658493089602,
          0.008963707914298125,
          0.020368364030335817,
          0.01677638564451045
         ],
         "xaxis": "x",
         "yaxis": "y"
        }
       ],
       "layout": {
        "barmode": "relative",
        "legend": {
         "title": {
          "text": "variable"
         },
         "tracegroupgap": 0
        },
        "margin": {
         "t": 60
        },
        "template": {
         "data": {
          "bar": [
           {
            "error_x": {
             "color": "#2a3f5f"
            },
            "error_y": {
             "color": "#2a3f5f"
            },
            "marker": {
             "line": {
              "color": "#E5ECF6",
              "width": 0.5
             },
             "pattern": {
              "fillmode": "overlay",
              "size": 10,
              "solidity": 0.2
             }
            },
            "type": "bar"
           }
          ],
          "barpolar": [
           {
            "marker": {
             "line": {
              "color": "#E5ECF6",
              "width": 0.5
             },
             "pattern": {
              "fillmode": "overlay",
              "size": 10,
              "solidity": 0.2
             }
            },
            "type": "barpolar"
           }
          ],
          "carpet": [
           {
            "aaxis": {
             "endlinecolor": "#2a3f5f",
             "gridcolor": "white",
             "linecolor": "white",
             "minorgridcolor": "white",
             "startlinecolor": "#2a3f5f"
            },
            "baxis": {
             "endlinecolor": "#2a3f5f",
             "gridcolor": "white",
             "linecolor": "white",
             "minorgridcolor": "white",
             "startlinecolor": "#2a3f5f"
            },
            "type": "carpet"
           }
          ],
          "choropleth": [
           {
            "colorbar": {
             "outlinewidth": 0,
             "ticks": ""
            },
            "type": "choropleth"
           }
          ],
          "contour": [
           {
            "colorbar": {
             "outlinewidth": 0,
             "ticks": ""
            },
            "colorscale": [
             [
              0,
              "#0d0887"
             ],
             [
              0.1111111111111111,
              "#46039f"
             ],
             [
              0.2222222222222222,
              "#7201a8"
             ],
             [
              0.3333333333333333,
              "#9c179e"
             ],
             [
              0.4444444444444444,
              "#bd3786"
             ],
             [
              0.5555555555555556,
              "#d8576b"
             ],
             [
              0.6666666666666666,
              "#ed7953"
             ],
             [
              0.7777777777777778,
              "#fb9f3a"
             ],
             [
              0.8888888888888888,
              "#fdca26"
             ],
             [
              1,
              "#f0f921"
             ]
            ],
            "type": "contour"
           }
          ],
          "contourcarpet": [
           {
            "colorbar": {
             "outlinewidth": 0,
             "ticks": ""
            },
            "type": "contourcarpet"
           }
          ],
          "heatmap": [
           {
            "colorbar": {
             "outlinewidth": 0,
             "ticks": ""
            },
            "colorscale": [
             [
              0,
              "#0d0887"
             ],
             [
              0.1111111111111111,
              "#46039f"
             ],
             [
              0.2222222222222222,
              "#7201a8"
             ],
             [
              0.3333333333333333,
              "#9c179e"
             ],
             [
              0.4444444444444444,
              "#bd3786"
             ],
             [
              0.5555555555555556,
              "#d8576b"
             ],
             [
              0.6666666666666666,
              "#ed7953"
             ],
             [
              0.7777777777777778,
              "#fb9f3a"
             ],
             [
              0.8888888888888888,
              "#fdca26"
             ],
             [
              1,
              "#f0f921"
             ]
            ],
            "type": "heatmap"
           }
          ],
          "heatmapgl": [
           {
            "colorbar": {
             "outlinewidth": 0,
             "ticks": ""
            },
            "colorscale": [
             [
              0,
              "#0d0887"
             ],
             [
              0.1111111111111111,
              "#46039f"
             ],
             [
              0.2222222222222222,
              "#7201a8"
             ],
             [
              0.3333333333333333,
              "#9c179e"
             ],
             [
              0.4444444444444444,
              "#bd3786"
             ],
             [
              0.5555555555555556,
              "#d8576b"
             ],
             [
              0.6666666666666666,
              "#ed7953"
             ],
             [
              0.7777777777777778,
              "#fb9f3a"
             ],
             [
              0.8888888888888888,
              "#fdca26"
             ],
             [
              1,
              "#f0f921"
             ]
            ],
            "type": "heatmapgl"
           }
          ],
          "histogram": [
           {
            "marker": {
             "pattern": {
              "fillmode": "overlay",
              "size": 10,
              "solidity": 0.2
             }
            },
            "type": "histogram"
           }
          ],
          "histogram2d": [
           {
            "colorbar": {
             "outlinewidth": 0,
             "ticks": ""
            },
            "colorscale": [
             [
              0,
              "#0d0887"
             ],
             [
              0.1111111111111111,
              "#46039f"
             ],
             [
              0.2222222222222222,
              "#7201a8"
             ],
             [
              0.3333333333333333,
              "#9c179e"
             ],
             [
              0.4444444444444444,
              "#bd3786"
             ],
             [
              0.5555555555555556,
              "#d8576b"
             ],
             [
              0.6666666666666666,
              "#ed7953"
             ],
             [
              0.7777777777777778,
              "#fb9f3a"
             ],
             [
              0.8888888888888888,
              "#fdca26"
             ],
             [
              1,
              "#f0f921"
             ]
            ],
            "type": "histogram2d"
           }
          ],
          "histogram2dcontour": [
           {
            "colorbar": {
             "outlinewidth": 0,
             "ticks": ""
            },
            "colorscale": [
             [
              0,
              "#0d0887"
             ],
             [
              0.1111111111111111,
              "#46039f"
             ],
             [
              0.2222222222222222,
              "#7201a8"
             ],
             [
              0.3333333333333333,
              "#9c179e"
             ],
             [
              0.4444444444444444,
              "#bd3786"
             ],
             [
              0.5555555555555556,
              "#d8576b"
             ],
             [
              0.6666666666666666,
              "#ed7953"
             ],
             [
              0.7777777777777778,
              "#fb9f3a"
             ],
             [
              0.8888888888888888,
              "#fdca26"
             ],
             [
              1,
              "#f0f921"
             ]
            ],
            "type": "histogram2dcontour"
           }
          ],
          "mesh3d": [
           {
            "colorbar": {
             "outlinewidth": 0,
             "ticks": ""
            },
            "type": "mesh3d"
           }
          ],
          "parcoords": [
           {
            "line": {
             "colorbar": {
              "outlinewidth": 0,
              "ticks": ""
             }
            },
            "type": "parcoords"
           }
          ],
          "pie": [
           {
            "automargin": true,
            "type": "pie"
           }
          ],
          "scatter": [
           {
            "marker": {
             "colorbar": {
              "outlinewidth": 0,
              "ticks": ""
             }
            },
            "type": "scatter"
           }
          ],
          "scatter3d": [
           {
            "line": {
             "colorbar": {
              "outlinewidth": 0,
              "ticks": ""
             }
            },
            "marker": {
             "colorbar": {
              "outlinewidth": 0,
              "ticks": ""
             }
            },
            "type": "scatter3d"
           }
          ],
          "scattercarpet": [
           {
            "marker": {
             "colorbar": {
              "outlinewidth": 0,
              "ticks": ""
             }
            },
            "type": "scattercarpet"
           }
          ],
          "scattergeo": [
           {
            "marker": {
             "colorbar": {
              "outlinewidth": 0,
              "ticks": ""
             }
            },
            "type": "scattergeo"
           }
          ],
          "scattergl": [
           {
            "marker": {
             "colorbar": {
              "outlinewidth": 0,
              "ticks": ""
             }
            },
            "type": "scattergl"
           }
          ],
          "scattermapbox": [
           {
            "marker": {
             "colorbar": {
              "outlinewidth": 0,
              "ticks": ""
             }
            },
            "type": "scattermapbox"
           }
          ],
          "scatterpolar": [
           {
            "marker": {
             "colorbar": {
              "outlinewidth": 0,
              "ticks": ""
             }
            },
            "type": "scatterpolar"
           }
          ],
          "scatterpolargl": [
           {
            "marker": {
             "colorbar": {
              "outlinewidth": 0,
              "ticks": ""
             }
            },
            "type": "scatterpolargl"
           }
          ],
          "scatterternary": [
           {
            "marker": {
             "colorbar": {
              "outlinewidth": 0,
              "ticks": ""
             }
            },
            "type": "scatterternary"
           }
          ],
          "surface": [
           {
            "colorbar": {
             "outlinewidth": 0,
             "ticks": ""
            },
            "colorscale": [
             [
              0,
              "#0d0887"
             ],
             [
              0.1111111111111111,
              "#46039f"
             ],
             [
              0.2222222222222222,
              "#7201a8"
             ],
             [
              0.3333333333333333,
              "#9c179e"
             ],
             [
              0.4444444444444444,
              "#bd3786"
             ],
             [
              0.5555555555555556,
              "#d8576b"
             ],
             [
              0.6666666666666666,
              "#ed7953"
             ],
             [
              0.7777777777777778,
              "#fb9f3a"
             ],
             [
              0.8888888888888888,
              "#fdca26"
             ],
             [
              1,
              "#f0f921"
             ]
            ],
            "type": "surface"
           }
          ],
          "table": [
           {
            "cells": {
             "fill": {
              "color": "#EBF0F8"
             },
             "line": {
              "color": "white"
             }
            },
            "header": {
             "fill": {
              "color": "#C8D4E3"
             },
             "line": {
              "color": "white"
             }
            },
            "type": "table"
           }
          ]
         },
         "layout": {
          "annotationdefaults": {
           "arrowcolor": "#2a3f5f",
           "arrowhead": 0,
           "arrowwidth": 1
          },
          "autotypenumbers": "strict",
          "coloraxis": {
           "colorbar": {
            "outlinewidth": 0,
            "ticks": ""
           }
          },
          "colorscale": {
           "diverging": [
            [
             0,
             "#8e0152"
            ],
            [
             0.1,
             "#c51b7d"
            ],
            [
             0.2,
             "#de77ae"
            ],
            [
             0.3,
             "#f1b6da"
            ],
            [
             0.4,
             "#fde0ef"
            ],
            [
             0.5,
             "#f7f7f7"
            ],
            [
             0.6,
             "#e6f5d0"
            ],
            [
             0.7,
             "#b8e186"
            ],
            [
             0.8,
             "#7fbc41"
            ],
            [
             0.9,
             "#4d9221"
            ],
            [
             1,
             "#276419"
            ]
           ],
           "sequential": [
            [
             0,
             "#0d0887"
            ],
            [
             0.1111111111111111,
             "#46039f"
            ],
            [
             0.2222222222222222,
             "#7201a8"
            ],
            [
             0.3333333333333333,
             "#9c179e"
            ],
            [
             0.4444444444444444,
             "#bd3786"
            ],
            [
             0.5555555555555556,
             "#d8576b"
            ],
            [
             0.6666666666666666,
             "#ed7953"
            ],
            [
             0.7777777777777778,
             "#fb9f3a"
            ],
            [
             0.8888888888888888,
             "#fdca26"
            ],
            [
             1,
             "#f0f921"
            ]
           ],
           "sequentialminus": [
            [
             0,
             "#0d0887"
            ],
            [
             0.1111111111111111,
             "#46039f"
            ],
            [
             0.2222222222222222,
             "#7201a8"
            ],
            [
             0.3333333333333333,
             "#9c179e"
            ],
            [
             0.4444444444444444,
             "#bd3786"
            ],
            [
             0.5555555555555556,
             "#d8576b"
            ],
            [
             0.6666666666666666,
             "#ed7953"
            ],
            [
             0.7777777777777778,
             "#fb9f3a"
            ],
            [
             0.8888888888888888,
             "#fdca26"
            ],
            [
             1,
             "#f0f921"
            ]
           ]
          },
          "colorway": [
           "#636efa",
           "#EF553B",
           "#00cc96",
           "#ab63fa",
           "#FFA15A",
           "#19d3f3",
           "#FF6692",
           "#B6E880",
           "#FF97FF",
           "#FECB52"
          ],
          "font": {
           "color": "#2a3f5f"
          },
          "geo": {
           "bgcolor": "white",
           "lakecolor": "white",
           "landcolor": "#E5ECF6",
           "showlakes": true,
           "showland": true,
           "subunitcolor": "white"
          },
          "hoverlabel": {
           "align": "left"
          },
          "hovermode": "closest",
          "mapbox": {
           "style": "light"
          },
          "paper_bgcolor": "white",
          "plot_bgcolor": "#E5ECF6",
          "polar": {
           "angularaxis": {
            "gridcolor": "white",
            "linecolor": "white",
            "ticks": ""
           },
           "bgcolor": "#E5ECF6",
           "radialaxis": {
            "gridcolor": "white",
            "linecolor": "white",
            "ticks": ""
           }
          },
          "scene": {
           "xaxis": {
            "backgroundcolor": "#E5ECF6",
            "gridcolor": "white",
            "gridwidth": 2,
            "linecolor": "white",
            "showbackground": true,
            "ticks": "",
            "zerolinecolor": "white"
           },
           "yaxis": {
            "backgroundcolor": "#E5ECF6",
            "gridcolor": "white",
            "gridwidth": 2,
            "linecolor": "white",
            "showbackground": true,
            "ticks": "",
            "zerolinecolor": "white"
           },
           "zaxis": {
            "backgroundcolor": "#E5ECF6",
            "gridcolor": "white",
            "gridwidth": 2,
            "linecolor": "white",
            "showbackground": true,
            "ticks": "",
            "zerolinecolor": "white"
           }
          },
          "shapedefaults": {
           "line": {
            "color": "#2a3f5f"
           }
          },
          "ternary": {
           "aaxis": {
            "gridcolor": "white",
            "linecolor": "white",
            "ticks": ""
           },
           "baxis": {
            "gridcolor": "white",
            "linecolor": "white",
            "ticks": ""
           },
           "bgcolor": "#E5ECF6",
           "caxis": {
            "gridcolor": "white",
            "linecolor": "white",
            "ticks": ""
           }
          },
          "title": {
           "x": 0.05
          },
          "xaxis": {
           "automargin": true,
           "gridcolor": "white",
           "linecolor": "white",
           "ticks": "",
           "title": {
            "standoff": 15
           },
           "zerolinecolor": "white",
           "zerolinewidth": 2
          },
          "yaxis": {
           "automargin": true,
           "gridcolor": "white",
           "linecolor": "white",
           "ticks": "",
           "title": {
            "standoff": 15
           },
           "zerolinecolor": "white",
           "zerolinewidth": 2
          }
         }
        },
        "xaxis": {
         "anchor": "y",
         "domain": [
          0,
          1
         ],
         "title": {
          "text": "value"
         }
        },
        "yaxis": {
         "anchor": "x",
         "domain": [
          0,
          1
         ],
         "title": {
          "text": "count"
         }
        }
       }
      },
      "text/html": [
       "<div>                            <div id=\"a38933ef-d193-4008-bad2-a3233b641e5f\" class=\"plotly-graph-div\" style=\"height:525px; width:100%;\"></div>            <script type=\"text/javascript\">                require([\"plotly\"], function(Plotly) {                    window.PLOTLYENV=window.PLOTLYENV || {};                                    if (document.getElementById(\"a38933ef-d193-4008-bad2-a3233b641e5f\")) {                    Plotly.newPlot(                        \"a38933ef-d193-4008-bad2-a3233b641e5f\",                        [{\"alignmentgroup\":\"True\",\"bingroup\":\"x\",\"hovertemplate\":\"variable=SHEL.L<br>value=%{x}<br>count=%{y}<extra></extra>\",\"legendgroup\":\"SHEL.L\",\"marker\":{\"color\":\"#636efa\",\"pattern\":{\"shape\":\"\"}},\"name\":\"SHEL.L\",\"offsetgroup\":\"SHEL.L\",\"orientation\":\"v\",\"showlegend\":true,\"x\":[null,0.004759961999326823,0.00893345523841993,-0.013952272703824597,-0.0070748465401785365,-0.023431043946233188,0.01557454103524436,-0.004282917433295341,-0.03940616613435577,0.0056334312911021645,0.021401843030240286,0.008718903698347713,-0.0015334944997308364,-0.0001396769329637948,0.015081761201413357,-0.0152703759090409,-0.0023749821682351735,0.01904500362142514,-0.014978733312101977,0.006696411655569223,-0.0006929046797624627,-0.005547081036509249,-0.011434878609743238,0.0007053180741716236,0.02354095094043518,-0.0015149092727207991,0.01806893184267233,-0.008128980081914983,-0.005600294662837624,-0.013186779651013003,0.03633069974799219,0.019341872953744232,0.003953089871510107,0.0035437079477078637,0.04472928760012418,0.027666546017551585,0.005725363664387473,0.0023013862284988473,-0.004350423668806669,0.015050325296112055,0.01590336958878602,-0.02742465685324391,0.011981150381600747,0.021645509832229237,0.016504783826019054,-0.00322437672662923,-0.005891838874516164,0.013829197459689135,0.015589150854359302,-0.002144497081334684,0.005768619796322927,0.00427349048673209,-0.01668535768652013,-0.003985878712346569,0.015207008002961153,-0.001126252925446103,-0.0046228847764464565,-0.029678310567869626,-0.018795209017983816,0.0013087157476947553,-0.012832685487484286,0.0,-0.0021665717614541835,0.015319676968674534,0.0016632569307388767,-0.005456026235489575,0.0025044431555605318,-0.009754879145885353,-0.014175935225892444,0.021447766444943728,0.014555013158384256,-0.006702742289969477,-0.01692907255394227,-0.030948954060021183,0.003728097371058725,0.01411410574051608,0.01184228115755026,-0.004826254897338567,-0.056619802252898865,0.024804073298667628,-0.011161304416315132,0.019023462270133074,0.016303641052815898,0.011143812017094579,0.018166403994479996,0.00844531400362225,-0.002594966075381122,-0.013008515039724111,-0.005631381870788266,-0.0269912323835364,0.002724473321400911,-0.015561364000414635,0.02057461412165651,-0.020897357098955127,-0.01217829530072978,0.028596848435539668,0.005807503123592683,0.010933690926366646,-0.0010937226726944749,-0.008880763738404851,-0.006382732452580142,0.0017294927906887914,0.048711306956171097,0.012582256426024285,-0.0023226106801815805,0.01070889590091828,-0.0034550271129513144,0.016063821345376317,0.027297542842104283,-0.00011075799351389914,0.007972552764559548,0.012193822662797116,0.015953929653109045,-0.0014955276310417709,-0.01658286059438585,-0.016862488897039896,-0.03330755362897797,0.036401155811384145,0.055997293798049075,0.0036607050406576302,-0.012505210822533308,-0.004537766888723205,0.03180324434243942,-0.007294745376538292,0.014282744378615986,0.03928571428571437,0.012027491408934665,-0.031772980839194775,0.01603206412825653,-0.004684418145956659,0.010156056477582442,-0.016429622363903884,-0.010720518573921756,0.019909274193548487,-0.026735841653539705,-0.006296346227451566,-0.006540648353666301,0.005349256596675511,-0.005832407938429984,0.004940355031637589,0.02442643894878005,-0.014246438390402405,-0.010649087221095366,0.04946181445412612,-0.05728940113705738,-0.0501502068213413,0.08050614902392028,0.029530540131246896,-0.017161068889433695,-0.024295311135881792,0.003988100298129238,-0.018741050730982756,0.006850711458048275,-0.0187628991825064,0.032464829596933864,-0.012007721223557644,0.04052937954109659,-0.006434050977480843,0.038605230386052236,-0.0019184652278178005,0.014175876982220004,-0.023217247097844118,-0.019160805238903733,0.04426310583580606,-0.0014207909069381408,0.005216978894948987,-0.0016513328615239686,0.0023629489603025355,0.004950495049504955,-0.021346469622331665,0.039309683604985546,-0.015221402214022128,0.014285714285714235,0.007619487416301141,0.004582951420714965,0.01642335766423364,-0.008976660682226245,0.006340579710145011,-0.015301530153015275,-0.05187385740402195,0.02386117136659438,0.0030602636534839966,0.025580849565829622,-0.005491990846681949,0.01978831109065804,0.004061371841155292,0.030561797752808983,0.0028347143480156323,-0.03239834746684067,0.0038202247191010397,0.037161405865233865,-0.03280811569177644,0.028118723499218845,0.014760147601476037,0.005561497326203257,0.008508827908955574,-0.01771778105884836,0.0034356882112949183,0.021827519794564543,-0.009005235602094208,0.005283178360101504,0.010721042673954129,-0.009983361064891838,-0.0025210084033613356,0.001053074978938584,-0.006522196507468991,0.014188903007200437,0.008978910002088059,0.009933774834437026,-0.018237704918032782,-0.024003339595074058,-0.021599657827202745,0.008961748633879774,-0.01603119584055457,-0.05592250110083663,-0.04664179104477617,0.03253424657534243,0.019189765458422103,-0.034867503486750384,-0.022639691714836263,0.02883193691473629,0.011976047904191711,0.030532544378698123,0.003674781809829941,-0.023340961098398116,-0.006091846298031833,0.03866100895803859,-0.0848842487517022,-0.02073415120442712,0.030037509013676633,0.004917629702483328,-0.006361634450697373,-0.016005909874415192,0.002002002002001957,-0.03276722057239634,0.02747363690411686,0.0238238967610076,-0.0014727540500736325,0.008112094395280156,-0.01072909046574011,0.005422726152329416,0.014464329492522632,0.00845819236346057,0.01485741672657559,0.0030696576151121313,0.025894538606403117,-0.01973382285452041,0.014044943820224809,0.0020775623268698418,-0.017507486754204105,0.008206330597889888,0.005348837209302237,0.01064075873236181,-0.006866559853513365,0.02028117077667657,0.0006776598147730795,-0.014898419864559864,-0.006186984417965169,0.0062255014987318,0.016269477543538136,0.013979706877113918,-0.002001334222815232,0.03275401069518713,-0.010787486515641875,0.012213740458015376,0.005817711700064621,0.0023564695801199242,-0.02115836717247277,-0.007423580786026229,0.02243730752309725,0.010327022375215211,-0.01682282793867118,-0.019709768247779924,0.0030932390631903672,0.013215859030837107,0.009347826086956612,0.0025845358604350555,0.005800214822771155,-0.011319948739854757,-0.00777705767984449,0.0026126714565644082,0.014115092290988063,0.0014989293361884481,-0.05302544366046613,-0.0013547076089410748,0.01446981686638038,0.007800312012480548,-0.008624502432551973,0.0022306491188937017,0.023592254618295172,0.016742770167427645,0.017322497861419928,-0.027958797561488336,0.014489619377162644,-0.007674269878490736,-0.0178302900107411,-0.007436570428696387,0.014764213309828023,-0.014115092290988063,-0.001541850220264318,-0.0059563203176704604,0.008877052818464293,0.02067751869775636,0.010344827586206806,0.0004266211604095904,-0.023667377398720713,0.004367765887748343,0.0545770819743423,-0.0026804123711340333,-0.005995451726276579,0.02079866888519133,-0.010594947025264867,0.026153212520592994,0.014047762392133345,-0.01009301405105878,-0.02518992403038789,-0.0223543888433142,-0.02873924900356617,0.01943844492440605,-0.0008474576271186862,0.007209499575911771,-0.0018947368421052824,-0.0025311115798354322,-0.008458447874814978,-0.030710172744721653,0.04840484048404847,-0.010912906610702988,-0.0059410142159983526,0.010458911419423789,-0.0027460920997042226,0.01694556238085143,0.01812122474484479,-0.0253682487725041,-0.006926952141057985,0.004227436060029621,-0.007156388128815028,-0.01823192707229171,-0.002591232995033499,-0.010175362632604434,0.004155730533683233,0.009801786103245558,-0.009490940465918918,-0.0028310104529616353,-0.020310111378030182,0.01961658493089602,0.008963707914298125,0.020368364030335817,0.01677638564451045],\"xaxis\":\"x\",\"yaxis\":\"y\",\"type\":\"histogram\"}],                        {\"template\":{\"data\":{\"bar\":[{\"error_x\":{\"color\":\"#2a3f5f\"},\"error_y\":{\"color\":\"#2a3f5f\"},\"marker\":{\"line\":{\"color\":\"#E5ECF6\",\"width\":0.5},\"pattern\":{\"fillmode\":\"overlay\",\"size\":10,\"solidity\":0.2}},\"type\":\"bar\"}],\"barpolar\":[{\"marker\":{\"line\":{\"color\":\"#E5ECF6\",\"width\":0.5},\"pattern\":{\"fillmode\":\"overlay\",\"size\":10,\"solidity\":0.2}},\"type\":\"barpolar\"}],\"carpet\":[{\"aaxis\":{\"endlinecolor\":\"#2a3f5f\",\"gridcolor\":\"white\",\"linecolor\":\"white\",\"minorgridcolor\":\"white\",\"startlinecolor\":\"#2a3f5f\"},\"baxis\":{\"endlinecolor\":\"#2a3f5f\",\"gridcolor\":\"white\",\"linecolor\":\"white\",\"minorgridcolor\":\"white\",\"startlinecolor\":\"#2a3f5f\"},\"type\":\"carpet\"}],\"choropleth\":[{\"colorbar\":{\"outlinewidth\":0,\"ticks\":\"\"},\"type\":\"choropleth\"}],\"contour\":[{\"colorbar\":{\"outlinewidth\":0,\"ticks\":\"\"},\"colorscale\":[[0.0,\"#0d0887\"],[0.1111111111111111,\"#46039f\"],[0.2222222222222222,\"#7201a8\"],[0.3333333333333333,\"#9c179e\"],[0.4444444444444444,\"#bd3786\"],[0.5555555555555556,\"#d8576b\"],[0.6666666666666666,\"#ed7953\"],[0.7777777777777778,\"#fb9f3a\"],[0.8888888888888888,\"#fdca26\"],[1.0,\"#f0f921\"]],\"type\":\"contour\"}],\"contourcarpet\":[{\"colorbar\":{\"outlinewidth\":0,\"ticks\":\"\"},\"type\":\"contourcarpet\"}],\"heatmap\":[{\"colorbar\":{\"outlinewidth\":0,\"ticks\":\"\"},\"colorscale\":[[0.0,\"#0d0887\"],[0.1111111111111111,\"#46039f\"],[0.2222222222222222,\"#7201a8\"],[0.3333333333333333,\"#9c179e\"],[0.4444444444444444,\"#bd3786\"],[0.5555555555555556,\"#d8576b\"],[0.6666666666666666,\"#ed7953\"],[0.7777777777777778,\"#fb9f3a\"],[0.8888888888888888,\"#fdca26\"],[1.0,\"#f0f921\"]],\"type\":\"heatmap\"}],\"heatmapgl\":[{\"colorbar\":{\"outlinewidth\":0,\"ticks\":\"\"},\"colorscale\":[[0.0,\"#0d0887\"],[0.1111111111111111,\"#46039f\"],[0.2222222222222222,\"#7201a8\"],[0.3333333333333333,\"#9c179e\"],[0.4444444444444444,\"#bd3786\"],[0.5555555555555556,\"#d8576b\"],[0.6666666666666666,\"#ed7953\"],[0.7777777777777778,\"#fb9f3a\"],[0.8888888888888888,\"#fdca26\"],[1.0,\"#f0f921\"]],\"type\":\"heatmapgl\"}],\"histogram\":[{\"marker\":{\"pattern\":{\"fillmode\":\"overlay\",\"size\":10,\"solidity\":0.2}},\"type\":\"histogram\"}],\"histogram2d\":[{\"colorbar\":{\"outlinewidth\":0,\"ticks\":\"\"},\"colorscale\":[[0.0,\"#0d0887\"],[0.1111111111111111,\"#46039f\"],[0.2222222222222222,\"#7201a8\"],[0.3333333333333333,\"#9c179e\"],[0.4444444444444444,\"#bd3786\"],[0.5555555555555556,\"#d8576b\"],[0.6666666666666666,\"#ed7953\"],[0.7777777777777778,\"#fb9f3a\"],[0.8888888888888888,\"#fdca26\"],[1.0,\"#f0f921\"]],\"type\":\"histogram2d\"}],\"histogram2dcontour\":[{\"colorbar\":{\"outlinewidth\":0,\"ticks\":\"\"},\"colorscale\":[[0.0,\"#0d0887\"],[0.1111111111111111,\"#46039f\"],[0.2222222222222222,\"#7201a8\"],[0.3333333333333333,\"#9c179e\"],[0.4444444444444444,\"#bd3786\"],[0.5555555555555556,\"#d8576b\"],[0.6666666666666666,\"#ed7953\"],[0.7777777777777778,\"#fb9f3a\"],[0.8888888888888888,\"#fdca26\"],[1.0,\"#f0f921\"]],\"type\":\"histogram2dcontour\"}],\"mesh3d\":[{\"colorbar\":{\"outlinewidth\":0,\"ticks\":\"\"},\"type\":\"mesh3d\"}],\"parcoords\":[{\"line\":{\"colorbar\":{\"outlinewidth\":0,\"ticks\":\"\"}},\"type\":\"parcoords\"}],\"pie\":[{\"automargin\":true,\"type\":\"pie\"}],\"scatter\":[{\"marker\":{\"colorbar\":{\"outlinewidth\":0,\"ticks\":\"\"}},\"type\":\"scatter\"}],\"scatter3d\":[{\"line\":{\"colorbar\":{\"outlinewidth\":0,\"ticks\":\"\"}},\"marker\":{\"colorbar\":{\"outlinewidth\":0,\"ticks\":\"\"}},\"type\":\"scatter3d\"}],\"scattercarpet\":[{\"marker\":{\"colorbar\":{\"outlinewidth\":0,\"ticks\":\"\"}},\"type\":\"scattercarpet\"}],\"scattergeo\":[{\"marker\":{\"colorbar\":{\"outlinewidth\":0,\"ticks\":\"\"}},\"type\":\"scattergeo\"}],\"scattergl\":[{\"marker\":{\"colorbar\":{\"outlinewidth\":0,\"ticks\":\"\"}},\"type\":\"scattergl\"}],\"scattermapbox\":[{\"marker\":{\"colorbar\":{\"outlinewidth\":0,\"ticks\":\"\"}},\"type\":\"scattermapbox\"}],\"scatterpolar\":[{\"marker\":{\"colorbar\":{\"outlinewidth\":0,\"ticks\":\"\"}},\"type\":\"scatterpolar\"}],\"scatterpolargl\":[{\"marker\":{\"colorbar\":{\"outlinewidth\":0,\"ticks\":\"\"}},\"type\":\"scatterpolargl\"}],\"scatterternary\":[{\"marker\":{\"colorbar\":{\"outlinewidth\":0,\"ticks\":\"\"}},\"type\":\"scatterternary\"}],\"surface\":[{\"colorbar\":{\"outlinewidth\":0,\"ticks\":\"\"},\"colorscale\":[[0.0,\"#0d0887\"],[0.1111111111111111,\"#46039f\"],[0.2222222222222222,\"#7201a8\"],[0.3333333333333333,\"#9c179e\"],[0.4444444444444444,\"#bd3786\"],[0.5555555555555556,\"#d8576b\"],[0.6666666666666666,\"#ed7953\"],[0.7777777777777778,\"#fb9f3a\"],[0.8888888888888888,\"#fdca26\"],[1.0,\"#f0f921\"]],\"type\":\"surface\"}],\"table\":[{\"cells\":{\"fill\":{\"color\":\"#EBF0F8\"},\"line\":{\"color\":\"white\"}},\"header\":{\"fill\":{\"color\":\"#C8D4E3\"},\"line\":{\"color\":\"white\"}},\"type\":\"table\"}]},\"layout\":{\"annotationdefaults\":{\"arrowcolor\":\"#2a3f5f\",\"arrowhead\":0,\"arrowwidth\":1},\"autotypenumbers\":\"strict\",\"coloraxis\":{\"colorbar\":{\"outlinewidth\":0,\"ticks\":\"\"}},\"colorscale\":{\"diverging\":[[0,\"#8e0152\"],[0.1,\"#c51b7d\"],[0.2,\"#de77ae\"],[0.3,\"#f1b6da\"],[0.4,\"#fde0ef\"],[0.5,\"#f7f7f7\"],[0.6,\"#e6f5d0\"],[0.7,\"#b8e186\"],[0.8,\"#7fbc41\"],[0.9,\"#4d9221\"],[1,\"#276419\"]],\"sequential\":[[0.0,\"#0d0887\"],[0.1111111111111111,\"#46039f\"],[0.2222222222222222,\"#7201a8\"],[0.3333333333333333,\"#9c179e\"],[0.4444444444444444,\"#bd3786\"],[0.5555555555555556,\"#d8576b\"],[0.6666666666666666,\"#ed7953\"],[0.7777777777777778,\"#fb9f3a\"],[0.8888888888888888,\"#fdca26\"],[1.0,\"#f0f921\"]],\"sequentialminus\":[[0.0,\"#0d0887\"],[0.1111111111111111,\"#46039f\"],[0.2222222222222222,\"#7201a8\"],[0.3333333333333333,\"#9c179e\"],[0.4444444444444444,\"#bd3786\"],[0.5555555555555556,\"#d8576b\"],[0.6666666666666666,\"#ed7953\"],[0.7777777777777778,\"#fb9f3a\"],[0.8888888888888888,\"#fdca26\"],[1.0,\"#f0f921\"]]},\"colorway\":[\"#636efa\",\"#EF553B\",\"#00cc96\",\"#ab63fa\",\"#FFA15A\",\"#19d3f3\",\"#FF6692\",\"#B6E880\",\"#FF97FF\",\"#FECB52\"],\"font\":{\"color\":\"#2a3f5f\"},\"geo\":{\"bgcolor\":\"white\",\"lakecolor\":\"white\",\"landcolor\":\"#E5ECF6\",\"showlakes\":true,\"showland\":true,\"subunitcolor\":\"white\"},\"hoverlabel\":{\"align\":\"left\"},\"hovermode\":\"closest\",\"mapbox\":{\"style\":\"light\"},\"paper_bgcolor\":\"white\",\"plot_bgcolor\":\"#E5ECF6\",\"polar\":{\"angularaxis\":{\"gridcolor\":\"white\",\"linecolor\":\"white\",\"ticks\":\"\"},\"bgcolor\":\"#E5ECF6\",\"radialaxis\":{\"gridcolor\":\"white\",\"linecolor\":\"white\",\"ticks\":\"\"}},\"scene\":{\"xaxis\":{\"backgroundcolor\":\"#E5ECF6\",\"gridcolor\":\"white\",\"gridwidth\":2,\"linecolor\":\"white\",\"showbackground\":true,\"ticks\":\"\",\"zerolinecolor\":\"white\"},\"yaxis\":{\"backgroundcolor\":\"#E5ECF6\",\"gridcolor\":\"white\",\"gridwidth\":2,\"linecolor\":\"white\",\"showbackground\":true,\"ticks\":\"\",\"zerolinecolor\":\"white\"},\"zaxis\":{\"backgroundcolor\":\"#E5ECF6\",\"gridcolor\":\"white\",\"gridwidth\":2,\"linecolor\":\"white\",\"showbackground\":true,\"ticks\":\"\",\"zerolinecolor\":\"white\"}},\"shapedefaults\":{\"line\":{\"color\":\"#2a3f5f\"}},\"ternary\":{\"aaxis\":{\"gridcolor\":\"white\",\"linecolor\":\"white\",\"ticks\":\"\"},\"baxis\":{\"gridcolor\":\"white\",\"linecolor\":\"white\",\"ticks\":\"\"},\"bgcolor\":\"#E5ECF6\",\"caxis\":{\"gridcolor\":\"white\",\"linecolor\":\"white\",\"ticks\":\"\"}},\"title\":{\"x\":0.05},\"xaxis\":{\"automargin\":true,\"gridcolor\":\"white\",\"linecolor\":\"white\",\"ticks\":\"\",\"title\":{\"standoff\":15},\"zerolinecolor\":\"white\",\"zerolinewidth\":2},\"yaxis\":{\"automargin\":true,\"gridcolor\":\"white\",\"linecolor\":\"white\",\"ticks\":\"\",\"title\":{\"standoff\":15},\"zerolinecolor\":\"white\",\"zerolinewidth\":2}}},\"xaxis\":{\"anchor\":\"y\",\"domain\":[0.0,1.0],\"title\":{\"text\":\"value\"}},\"yaxis\":{\"anchor\":\"x\",\"domain\":[0.0,1.0],\"title\":{\"text\":\"count\"}},\"legend\":{\"title\":{\"text\":\"variable\"},\"tracegroupgap\":0},\"margin\":{\"t\":60},\"barmode\":\"relative\"},                        {\"responsive\": true}                    ).then(function(){\n",
       "                            \n",
       "var gd = document.getElementById('a38933ef-d193-4008-bad2-a3233b641e5f');\n",
       "var x = new MutationObserver(function (mutations, observer) {{\n",
       "        var display = window.getComputedStyle(gd).display;\n",
       "        if (!display || display === 'none') {{\n",
       "            console.log([gd, 'removed!']);\n",
       "            Plotly.purge(gd);\n",
       "            observer.disconnect();\n",
       "        }}\n",
       "}});\n",
       "\n",
       "// Listen for the removal of the full notebook cells\n",
       "var notebookContainer = gd.closest('#notebook-container');\n",
       "if (notebookContainer) {{\n",
       "    x.observe(notebookContainer, {childList: true});\n",
       "}}\n",
       "\n",
       "// Listen for the clearing of the current output cell\n",
       "var outputEl = gd.closest('.output');\n",
       "if (outputEl) {{\n",
       "    x.observe(outputEl, {childList: true});\n",
       "}}\n",
       "\n",
       "                        })                };                });            </script>        </div>"
      ]
     },
     "metadata": {},
     "output_type": "display_data"
    }
   ],
   "source": [
    "#histogram for shell percentage change in close prices. Shows distribution of how close price has changed\n",
    "df['Close']['SHEL.L'].pct_change().plot(kind='hist')"
   ]
  },
  {
   "cell_type": "code",
   "execution_count": null,
   "id": "85002959",
   "metadata": {},
   "outputs": [],
   "source": []
  }
 ],
 "metadata": {
  "kernelspec": {
   "display_name": "Python 3 (ipykernel)",
   "language": "python",
   "name": "python3"
  },
  "language_info": {
   "codemirror_mode": {
    "name": "ipython",
    "version": 3
   },
   "file_extension": ".py",
   "mimetype": "text/x-python",
   "name": "python",
   "nbconvert_exporter": "python",
   "pygments_lexer": "ipython3",
   "version": "3.9.12"
  }
 },
 "nbformat": 4,
 "nbformat_minor": 5
}
